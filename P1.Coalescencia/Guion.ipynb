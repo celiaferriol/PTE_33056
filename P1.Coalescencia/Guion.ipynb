{
 "cells": [
  {
   "cell_type": "markdown",
   "id": "b6c56884-287c-47ec-83cf-9e372a1c62cd",
   "metadata": {},
   "source": [
    "# Pràctica amb ordinador 1. Teoria de la coalescència\n",
    "\n",
    "## Preparació de l'ordinador\n",
    "Si intentes utilitzar aquest arxiu al teu propi ordinador, t'has d'assegurar que tens instal·lat `jupyter lab`, `R`, i el paquet d'`R` `learnPopGen` [1]. Aleshores, executa el bloc següent per activar les funcions necessàries. Si reinicies el *kernel* en algun moment, caldrà tornar a executar aquest bloc."
   ]
  },
  {
   "cell_type": "code",
   "execution_count": null,
   "id": "a7c1b282-3854-48db-9c8d-9d5f9d9113d3",
   "metadata": {},
   "outputs": [],
   "source": [
    "# El paquet \"learnPopGen\" ha d'estar prèviament instal·lat.\n",
    "# El pots instal·lar amb el comandament: install.packages('learnPopGen')\n",
    "library('learnPopGen')\n",
    "# A més, l'script \"genealogia.R\" conté les funcions \"genealogia()\" i \"mrca()\".\n",
    "source('genealogia.R')"
   ]
  },
  {
   "cell_type": "markdown",
   "id": "8bde7d36-0d57-48b1-b859-a375525626f2",
   "metadata": {},
   "source": [
    "## Com utilitzar aquest document\n",
    "Açò és un quadern Jupyter que combina text i comandaments del llenguatge informàtic `R` que es poden executar. Cal tenir present el següent:\n",
    "\n",
    "- Este document és completament editable: pots introduir canvis, personalitzar-lo, ampliar-lo, i fins i tot destruir-lo accidentalment!\n",
    "- Cada 2 minuts es guarda automàticament la versió actual en un *checkpoint*, i pots recuperar l'últim *checkpoint* amb el menú `File -> Revert Notebook to Checkpoint`.\n",
    "- També pots guardar els canvis amb `File -> Save Notebook` o amb la combinació de tecles `Ctrl+S`.\n",
    "- Els blocs de text com aquest es poden editar fent un doble click a sobre. Observaràs que s'utilitza la sintaxi *markdown* per transformar el text pla en HTML.\n",
    "- Prem el botó de *play* sobre estes línies, o ves a `Run -> Run Selected Cell`, o prem `Shift+Enter` per *executar* una cel·la o bloc. Si és un cel·la de text que estaves editant, tornarà a mostrar-se en un format visualment més còmode.\n",
    "- És recomanable executar els blocs de codi en ordre: perquè funcione bé un bloc de codi, és possible que s'haja d'haver executat l'anterior. Pots executar el document sencer en `Run -> Run All Cells`, amb l'opció de reiniciar el *kernel* abans, la qual cosa esborraria els resultats d'execucions anteriors.\n",
    "\n",
    "## Objectius de la pràctica\n",
    "- Familiaritzar-nos amb el concepte i les característiques del procés de **coalescència**.\n",
    "- Realitzar simulacions de la coalescència i estimar alguns paràmetres.\n",
    "- Comparar els paràmetres estimats amb els esperats a partir de la teoria.\n",
    "\n",
    "## Exercici 1. Nombre de descendents vius\n",
    "Utilitza la funció `coalescent.plot()` per simular i representar gràficament una població de Fisher-Wright de 20 individus haploides (`n=20`) durant 40 generacions (`ngen = 40`). I contesta (sobre aquest mateix document) les preguntes següents."
   ]
  },
  {
   "cell_type": "code",
   "execution_count": null,
   "id": "b8785196-ea0a-4737-8c1b-4aa0304b219d",
   "metadata": {},
   "outputs": [],
   "source": [
    "sim01 <- coalescent.plot(n = 20, ngen = 40, sleep = 0)"
   ]
  },
  {
   "cell_type": "markdown",
   "id": "6d99f6b8-07a4-499e-81c7-9068e5a17c7d",
   "metadata": {},
   "source": [
    "### 1.1 Quina és la mitjana del nombre de descendents d'un individu de la generació zero que estan vius (presents) a la generació 40? És a dir, quants descendents vius d'ací a 40 generacions pot esperar que li queden, un individu qualsevol de la generació actual?\n",
    "[Ací la teua resposta]\n",
    "\n",
    "### 1.2 El resultat, depén del nombre de generacions que deixem passar?\n",
    "[Ací la teua resposta]\n",
    "\n",
    "### 1.3 Depén de la mida de la població?\n",
    "[Ací la teua resposta]\n",
    "\n",
    "### 1.4 És la mitjana un valor representatiu dels valors observats?\n",
    "[Ací la teua resposta]\n",
    "\n",
    "### 1.5 Llegeix el text següent i pensa quina opinió et mereix.\n",
    "\n",
    "> Suposa que la població de Dinamarca compleix les suposicions: 6 milions de persones, un nombre\n",
    "indefinit de generacions en el passat, sense estructura social i amb un temps de generació de 25\n",
    "anys. Per estar pràcticament segurs que un individu d’aleshores o bé no té cap descendent en\n",
    "el present o bé és l’ancestre de tots en el present, ens hauríem de remuntar 966 anys. Com que\n",
    "el rey Gorm (primer rei danés, mort l’any 958) té descendents en la població actual, ha de ser\n",
    "necessàriament ancestre de tot el regne.\n",
    "\n",
    "<div style=\"text-align: right\"> Hein, J., Schierup, M.H. i Wiuf, C. 2005, p. 251 </div>"
   ]
  },
  {
   "cell_type": "markdown",
   "id": "8c3d6824-033c-4fa3-9a02-07129db3102e",
   "metadata": {},
   "source": [
    "## Exercici 2. Temps de coalescència de 2 individus\n",
    "L’objectiu és estimar la mitjana i la variància del nombre de generacions que ens hem de remuntar en el\n",
    "passat per trobar l’ancestre comú més recent de dos individus actuals triats a l’atzar. Per obtenir uns\n",
    "valors representatius cal utilitzar almenys 10 simulacions diferents. Simularem poblacions de 20 individus\n",
    "durant 60 generacions. Per triar 2 individus aleatoris entre 20, utilitza la funció `sample(1:20, 2)`. Per\n",
    "facilitar la identificació de l’ancestre comú més recent, utilitza la funció `genealogia()`, que necessita que especifiquem dos paràmetres: el nom de la simulació realitzada i els individus triats aleatòriament, dels quals volem conéixer la genealogia:"
   ]
  },
  {
   "cell_type": "code",
   "execution_count": null,
   "id": "14ee23c6-979a-45aa-9e83-c462605b2fba",
   "metadata": {},
   "outputs": [],
   "source": [
    "# Aquest és el bloc que has d'executar almenys 10 vegades.\n",
    "# Cal guardar el resultat de \"coalescent.plot()\" en un objecte\n",
    "# (\"sim02\" o com li vulgues dir), per poder afegir al gràfic la\n",
    "# genealogia dels individus triats a l'atzar.\n",
    "\n",
    "sim02  <- coalescent.plot(n = 20, ngen = 60, sleep = 0)\n",
    "mostra <- sample(1:20, 2)\n",
    "genealogia(sim02, mostra)"
   ]
  },
  {
   "cell_type": "markdown",
   "id": "2667ce4f-c616-4565-b433-8ef1536abcd0",
   "metadata": {
    "tags": []
   },
   "source": [
    "Si en alguna de les simulacions, 60 generacions enrere encara existien 2 ancestres diferents per als dos individus seleccionats aleatòriament, cal fer el següent:\n",
    "\n",
    "1. Simular una altra vegada 60 generacions, que representaran les ancestrals a les de la simulació original.\n",
    "2. Identificar l'ancestre comú més recent d'*altres dos* individus triats novament a l'atzar (que representen els ancestres respectius dels que havies triat primer).\n",
    "3. I afegir a 60 el nombre de generacions que t'has hagut de remuntar en la segona simulació per trobar aquell ancestre comú més recent.\n",
    "\n",
    "### 2.1 Quines són la mitjana i la variança del nombre de generacions que t'has hagut de remuntar en el passat per trobar l'ancestre comú més recent de dos individus haploides triats a l'atzar en les simulacions?"
   ]
  },
  {
   "cell_type": "code",
   "execution_count": null,
   "id": "80854508-26a5-4b21-b864-894642801113",
   "metadata": {},
   "outputs": [],
   "source": [
    "# Pots estimar la mitjana i la variança dels números obtinguts ací,\n",
    "# substituint els \"NA\" pels valors obtinguts:\n",
    "Valors_obtinguts <- c(NA, NA, NA, NA, NA, NA, NA, NA, NA, NA)\n",
    "mean(Valors_obtinguts)\n",
    "var(Valors_obtinguts)"
   ]
  },
  {
   "cell_type": "markdown",
   "id": "a5d86aae-1b92-41d0-8d9e-c2b91d984985",
   "metadata": {},
   "source": [
    "### 2.2 Quines haurien de ser la mitjana i la variança d'acord amb la teoria, i com es comparen amb els valors estimats?"
   ]
  },
  {
   "cell_type": "markdown",
   "id": "9b698cbc-1fd6-4b53-99a8-bbec23a03df7",
   "metadata": {},
   "source": []
  },
  {
   "cell_type": "markdown",
   "id": "ec1e6bfc-3488-4237-a2b0-17ff29c9a248",
   "metadata": {},
   "source": [
    "### 2.3 Si la mida poblacional efectiva de la població humana fóra de 10000 individus, quantes generacions ens hauríem de remuntar en el passat per trobar l'ancestre comú més recent de l'ADN mitocondrial de dos individus triats a l'atzar?"
   ]
  },
  {
   "cell_type": "markdown",
   "id": "aa119b46-6791-4167-aa61-c374afa45065",
   "metadata": {},
   "source": []
  },
  {
   "cell_type": "markdown",
   "id": "44d316ac-9cf4-4a9b-aa03-ef6947f0a381",
   "metadata": {
    "tags": []
   },
   "source": [
    "### 2.4 I per trobar l'ancestre comú més recent de dues còpies d'un gen nuclear?"
   ]
  },
  {
   "cell_type": "markdown",
   "id": "a140d11b-89f3-4ab8-8798-b726831d302e",
   "metadata": {},
   "source": []
  },
  {
   "cell_type": "markdown",
   "id": "52de49d4-b3fb-4645-996f-4bf7b99f8667",
   "metadata": {},
   "source": [
    "## Exercici 3. Temps de coalescència de 5 individus.\n",
    "Cal tornar a fer simulacions, però ara buscant l'ancestre comú més recent de 5 individus triats a l'atzar en una població de 20 individus. Pots fer el mostreig amb la funció `sample(1:20, 5)`. Aquesta vegada, per ajudar-te a comptar les generacions, pots utilitzar la funció `mrca()`, que necessita dos arguments: la simulació obtinguda amb `coalescent.plot()` i la mostra dels 5 individus triats a l'atzar. Aprofitant que no cal identificar l'ancestre comú en el gràfic, pots simular 100 (o més) generacions, per assegurar-te que trobaràs l'ancestre comú dels 5 individus en una sola simulació.\n",
    "\n",
    "Si, a pesar d'això, en la generació més antiga de la simulació encara hi havia més d'un anecestre dels 5 individus triats a l'atzar, caldrà afegir una segona simulació: la de les 100 generacions anteriors. I aleshores caldrà triar a l'atzar tants individus com ancestres quedaven (segurament, 2), i trobar el seu ancestre comú més recent en aquesta simulació addicional. Finalment sumem els dos números: el nombre de generacions simulades inicialment i el nombre de generacions més remotes necessàries per arribar a la coalescència."
   ]
  },
  {
   "cell_type": "code",
   "execution_count": null,
   "id": "4fa57fee-2cce-475d-ac14-ed5f86016a17",
   "metadata": {},
   "outputs": [],
   "source": [
    "# Executa-ho almenys 10 vegades i pren nota dels resultats.\n",
    "sim03  <- coalescent.plot(n = 20, ngen = 100, sleep = 0)\n",
    "mostra <- sample(1:20, 5)\n",
    "genealogia(sim03, mostra)\n",
    "mrca(sim03, mostra)"
   ]
  },
  {
   "cell_type": "markdown",
   "id": "3e75cbbe-35b6-4515-8e6e-65a54635f33c",
   "metadata": {},
   "source": [
    "### 3.1 Quines són la mitjana i la variança del nombre de generacions que t'has hagut de remuntar en les genealogies simulades per trobar l'ancestre comú més recent de 5 individus triats a l'atzar?"
   ]
  },
  {
   "cell_type": "code",
   "execution_count": null,
   "id": "cb381f60-e1b1-4255-a3f1-a089c2f75a09",
   "metadata": {},
   "outputs": [],
   "source": [
    "# Pots ajudar-te d'aquesta plantilla.\n",
    "Valors_obtinguts <- c(NA, NA, NA, NA, NA, NA, NA, NA, NA, NA)\n",
    "mean(Valors_obtinguts)\n",
    "var(Valors_obtinguts)"
   ]
  },
  {
   "cell_type": "markdown",
   "id": "29d2203d-acdc-4eed-811b-f196958376f5",
   "metadata": {},
   "source": [
    "### 3.2 Com es compara el resultat empíric amb l'esperança teòrica del nombre de generacions que cal retrocedir en el passat per trobar l'ancestre comú més recent de 5 individus haploides?"
   ]
  },
  {
   "cell_type": "markdown",
   "id": "15e8dfc1-bf9b-471c-90ce-ad65bdd6f289",
   "metadata": {},
   "source": []
  },
  {
   "cell_type": "markdown",
   "id": "6dd2cba9-a435-486a-ba4f-bc8ac9645153",
   "metadata": {},
   "source": [
    "### 3.3 Quina era la fòrmula de l'esperança teòrica del temps de coalescència de tota una espècie?"
   ]
  },
  {
   "cell_type": "markdown",
   "id": "b65efab9-b84c-44f0-96d0-9d8a3f132e25",
   "metadata": {},
   "source": []
  },
  {
   "cell_type": "markdown",
   "id": "56d3a25c-f826-4c3a-8d63-f06ccba5f49e",
   "metadata": {},
   "source": [
    "### 3.4 Quin resultat donaria per a la coalescència global del cromosoma mitocondrial humà? Utilitza un temps de generació de 20 anys per traduir generacions a anys."
   ]
  },
  {
   "cell_type": "markdown",
   "id": "e9015ae5-5feb-486a-8b90-aa475b382c8d",
   "metadata": {},
   "source": []
  },
  {
   "cell_type": "markdown",
   "id": "ee4fe79e-4066-42a1-992a-09e14460d35d",
   "metadata": {},
   "source": [
    "### 3.5 I quin és el temps de coalescència global esperat per un gen nuclear humà?"
   ]
  },
  {
   "cell_type": "markdown",
   "id": "580141d6-a19a-47a9-92f5-48690dd934b9",
   "metadata": {},
   "source": []
  },
  {
   "cell_type": "markdown",
   "id": "435c0636-5441-4641-b2d4-9daf4e92dd82",
   "metadata": {},
   "source": [
    "### 3.6 Compara els temps de coalescència de 2 individus ($T_{MRCA}(2)$) i de tota l'espècie ($T_{MRCA}(N_e)$): et sembla que estan ben proporcionats?"
   ]
  },
  {
   "cell_type": "markdown",
   "id": "e27c56c6-1969-4b15-ad70-d5db34b84aa2",
   "metadata": {},
   "source": []
  },
  {
   "cell_type": "markdown",
   "id": "4db2c06d-2890-4e8d-a1d6-b7bb2ab46d7e",
   "metadata": {},
   "source": [
    "## Representació dinàmica de la coalescència\n",
    "Si queda temps, visita l'enllaç [http://bedford.io/projects/coaltrace](http://bedford.io/projects/coaltrace) i observa la representació dinàmica i en temps continu del procés de coalescència. Les boles de colors representen individus i les línies que deixen enrere, relacions d'ancestralitat. Els llinatges extingits desapareixen. En tot moment veiem un arbre amb la forma típica del procés de coalescència, amb aproximadament la meitat de tota la profunditat de l'arbre ocupada per només dos llinatges. Si fas *click* sobre el gràfic, activaràs els comandaments. Aleshores, prem la tecla *H* per veure les opcions i prova l'efecte de modificar els paràmetres següents sobre la forma de l'arbre:\n",
    "\n",
    "- El temps de generació.\n",
    "- La mida poblacional.\n",
    "- Les mutacions.\n",
    "- La migració.\n",
    "\n",
    "# Apèndix 1. Resum de la teoria\n",
    "En una població de Fisher-Wright de mida $N$, on $N$ és el nombre de \\emph{gàmetes} que passen d'una generació a la següent, el temps mig fins la primera coalescència entre $n$ gens mostrejats a l'atzar és:\n",
    "\n",
    "$$E(T_n) = \\frac{N}{\\binom{n}{2}} = \\frac{2N}{n(n-1)}$$\n",
    "\n",
    "I la variància seria:\n",
    "\n",
    "$$\\sigma^2(T_n) = \\frac{4N^2}{(n(n-1))^2}$$\n",
    "\n",
    "Per tant, el temps esperat per trobar l'ancestre comú de dos gens en una població de $N$ gàmetes és $T_2=N$ generacions, amb una variància $\\sigma^2(T_2)=N^2$.\n",
    "\n",
    "El temps mig fins la coalescència completa d'una mostra de $n$ gens i la seua variància són:\n",
    "\n",
    "$$E(T_{MRCA}(n)) = \\sum_{j=2}^n E(T_j) = \\sum_{j=2}^n \\frac{2N}{j(j-1)}$$\n",
    "\n",
    "$$ = 2N\\left ( 1 - \\frac{1}{n}\\right )$$\n",
    "\n",
    "$$\\sigma^2(T_{MRCA}(n)) = 4N\\sum_{j=2}^n \\frac{1}{j^2(j-1)^2}$$\n",
    "\n",
    "$$ \\sim 1.16N$$\n",
    "\n",
    "El temps mig fins la coalescència de tots els $N$ gens de la població, en principi és: $E(T_{MRCA}(N))=2N-2$, d'acord amb la fòrmula anterior. A pesar que les fòrmules estan pensades per a mostres molt menors que la mida real de la població, aquest resultat és adequat, perquè el nombre de llinatges es redueix ràpidament durant les primeres generacions.\n",
    "\n",
    "Havent definit $N$ com el nombre de gàmetes, les fòrmules anteriors són vàlides tant per a poblacions haploides com diploides. Però en poblacions diploides és més comú referir-se al nombre d'individus. Per tant, es pot substituir $N=2N_e$, on $N_e$ és el nombre efectiu d'individus. En qualsevol cas, es pot generalitzar a unitats de coalescència, definides com el nombre de generacions esperades fins la coalescència de 2 gens. És a dir, si $T_2=1$ unitats de coalescència, aleshores, $E(T_n)=\\frac{2}{n(n-1)}$, $E(T_{MRCA}(n))=2(1 - 1/n)$ i $E(T_{MRCA}(N)) \\sim 2$. Així les fòrmules s'apliquen a poblacions de qualsevol mida. La mida poblacional només afecta l'escala temporal. En totes les poblacions de Fisher-Wright s'espera que l'ancestre comú a tots els individus es remonta només al doble del nombre de generacions necessàries per trobar l'ancestre comú de dos individus triats a l'atzar.\n",
    "\n",
    "## Bibliografia\n",
    "[1] Revell LJ (2019). *learnPopGen: Population Genetic Simulations & Numerical Analysis.* R package version 1.0.4, [https://CRAN.R-project.org/package=learnPopGen](https://CRAN.R-project.org/package=learnPopGen)\n",
    "\n",
    "[2] Hein, J., Schierup, M.H. i Wiuf, C. 2005. *Gene genealogies, variation and evolution; a primer in coalescent theory*. Oxford University Press.\n"
   ]
  }
 ],
 "metadata": {
  "kernelspec": {
   "display_name": "R",
   "language": "R",
   "name": "ir"
  },
  "language_info": {
   "codemirror_mode": "r",
   "file_extension": ".r",
   "mimetype": "text/x-r-source",
   "name": "R",
   "pygments_lexer": "r",
   "version": "4.3.2"
  }
 },
 "nbformat": 4,
 "nbformat_minor": 5
}
