{
 "cells": [
  {
   "cell_type": "markdown",
   "id": "db0edfcf-bd72-431a-8499-a7b00bcfbf6e",
   "metadata": {},
   "source": [
    "# Práctica con el ordenador 3. Filogenia mitocondrial\n",
    "\n",
    "## Preparación del ordenador\n",
    "En esta práctica utilizaremos los paquetes `DECIPHER` (Wright, 2016) y `phangorn` (Schliep, 2011) de `R`. Asegúrate de haberlos instalado, si no los tienes instalados ya, puedes hacerlo ejecutando los comandos siguientes en la consola de `R`:\n",
    "\n",
    "> `install.packages('phangorn')`\n",
    "\n",
    "> `install.packages('BiocManager')`\n",
    "\n",
    "> `BiocManager::install('DECIPHER')`\n",
    "\n",
    "A continuación carga los paquetes.\n"
   ]
  },
  {
   "cell_type": "code",
   "execution_count": 1,
   "id": "2ae2cdb3-4114-457a-865b-c0f354d0bdb8",
   "metadata": {},
   "outputs": [],
   "source": [
    "# La función \"supressMessages()\" nos ahorra información innecesaria.\n",
    "suppressMessages(library('phangorn'))\n",
    "suppressMessages(library('DECIPHER'))"
   ]
  },
  {
   "cell_type": "markdown",
   "id": "f595da42-c06d-4ee1-87e8-3bdc48689bb6",
   "metadata": {},
   "source": [
    "## Objetivo\n",
    "El objetivo de esta práctica es reproducir la filogenia de los primates catarrinos a partir de las secuencias mitocondriales completas de 13 individuos de 9 especies diferentes, tal y como aparecen en la figura siguiente, procedente de la web PhyloTree:\n",
    "[http://www.phylotree.org/resources/mtDNA_human_relatives.htm](http://www.phylotree.org/resources/mtDNA_human_relatives.htm).\n",
    "\n",
    "![](Catarrhini_phylogeny.png)\n",
    "\n",
    "EL procedimiento incluye los pasos siguientes:\n",
    "\n",
    "1. Descargar las secuencias nucleotídicas de los genomas mitocondriales.\n",
    "2. Alinearlos con el método implementado en el paquete `DECIPHER`.\n",
    "3. Obtener la filogenia mediante algún método rápido como el *Neighbor-Joining*.\n",
    "\n",
    "## Ejercicio 1. Descarga de las secuencias\n",
    "\n",
    "La tabla siguiente indica los **números de acceso** de las secuencias que necesitamos y la especie a la cual pertenece cada una.\n",
    "\n",
    "| Número de acceso       | Especie |\n",
    "| ---------------------- | ------- |\n",
    "| [Y18001](https://www.ebi.ac.uk/ena/browser/view/Y18001) | *Papio hamadryas* |\n",
    "| [AJ309865](https://www.ebi.ac.uk/ena/browser/view/AJ309865) | *Macaca sylvanus* |\n",
    "| [AY612638](https://www.ebi.ac.uk/ena/browser/view/AY612638) | *Macaca mulata* |\n",
    "| [X99256](https://www.ebi.ac.uk/ena/browser/view/X99256) | *Hylobates lar* |\n",
    "| [D38115](https://www.ebi.ac.uk/ena/browser/view/D38115) | *Pongo pygmaeus* |\n",
    "| [D38114](https://www.ebi.ac.uk/ena/browser/view/D38114) | *Gorilla gorilla* |\n",
    "| [X93347](https://www.ebi.ac.uk/ena/browser/view/X93347) | *Gorilla gorilla* |\n",
    "| [GU189661](https://www.ebi.ac.uk/ena/browser/view/GU189661) | *Pan paniscus* |\n",
    "| [D38113](https://www.ebi.ac.uk/ena/browser/view/D38113) | *Pan troglodytes* |\n",
    "| [X93335](https://www.ebi.ac.uk/ena/browser/view/X93335) | *Pan trglodytes verus* |\n",
    "| [AM948965](https://www.ebi.ac.uk/ena/browser/view/AM948965) | *H. sapiens neanderthalensis* |\n",
    "| [J01415](https://www.ebi.ac.uk/ena/browser/view/J01415) | *Homo sapiens* (Cambridge) |\n",
    "| [AF347015](https://www.ebi.ac.uk/ena/browser/view/AF347015) | *Homo sapiens* (Yoruba)|\n",
    "\n",
    "Puedes descargar las secuencias en formato FASTA de una en una siguiendo los enlaces de la tabla anterior. Es necesario guardarlas todas en el mismo archivo de texto plano, respetando el formato FASTA. Alternativamente se pueden utilizar los comandos siguientes para descargar en la carpeta de trabajo un archivo FASTA con las 13 secuencias:"
   ]
  },
  {
   "cell_type": "code",
   "execution_count": null,
   "id": "9ad81fe2-19fd-4db7-862f-2b29bfeb1e12",
   "metadata": {},
   "outputs": [],
   "source": [
    "Numeros <- c('Y18001', 'AJ309865', 'AY612638', 'X99256', 'D38115',\n",
    "             'D38114', 'X93347', 'GU189661', 'D38113', 'X93335',\n",
    "             'AM948965', 'J01415', 'AF347015')\n",
    "API     <- 'https://www.ebi.ac.uk/ena/browser/api/fasta/'\n",
    "URL     <- paste0(API, paste(Numeros, collapse = ','))\n",
    "URL\n",
    "download.file(URL, destfile = 'primates.fasta')"
   ]
  },
  {
   "cell_type": "markdown",
   "id": "3d8672e1-6ca3-42bf-9b15-407a19edb2fc",
   "metadata": {},
   "source": [
    "Ejecuta el código anterior y comprueba que en la carpeta de trabajo se ha descargado un archivo llamado `primates.fasta`. Puedes abrir el archivo para inspeccionarlo, pero no es recomendable editar manualmente los archivos de datos.\n",
    "\n",
    "## Ejercicio 2. Alineamiento\n",
    "Para alinear las 13 secuencias necesitamos haber cargado el paquete `DECIPHER`, leer las secuencias y guardarlas en un objeto dentro de la sesión de `R`, y aplicar la función `AlignSeqs()` para crear un nuevo objeto con las secuencias alineadas. Comenzamos por leer las secuencias y guardarlas en un *objeto* o variable de `R`:"
   ]
  },
  {
   "cell_type": "code",
   "execution_count": null,
   "id": "1d55f41f-005f-46f7-be07-8396d3bc01f6",
   "metadata": {},
   "outputs": [],
   "source": [
    "sinAlinear <- readDNAStringSet('primates.fasta')\n",
    "sinAlinear"
   ]
  },
  {
   "cell_type": "markdown",
   "id": "7ec89b8d-7cd9-44a0-a974-e12f72b88c20",
   "metadata": {},
   "source": [
    "Ahora, el objeto `sinAlinear` contiene 13 secuencias mitocondriales. Observa como al invocar el nombre del objeto nos aparece un resumen de su contenido. Si ejecutas `names(sinAlinear)` en un bloque de código, observarás los nombres de las secuencias y verás que son innecesariamente largos. Antes de alinear, es conveniente acortar los nombres, cosa que se puede hacer reasignando el valor de los nombres respetando el orden en el cual están las secuencias:"
   ]
  },
  {
   "cell_type": "code",
   "execution_count": null,
   "id": "548a3777-6391-446e-a65e-f452728c73f0",
   "metadata": {},
   "outputs": [],
   "source": [
    "names(sinAlinear)"
   ]
  },
  {
   "cell_type": "code",
   "execution_count": 7,
   "id": "8dd14f3d-93bf-4573-822b-7c5f0e33d574",
   "metadata": {},
   "outputs": [],
   "source": [
    "names(sinAlinear) <- c('Papio hamadryas', 'Macaca sylvanus', 'Macaca mulatta',\n",
    "           'Hylobates lar', 'Pongo pygmaeus', 'Gorilla gorilla',\n",
    "           'Gorilla gorilla gorilla', 'Pan paniscus', 'Pan troglodytes',\n",
    "           'Pan troglodytes verus', 'H. sapiens neanderthalensis', \n",
    "           'H. sapiens (Cambridge)', 'H. sapiens (Yoruba)')"
   ]
  },
  {
   "cell_type": "code",
   "execution_count": null,
   "id": "a6abb994-6b09-476c-b095-083be103e588",
   "metadata": {},
   "outputs": [],
   "source": [
    "names(sinAlinear)"
   ]
  },
  {
   "cell_type": "markdown",
   "id": "dcfe09c3-0242-4758-8c0e-91e1aaede82a",
   "metadata": {},
   "source": [
    "Una vez comprobado que los nombres de las secuencias son los adecuados procedemos al alineamiento:"
   ]
  },
  {
   "cell_type": "code",
   "execution_count": null,
   "id": "6ce5e6b4-7633-4bb7-89f8-bc91d84fc26c",
   "metadata": {},
   "outputs": [],
   "source": [
    "alineadas <- AlignSeqs(sinAlinear, verbose = FALSE)\n",
    "alineadas"
   ]
  },
  {
   "cell_type": "markdown",
   "id": "ea3542ea-775c-495a-9bdd-6bd326b8460c",
   "metadata": {},
   "source": [
    "Observa que la función `AlignSeqs()` **no** modifica el objeto original (`sinAlinear`), sino que crea otro. Por eso necesitamos *assignar* (`<-`) el resulado de la función a un nuevo objeto (`alineadas`) para retener en la memoria del trabajo el resultado del alineamiento.\n",
    "\n",
    "Observa también que el nuevo objeto `alineadas` tiene un aspecto diferente al de `sinAlinear`. Para ver el alineamiento completo ejecuta el comando siguiente, con el cual se crea y abre el archivo `alineadas.html` en una pestaña nueva de tu navegador."
   ]
  },
  {
   "cell_type": "code",
   "execution_count": 10,
   "id": "92e4df21-1c92-4aa1-8012-2cc6e7e2eee8",
   "metadata": {},
   "outputs": [],
   "source": [
    "BrowseSeqs(alineadas, htmlFile = 'alineadas.html', openURL = TRUE)"
   ]
  },
  {
   "cell_type": "markdown",
   "id": "e1ddc192-56ea-4f76-8959-ac9021e9bc00",
   "metadata": {},
   "source": [
    "### 2.1 ¿Por qué crees que algunas secuencias parecen tener fragmentos adicionales al principio o al final del alineamiento?"
   ]
  },
  {
   "cell_type": "markdown",
   "id": "51977f47-6aa1-493f-a172-45d19b31cfde",
   "metadata": {},
   "source": []
  },
  {
   "cell_type": "markdown",
   "id": "289cb21f-71d4-4d13-a71f-53499682268d",
   "metadata": {},
   "source": [
    "### 2.2 Con la función `readDNAStringSet()` carga el alineamiento contenido en el archivo `primates2.fasta` en un nuevo objeto, explóralo con la función `BrowseSeqs()` y determina en qué se diferencia del alineamiento que has creado tú previamente."
   ]
  },
  {
   "cell_type": "code",
   "execution_count": 11,
   "id": "33bbca12-d24a-4a9e-9349-89e802a2a395",
   "metadata": {},
   "outputs": [],
   "source": [
    "# Introduce aquí los comandos que necesites, basándote en los\n",
    "# bloques anteriores.\n",
    "alineadas2 <- readDNAStringSet('primates2.fasta')\n",
    "BrowseSeqs(alineadas2, htmlFile = 'alineadas2.html', openURL = TRUE)"
   ]
  },
  {
   "cell_type": "markdown",
   "id": "2be375c5-144d-4011-9747-505db0fe3563",
   "metadata": {},
   "source": [
    "### 2.3 Decide cuál de los dos alineamientos, el creado por ti o el que ha cargado a partir del archivo `primates2.fasta`, es el más adecuado para utilizarlo en el paso siguiente."
   ]
  },
  {
   "cell_type": "markdown",
   "id": "d1a71d17-bfb2-412c-b2f6-6be527cf7501",
   "metadata": {},
   "source": []
  },
  {
   "cell_type": "markdown",
   "id": "083a3322-d8a3-4f48-a752-cb6a7a13a32c",
   "metadata": {},
   "source": [
    "## Ejercicio 3. Reconstrucción filogenética\n",
    "Una vez disponemos de un alineamiento, podemos inferir las relaciones filogenéticas entre las 13 secuencias. Hay muchos métodos diferentes: máxima parsimonia, máxima similitud, UPGMA, etc. Utilizaremos el método de Neighbor-Joining, basado en la matriz de distancias genéticas entre las secuencias, porque es un método rápido.\n",
    "\n",
    "### Distancias\n",
    "El primer paso es obtener la **matriz de distancias**, lo cual podemos hacer con la función `dist.dna()` (del paquete `ape`, cargado automáticamente junto a `phangorn`). Ahora bien, el alineamiento de partida es un objeto de clase `DNAStringSet`, mientras que la función `dist.dna()` requiere que el alineamiento sea un objeto de clase `DNAbin`. Por tanto, se debe utilizar la función `as.DNAbin()` para transformar el objeto. Edita el bloque de código siguiente para poder utilizar el alineamiento elegido en el ejercicio 2.3."
   ]
  },
  {
   "cell_type": "code",
   "execution_count": null,
   "id": "b07680ab-ae85-466f-94b0-fa58ba5147ab",
   "metadata": {},
   "outputs": [],
   "source": [
    "# Sustituye \"alineamiento\" por el nombre del objeto donde guardas \n",
    "# el alineamiento que has decidido utilizar en el ejercicio 2.3.\n",
    "\n",
    "aln <- as.DNAbin(alineamiento)\n",
    "aln"
   ]
  },
  {
   "cell_type": "markdown",
   "id": "32e332e2-e8d7-4992-a1a6-ff388c1cf79a",
   "metadata": {},
   "source": [
    "Las distancias son una estimación del número medio de sustituciones nucleotídicas acumuladas entre dos secuencias desde el momento que divergieron por cada posición de su alineamiento. Una distancia genética de 1 implicaría que *en término medio* todas las posiciones han sufrido una mutación. Como es una media entre todas las posiciones del alineamiento, generalmente es posible reconocer la homología de dos secuencias y alinearlas incluso con ditancias mayores de 1: en algunas posiciones se han producido más de una mutación a lo largo de los dos linajes, mientras que en muchas otras posiciones no se ha producido ninguna.\n",
    "\n",
    "Para poder estimar estas distancias es necesario adoptar un **modelo de evolución molecular**, el cual nos permite suponer cuantas sustituciones más de las observadas deben de haberse producido, a partir del número de cambios observados. En el bloque siguiente, sugerimos el modelo *K81* (Kimura, 1981). Para ver qué otras opciones tienes, consulta la ayuda de la función `dist.dna()` ejecutando la orden `help(dist.dna)` en un bloque de código."
   ]
  },
  {
   "cell_type": "code",
   "execution_count": null,
   "id": "a4fed842-6edd-4d4e-bf4f-0e816fecf05a",
   "metadata": {},
   "outputs": [],
   "source": [
    "distancias.K81 <- dist.dna(aln, model = 'K81')\n",
    "as.matrix(round(distancias.K81, 3))"
   ]
  },
  {
   "cell_type": "markdown",
   "id": "bc305f12-8293-40c3-8fde-122ab286200f",
   "metadata": {},
   "source": [
    "### Neighbor-Joining\n",
    "El método de *neighbor-joining* produce un árbol no *ultramétrico* y no *enraizado* a partir de las distancias. Podemos aplicar este método a un objeto de clase *dist* con la función `NJ()` del paquete `phangorn`:"
   ]
  },
  {
   "cell_type": "code",
   "execution_count": null,
   "id": "a3586e46-3e8d-476e-9a0c-d5161dd4c6e5",
   "metadata": {},
   "outputs": [],
   "source": [
    "NJ.K81 <- NJ(distancias.K81)\n",
    "plot(NJ.K81)"
   ]
  },
  {
   "cell_type": "markdown",
   "id": "a4aa4b8f-591f-4590-b18c-49fe7f687f51",
   "metadata": {},
   "source": [
    "Podemos *enraizar* el árbol con la función `root()`, porque sabemos que el *clado* formado por *Papio hamadryas*, *Macaca mulatta* y *Macaca sylvanus* es un **outgroup** de todos los demás. Es decir, pertenecen a un linaje que divergió antes que los demás linajes que divergen entre ellos. "
   ]
  },
  {
   "cell_type": "code",
   "execution_count": null,
   "id": "7a6e3075-cd9a-4868-9139-b6be55fee69b",
   "metadata": {},
   "outputs": [],
   "source": [
    "NJ.K81.enraizado <- root(NJ.K81,\n",
    "      outgroup = c('Papio hamadryas', 'Macaca mulatta', 'Macaca sylvanus'))\n",
    "plot(NJ.K81.enraizado)"
   ]
  },
  {
   "cell_type": "markdown",
   "id": "a9799294-c749-43d9-8e0d-0423563a8025",
   "metadata": {},
   "source": [
    "### Bootstrap\n",
    "Si te queda tiempo, ejecuta los bloques siguientes para añadir a las ramas del árbol su soporte de *bootstrap*. El soporte de *bootstrap*  es una medida (entre 0 y 100) del grado de soporte que los datos (el alineamiento) otorgan a cada rama."
   ]
  },
  {
   "cell_type": "code",
   "execution_count": null,
   "id": "838c63a4-a0eb-4001-9c4a-9bd5c3cb5719",
   "metadata": {},
   "outputs": [],
   "source": [
    "# Sustituye \"alineamiento\" por el nombre del objeto donde guardas \n",
    "# el alineamiento que has decidido utilizar en el ejercicio 2.3.\n",
    "\n",
    "funcion <- function(x) NJ(dist.dna(as.DNAbin(x), model = 'K81'))\n",
    "bootstrap <- bootstrap.phyDat(as.phyDat(as.DNAbin(alineamiento)), funcion, bs = 500)\n",
    "plotBS(NJ.K81, bootstrap)"
   ]
  },
  {
   "cell_type": "markdown",
   "id": "4720694a-c1ff-420b-8505-72b8f952b58d",
   "metadata": {},
   "source": [
    "## Bibliografía\n",
    "\n",
    "- Kimura, M. (1981) Estimation of evolutionary distances between homologous nucleotide sequences. *Proceedings of the National Academy of Sciences USA*, 78, 454–458.\n",
    "- Schliep, K.P. (2011) *phangorn*: phylogenetic analysis in R. *Bioinformatics* 27 (4): 592-593. [10.1093/bioinformatics/btq706](https://doi.org/10.1093/bioinformatics/btq706)\n",
    "- Wright, E.S. (2016) Using DECIPHER v2.0 to analyze big biological sequence data in R. *The R journal* 8 (1): 352-359. [10.32614/RJ-2016-025](https://doi.org/10.32614/RJ-2016-025)"
   ]
  },
  {
   "cell_type": "code",
   "execution_count": null,
   "id": "2b20de1f-660e-4f49-b2f4-8181ff21cc8a",
   "metadata": {},
   "outputs": [],
   "source": []
  }
 ],
 "metadata": {
  "kernelspec": {
   "display_name": "R",
   "language": "R",
   "name": "ir"
  },
  "language_info": {
   "codemirror_mode": "r",
   "file_extension": ".r",
   "mimetype": "text/x-r-source",
   "name": "R",
   "pygments_lexer": "r",
   "version": "4.3.3"
  }
 },
 "nbformat": 4,
 "nbformat_minor": 5
}
