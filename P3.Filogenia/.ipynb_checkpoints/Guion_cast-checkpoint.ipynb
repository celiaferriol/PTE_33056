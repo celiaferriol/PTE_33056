{
 "cells": [
  {
   "cell_type": "markdown",
   "id": "db0edfcf-bd72-431a-8499-a7b00bcfbf6e",
   "metadata": {},
   "source": [
    "# Práctica con el ordenador 3. Filogenia mitocondrial\n",
    "\n",
    "## Preparación del ordenador\n",
    "En esta práctica utilizaremos los paquetes `DECIPHER` (Wright, 2016) y `phangorn` (Schliep, 2011) de `R`. Asegúrate de haberlos instalado, si no los tienes instalados ya, puedes hacerlo ejecutando los comandos siguientes en la consola de `R`:\n",
    "\n",
    "> `install.packages('phangorn')`\n",
    "\n",
    "> `install.packages('BiocManager')`\n",
    "\n",
    "> `BiocManager::install('DECIPHER')`\n",
    "\n",
    "A continuación carga los paquetes.\n"
   ]
  },
  {
   "cell_type": "code",
   "execution_count": 1,
   "id": "2ae2cdb3-4114-457a-865b-c0f354d0bdb8",
   "metadata": {},
   "outputs": [],
   "source": [
    "# La función \"supressMessages()\" nos ahorra información innecesaria.\n",
    "suppressMessages(library('phangorn'))\n",
    "suppressMessages(library('DECIPHER'))"
   ]
  },
  {
   "cell_type": "markdown",
   "id": "f595da42-c06d-4ee1-87e8-3bdc48689bb6",
   "metadata": {},
   "source": [
    "## Objetivo\n",
    "El objetivo de esta práctica es reproducir la filogenia de los primates catarrinos a partir de las secuencias mitocondriales completas de 13 individuos de 9 especies diferentes, tal y como aparecen en la figura siguiente, procedente de la web PhyloTree:\n",
    "[http://www.phylotree.org/resources/mtDNA_human_relatives.htm](http://www.phylotree.org/resources/mtDNA_human_relatives.htm).\n",
    "\n",
    "![](Catarrhini_phylogeny.png)\n",
    "\n",
    "EL procedimiento incluye los pasos siguientes:\n",
    "\n",
    "1. Descargar las secuencias nucleotídicas de los genomas mitocondriales.\n",
    "2. Alinearlos con el método implementado en el paquete `DECIPHER`.\n",
    "3. Obtener la filogenia mediante algún método rápido como el *Neighbor-Joining*.\n",
    "\n",
    "## Ejercicio 1. Descarga de las secuencias\n",
    "\n",
    "La tabla siguiente indica los **números de acceso** de las secuencias que necesitamos y la especie a la cual pertenece cada una.\n",
    "\n",
    "| Número de acceso       | Especie |\n",
    "| ---------------------- | ------- |\n",
    "| [Y18001](https://www.ebi.ac.uk/ena/browser/view/Y18001) | *Papio hamadryas* |\n",
    "| [AJ309865](https://www.ebi.ac.uk/ena/browser/view/AJ309865) | *Macaca sylvanus* |\n",
    "| [AY612638](https://www.ebi.ac.uk/ena/browser/view/AY612638) | *Macaca mulata* |\n",
    "| [X99256](https://www.ebi.ac.uk/ena/browser/view/X99256) | *Hylobates lar* |\n",
    "| [D38115](https://www.ebi.ac.uk/ena/browser/view/D38115) | *Pongo pygmaeus* |\n",
    "| [D38114](https://www.ebi.ac.uk/ena/browser/view/D38114) | *Gorilla gorilla* |\n",
    "| [X93347](https://www.ebi.ac.uk/ena/browser/view/X93347) | *Gorilla gorilla* |\n",
    "| [GU189661](https://www.ebi.ac.uk/ena/browser/view/GU189661) | *Pan paniscus* |\n",
    "| [D38113](https://www.ebi.ac.uk/ena/browser/view/D38113) | *Pan troglodytes* |\n",
    "| [X93335](https://www.ebi.ac.uk/ena/browser/view/X93335) | *Pan trglodytes verus* |\n",
    "| [AM948965](https://www.ebi.ac.uk/ena/browser/view/AM948965) | *H. sapiens neanderthalensis* |\n",
    "| [J01415](https://www.ebi.ac.uk/ena/browser/view/J01415) | *Homo sapiens* (Cambridge) |\n",
    "| [AF347015](https://www.ebi.ac.uk/ena/browser/view/AF347015) | *Homo sapiens* (Yoruba)|\n",
    "\n",
    "Puedes descargar las secuencias en formato FASTA de una en una siguiendo los enlaces de la tabla anterior. Es necesario guardarlas todas en el mismo archivo de texto plano, respetando el formato FASTA. Alternativamente se pueden utilizar los comandos siguientes para descargar en la carpeta de trabajo un archivo FASTA con las 13 secuencias:"
   ]
  },
  {
   "cell_type": "code",
   "execution_count": 2,
   "id": "9ad81fe2-19fd-4db7-862f-2b29bfeb1e12",
   "metadata": {},
   "outputs": [
    {
     "data": {
      "text/html": [
       "'https://www.ebi.ac.uk/ena/browser/api/fasta/Y18001,AJ309865,AY612638,X99256,D38115,D38114,X93347,GU189661,D38113,X93335,AM948965,J01415,AF347015'"
      ],
      "text/latex": [
       "'https://www.ebi.ac.uk/ena/browser/api/fasta/Y18001,AJ309865,AY612638,X99256,D38115,D38114,X93347,GU189661,D38113,X93335,AM948965,J01415,AF347015'"
      ],
      "text/markdown": [
       "'https://www.ebi.ac.uk/ena/browser/api/fasta/Y18001,AJ309865,AY612638,X99256,D38115,D38114,X93347,GU189661,D38113,X93335,AM948965,J01415,AF347015'"
      ],
      "text/plain": [
       "[1] \"https://www.ebi.ac.uk/ena/browser/api/fasta/Y18001,AJ309865,AY612638,X99256,D38115,D38114,X93347,GU189661,D38113,X93335,AM948965,J01415,AF347015\""
      ]
     },
     "metadata": {},
     "output_type": "display_data"
    }
   ],
   "source": [
    "Numeros <- c('Y18001', 'AJ309865', 'AY612638', 'X99256', 'D38115',\n",
    "             'D38114', 'X93347', 'GU189661', 'D38113', 'X93335',\n",
    "             'AM948965', 'J01415', 'AF347015')\n",
    "API     <- 'https://www.ebi.ac.uk/ena/browser/api/fasta/'\n",
    "URL     <- paste0(API, paste(Numeros, collapse = ','))\n",
    "URL\n",
    "download.file(URL, destfile = 'primates.fasta')"
   ]
  },
  {
   "cell_type": "markdown",
   "id": "3d8672e1-6ca3-42bf-9b15-407a19edb2fc",
   "metadata": {},
   "source": [
    "Ejecuta el código anterior y comprueba que en la carpeta de trabajo se ha descargado un archivo llamado Executa el codi anterior i comprova que a la carpeta de treball se t'ha descarregat `primates.fasta`. Puedes abrir el archivo para inspeccionarlo, pero no es recomendable editar manualmente los archivos de datos.\n",
    "\n",
    "## Ejercicio 2. Alineamiento\n",
    "Para alinear las 13 secuencias necesitamos haber cargado el paquete `DECIPHER`, leer las secuencias y guardarlas en un objeto dentro de la sesión de `R`, y aplicar la función `AlignSeqs()` para crear un nuevo objeto con las secuencias alineadas. Comenzamos por leer las secuencias y guardarlas en un *objeto* o variable de `R`:"
   ]
  },
  {
   "cell_type": "code",
   "execution_count": 4,
   "id": "1d55f41f-005f-46f7-be07-8396d3bc01f6",
   "metadata": {},
   "outputs": [
    {
     "data": {
      "text/plain": [
       "DNAStringSet object of length 13:\n",
       "     width seq                                              names               \n",
       " [1] 16521 \u001b[47m\u001b[30mG\u001b[39m\u001b[49m\u001b[47m\u001b[30mT\u001b[39m\u001b[49m\u001b[47m\u001b[30mT\u001b[39m\u001b[49m\u001b[47m\u001b[30mT\u001b[39m\u001b[49m\u001b[47m\u001b[30mA\u001b[39m\u001b[49m\u001b[47m\u001b[30mT\u001b[39m\u001b[49m\u001b[47m\u001b[30mG\u001b[39m\u001b[49m\u001b[47m\u001b[30mT\u001b[39m\u001b[49m\u001b[47m\u001b[30mA\u001b[39m\u001b[49m\u001b[47m\u001b[30mG\u001b[39m\u001b[49m\u001b[47m\u001b[30mC\u001b[39m\u001b[49m\u001b[47m\u001b[30mT\u001b[39m\u001b[49m\u001b[47m\u001b[30mT\u001b[39m\u001b[49m\u001b[47m\u001b[30mA\u001b[39m\u001b[49m\u001b[47m\u001b[30mA\u001b[39m\u001b[49m\u001b[47m\u001b[30mA\u001b[39m\u001b[49m\u001b[47m\u001b[30mC\u001b[39m\u001b[49m\u001b[47m\u001b[30mA\u001b[39m\u001b[49m\u001b[47m\u001b[30mT\u001b[39m\u001b[49m\u001b[47m\u001b[30mA\u001b[39m\u001b[49m\u001b[47m\u001b[30mC\u001b[39m\u001b[49m\u001b[47m\u001b[30mC\u001b[39m\u001b[49m\u001b[47m\u001b[30mC\u001b[39m\u001b[49m...\u001b[47m\u001b[30mA\u001b[39m\u001b[49m\u001b[47m\u001b[30mC\u001b[39m\u001b[49m\u001b[47m\u001b[30mA\u001b[39m\u001b[49m\u001b[47m\u001b[30mC\u001b[39m\u001b[49m\u001b[47m\u001b[30mA\u001b[39m\u001b[49m\u001b[47m\u001b[30mA\u001b[39m\u001b[49m\u001b[47m\u001b[30mC\u001b[39m\u001b[49m\u001b[47m\u001b[30mT\u001b[39m\u001b[49m\u001b[47m\u001b[30mA\u001b[39m\u001b[49m\u001b[47m\u001b[30mC\u001b[39m\u001b[49m\u001b[47m\u001b[30mA\u001b[39m\u001b[49m\u001b[47m\u001b[30mC\u001b[39m\u001b[49m\u001b[47m\u001b[30mC\u001b[39m\u001b[49m\u001b[47m\u001b[30mC\u001b[39m\u001b[49m\u001b[47m\u001b[30mG\u001b[39m\u001b[49m\u001b[47m\u001b[30mC\u001b[39m\u001b[49m\u001b[47m\u001b[30mA\u001b[39m\u001b[49m\u001b[47m\u001b[30mC\u001b[39m\u001b[49m\u001b[47m\u001b[30mT\u001b[39m\u001b[49m\u001b[47m\u001b[30mA\u001b[39m\u001b[49m\u001b[47m\u001b[30mG\u001b[39m\u001b[49m\u001b[47m\u001b[30mC\u001b[39m\u001b[49m ENA|Y18001|Y18001...\n",
       " [2] 16586 \u001b[47m\u001b[30mG\u001b[39m\u001b[49m\u001b[47m\u001b[30mT\u001b[39m\u001b[49m\u001b[47m\u001b[30mT\u001b[39m\u001b[49m\u001b[47m\u001b[30mT\u001b[39m\u001b[49m\u001b[47m\u001b[30mA\u001b[39m\u001b[49m\u001b[47m\u001b[30mT\u001b[39m\u001b[49m\u001b[47m\u001b[30mG\u001b[39m\u001b[49m\u001b[47m\u001b[30mT\u001b[39m\u001b[49m\u001b[47m\u001b[30mA\u001b[39m\u001b[49m\u001b[47m\u001b[30mG\u001b[39m\u001b[49m\u001b[47m\u001b[30mC\u001b[39m\u001b[49m\u001b[47m\u001b[30mT\u001b[39m\u001b[49m\u001b[47m\u001b[30mT\u001b[39m\u001b[49m\u001b[47m\u001b[30mA\u001b[39m\u001b[49m\u001b[47m\u001b[30mA\u001b[39m\u001b[49m\u001b[47m\u001b[30mA\u001b[39m\u001b[49m\u001b[47m\u001b[30mC\u001b[39m\u001b[49m\u001b[47m\u001b[30mC\u001b[39m\u001b[49m\u001b[47m\u001b[30mC\u001b[39m\u001b[49m\u001b[47m\u001b[30mA\u001b[39m\u001b[49m\u001b[47m\u001b[30mC\u001b[39m\u001b[49m\u001b[47m\u001b[30mC\u001b[39m\u001b[49m\u001b[47m\u001b[30mC\u001b[39m\u001b[49m...\u001b[47m\u001b[30mC\u001b[39m\u001b[49m\u001b[47m\u001b[30mA\u001b[39m\u001b[49m\u001b[47m\u001b[30mC\u001b[39m\u001b[49m\u001b[47m\u001b[30mA\u001b[39m\u001b[49m\u001b[47m\u001b[30mA\u001b[39m\u001b[49m\u001b[47m\u001b[30mT\u001b[39m\u001b[49m\u001b[47m\u001b[30mT\u001b[39m\u001b[49m\u001b[47m\u001b[30mG\u001b[39m\u001b[49m\u001b[47m\u001b[30mT\u001b[39m\u001b[49m\u001b[47m\u001b[30mC\u001b[39m\u001b[49m\u001b[47m\u001b[30mA\u001b[39m\u001b[49m\u001b[47m\u001b[30mC\u001b[39m\u001b[49m\u001b[47m\u001b[30mT\u001b[39m\u001b[49m\u001b[47m\u001b[30mC\u001b[39m\u001b[49m\u001b[47m\u001b[30mA\u001b[39m\u001b[49m\u001b[47m\u001b[30mC\u001b[39m\u001b[49m\u001b[47m\u001b[30mA\u001b[39m\u001b[49m\u001b[47m\u001b[30mC\u001b[39m\u001b[49m\u001b[47m\u001b[30mC\u001b[39m\u001b[49m\u001b[47m\u001b[30mC\u001b[39m\u001b[49m\u001b[47m\u001b[30mC\u001b[39m\u001b[49m\u001b[47m\u001b[30mT\u001b[39m\u001b[49m ENA|AJ309865|AJ30...\n",
       " [3] 16564 \u001b[47m\u001b[30mG\u001b[39m\u001b[49m\u001b[47m\u001b[30mA\u001b[39m\u001b[49m\u001b[47m\u001b[30mT\u001b[39m\u001b[49m\u001b[47m\u001b[30mC\u001b[39m\u001b[49m\u001b[47m\u001b[30mA\u001b[39m\u001b[49m\u001b[47m\u001b[30mC\u001b[39m\u001b[49m\u001b[47m\u001b[30mG\u001b[39m\u001b[49m\u001b[47m\u001b[30mG\u001b[39m\u001b[49m\u001b[47m\u001b[30mG\u001b[39m\u001b[49m\u001b[47m\u001b[30mT\u001b[39m\u001b[49m\u001b[47m\u001b[30mC\u001b[39m\u001b[49m\u001b[47m\u001b[30mT\u001b[39m\u001b[49m\u001b[47m\u001b[30mA\u001b[39m\u001b[49m\u001b[47m\u001b[30mT\u001b[39m\u001b[49m\u001b[47m\u001b[30mC\u001b[39m\u001b[49m\u001b[47m\u001b[30mA\u001b[39m\u001b[49m\u001b[47m\u001b[30mC\u001b[39m\u001b[49m\u001b[47m\u001b[30mC\u001b[39m\u001b[49m\u001b[47m\u001b[30mC\u001b[39m\u001b[49m\u001b[47m\u001b[30mT\u001b[39m\u001b[49m\u001b[47m\u001b[30mA\u001b[39m\u001b[49m\u001b[47m\u001b[30mT\u001b[39m\u001b[49m\u001b[47m\u001b[30mT\u001b[39m\u001b[49m...\u001b[47m\u001b[30mC\u001b[39m\u001b[49m\u001b[47m\u001b[30mC\u001b[39m\u001b[49m\u001b[47m\u001b[30mT\u001b[39m\u001b[49m\u001b[47m\u001b[30mT\u001b[39m\u001b[49m\u001b[47m\u001b[30mA\u001b[39m\u001b[49m\u001b[47m\u001b[30mA\u001b[39m\u001b[49m\u001b[47m\u001b[30mA\u001b[39m\u001b[49m\u001b[47m\u001b[30mT\u001b[39m\u001b[49m\u001b[47m\u001b[30mA\u001b[39m\u001b[49m\u001b[47m\u001b[30mA\u001b[39m\u001b[49m\u001b[47m\u001b[30mG\u001b[39m\u001b[49m\u001b[47m\u001b[30mA\u001b[39m\u001b[49m\u001b[47m\u001b[30mC\u001b[39m\u001b[49m\u001b[47m\u001b[30mA\u001b[39m\u001b[49m\u001b[47m\u001b[30mT\u001b[39m\u001b[49m\u001b[47m\u001b[30mC\u001b[39m\u001b[49m\u001b[47m\u001b[30mT\u001b[39m\u001b[49m\u001b[47m\u001b[30mC\u001b[39m\u001b[49m\u001b[47m\u001b[30mG\u001b[39m\u001b[49m\u001b[47m\u001b[30mA\u001b[39m\u001b[49m\u001b[47m\u001b[30mT\u001b[39m\u001b[49m\u001b[47m\u001b[30mG\u001b[39m\u001b[49m ENA|AY612638|AY61...\n",
       " [4] 16472 \u001b[47m\u001b[30mG\u001b[39m\u001b[49m\u001b[47m\u001b[30mT\u001b[39m\u001b[49m\u001b[47m\u001b[30mT\u001b[39m\u001b[49m\u001b[47m\u001b[30mT\u001b[39m\u001b[49m\u001b[47m\u001b[30mA\u001b[39m\u001b[49m\u001b[47m\u001b[30mT\u001b[39m\u001b[49m\u001b[47m\u001b[30mG\u001b[39m\u001b[49m\u001b[47m\u001b[30mT\u001b[39m\u001b[49m\u001b[47m\u001b[30mA\u001b[39m\u001b[49m\u001b[47m\u001b[30mG\u001b[39m\u001b[49m\u001b[47m\u001b[30mC\u001b[39m\u001b[49m\u001b[47m\u001b[30mT\u001b[39m\u001b[49m\u001b[47m\u001b[30mT\u001b[39m\u001b[49m\u001b[47m\u001b[30mA\u001b[39m\u001b[49m\u001b[47m\u001b[30mA\u001b[39m\u001b[49m\u001b[47m\u001b[30mC\u001b[39m\u001b[49m\u001b[47m\u001b[30mT\u001b[39m\u001b[49m\u001b[47m\u001b[30mA\u001b[39m\u001b[49m\u001b[47m\u001b[30mC\u001b[39m\u001b[49m\u001b[47m\u001b[30mC\u001b[39m\u001b[49m\u001b[47m\u001b[30mC\u001b[39m\u001b[49m\u001b[47m\u001b[30mA\u001b[39m\u001b[49m\u001b[47m\u001b[30mA\u001b[39m\u001b[49m...\u001b[47m\u001b[30mA\u001b[39m\u001b[49m\u001b[47m\u001b[30mG\u001b[39m\u001b[49m\u001b[47m\u001b[30mC\u001b[39m\u001b[49m\u001b[47m\u001b[30mC\u001b[39m\u001b[49m\u001b[47m\u001b[30mT\u001b[39m\u001b[49m\u001b[47m\u001b[30mA\u001b[39m\u001b[49m\u001b[47m\u001b[30mT\u001b[39m\u001b[49m\u001b[47m\u001b[30mC\u001b[39m\u001b[49m\u001b[47m\u001b[30mC\u001b[39m\u001b[49m\u001b[47m\u001b[30mC\u001b[39m\u001b[49m\u001b[47m\u001b[30mC\u001b[39m\u001b[49m\u001b[47m\u001b[30mA\u001b[39m\u001b[49m\u001b[47m\u001b[30mA\u001b[39m\u001b[49m\u001b[47m\u001b[30mA\u001b[39m\u001b[49m\u001b[47m\u001b[30mG\u001b[39m\u001b[49m\u001b[47m\u001b[30mA\u001b[39m\u001b[49m\u001b[47m\u001b[30mG\u001b[39m\u001b[49m\u001b[47m\u001b[30mT\u001b[39m\u001b[49m\u001b[47m\u001b[30mC\u001b[39m\u001b[49m\u001b[47m\u001b[30mC\u001b[39m\u001b[49m\u001b[47m\u001b[30mC\u001b[39m\u001b[49m\u001b[47m\u001b[30mC\u001b[39m\u001b[49m ENA|X99256|X99256...\n",
       " [5] 16389 \u001b[47m\u001b[30mG\u001b[39m\u001b[49m\u001b[47m\u001b[30mT\u001b[39m\u001b[49m\u001b[47m\u001b[30mT\u001b[39m\u001b[49m\u001b[47m\u001b[30mT\u001b[39m\u001b[49m\u001b[47m\u001b[30mA\u001b[39m\u001b[49m\u001b[47m\u001b[30mT\u001b[39m\u001b[49m\u001b[47m\u001b[30mG\u001b[39m\u001b[49m\u001b[47m\u001b[30mT\u001b[39m\u001b[49m\u001b[47m\u001b[30mA\u001b[39m\u001b[49m\u001b[47m\u001b[30mG\u001b[39m\u001b[49m\u001b[47m\u001b[30mC\u001b[39m\u001b[49m\u001b[47m\u001b[30mT\u001b[39m\u001b[49m\u001b[47m\u001b[30mT\u001b[39m\u001b[49m\u001b[47m\u001b[30mA\u001b[39m\u001b[49m\u001b[47m\u001b[30mT\u001b[39m\u001b[49m\u001b[47m\u001b[30mT\u001b[39m\u001b[49m\u001b[47m\u001b[30mC\u001b[39m\u001b[49m\u001b[47m\u001b[30mC\u001b[39m\u001b[49m\u001b[47m\u001b[30mA\u001b[39m\u001b[49m\u001b[47m\u001b[30mT\u001b[39m\u001b[49m\u001b[47m\u001b[30mC\u001b[39m\u001b[49m\u001b[47m\u001b[30mC\u001b[39m\u001b[49m\u001b[47m\u001b[30mA\u001b[39m\u001b[49m...\u001b[47m\u001b[30mA\u001b[39m\u001b[49m\u001b[47m\u001b[30mA\u001b[39m\u001b[49m\u001b[47m\u001b[30mC\u001b[39m\u001b[49m\u001b[47m\u001b[30mC\u001b[39m\u001b[49m\u001b[47m\u001b[30mC\u001b[39m\u001b[49m\u001b[47m\u001b[30mA\u001b[39m\u001b[49m\u001b[47m\u001b[30mA\u001b[39m\u001b[49m\u001b[47m\u001b[30mA\u001b[39m\u001b[49m\u001b[47m\u001b[30mA\u001b[39m\u001b[49m\u001b[47m\u001b[30mG\u001b[39m\u001b[49m\u001b[47m\u001b[30mA\u001b[39m\u001b[49m\u001b[47m\u001b[30mC\u001b[39m\u001b[49m\u001b[47m\u001b[30mA\u001b[39m\u001b[49m\u001b[47m\u001b[30mC\u001b[39m\u001b[49m\u001b[47m\u001b[30mC\u001b[39m\u001b[49m\u001b[47m\u001b[30mC\u001b[39m\u001b[49m\u001b[47m\u001b[30mC\u001b[39m\u001b[49m\u001b[47m\u001b[30mG\u001b[39m\u001b[49m\u001b[47m\u001b[30mC\u001b[39m\u001b[49m\u001b[47m\u001b[30mA\u001b[39m\u001b[49m\u001b[47m\u001b[30mC\u001b[39m\u001b[49m\u001b[47m\u001b[30mA\u001b[39m\u001b[49m ENA|D38115|D38115...\n",
       " ...   ... ...\n",
       " [9] 16554 \u001b[47m\u001b[30mG\u001b[39m\u001b[49m\u001b[47m\u001b[30mT\u001b[39m\u001b[49m\u001b[47m\u001b[30mT\u001b[39m\u001b[49m\u001b[47m\u001b[30mT\u001b[39m\u001b[49m\u001b[47m\u001b[30mA\u001b[39m\u001b[49m\u001b[47m\u001b[30mT\u001b[39m\u001b[49m\u001b[47m\u001b[30mG\u001b[39m\u001b[49m\u001b[47m\u001b[30mT\u001b[39m\u001b[49m\u001b[47m\u001b[30mA\u001b[39m\u001b[49m\u001b[47m\u001b[30mG\u001b[39m\u001b[49m\u001b[47m\u001b[30mC\u001b[39m\u001b[49m\u001b[47m\u001b[30mT\u001b[39m\u001b[49m\u001b[47m\u001b[30mT\u001b[39m\u001b[49m\u001b[47m\u001b[30mA\u001b[39m\u001b[49m\u001b[47m\u001b[30mC\u001b[39m\u001b[49m\u001b[47m\u001b[30mC\u001b[39m\u001b[49m\u001b[47m\u001b[30mC\u001b[39m\u001b[49m\u001b[47m\u001b[30mC\u001b[39m\u001b[49m\u001b[47m\u001b[30mC\u001b[39m\u001b[49m\u001b[47m\u001b[30mT\u001b[39m\u001b[49m\u001b[47m\u001b[30mC\u001b[39m\u001b[49m\u001b[47m\u001b[30mA\u001b[39m\u001b[49m\u001b[47m\u001b[30mA\u001b[39m\u001b[49m...\u001b[47m\u001b[30mA\u001b[39m\u001b[49m\u001b[47m\u001b[30mC\u001b[39m\u001b[49m\u001b[47m\u001b[30mC\u001b[39m\u001b[49m\u001b[47m\u001b[30mC\u001b[39m\u001b[49m\u001b[47m\u001b[30mC\u001b[39m\u001b[49m\u001b[47m\u001b[30mA\u001b[39m\u001b[49m\u001b[47m\u001b[30mA\u001b[39m\u001b[49m\u001b[47m\u001b[30mA\u001b[39m\u001b[49m\u001b[47m\u001b[30mG\u001b[39m\u001b[49m\u001b[47m\u001b[30mA\u001b[39m\u001b[49m\u001b[47m\u001b[30mC\u001b[39m\u001b[49m\u001b[47m\u001b[30mA\u001b[39m\u001b[49m\u001b[47m\u001b[30mC\u001b[39m\u001b[49m\u001b[47m\u001b[30mC\u001b[39m\u001b[49m\u001b[47m\u001b[30mC\u001b[39m\u001b[49m\u001b[47m\u001b[30mC\u001b[39m\u001b[49m\u001b[47m\u001b[30mT\u001b[39m\u001b[49m\u001b[47m\u001b[30mA\u001b[39m\u001b[49m\u001b[47m\u001b[30mC\u001b[39m\u001b[49m\u001b[47m\u001b[30mA\u001b[39m\u001b[49m\u001b[47m\u001b[30mC\u001b[39m\u001b[49m\u001b[47m\u001b[30mA\u001b[39m\u001b[49m ENA|D38113|D38113...\n",
       "[10] 16561 \u001b[47m\u001b[30mG\u001b[39m\u001b[49m\u001b[47m\u001b[30mT\u001b[39m\u001b[49m\u001b[47m\u001b[30mT\u001b[39m\u001b[49m\u001b[47m\u001b[30mT\u001b[39m\u001b[49m\u001b[47m\u001b[30mA\u001b[39m\u001b[49m\u001b[47m\u001b[30mT\u001b[39m\u001b[49m\u001b[47m\u001b[30mG\u001b[39m\u001b[49m\u001b[47m\u001b[30mT\u001b[39m\u001b[49m\u001b[47m\u001b[30mA\u001b[39m\u001b[49m\u001b[47m\u001b[30mG\u001b[39m\u001b[49m\u001b[47m\u001b[30mC\u001b[39m\u001b[49m\u001b[47m\u001b[30mT\u001b[39m\u001b[49m\u001b[47m\u001b[30mT\u001b[39m\u001b[49m\u001b[47m\u001b[30mA\u001b[39m\u001b[49m\u001b[47m\u001b[30mC\u001b[39m\u001b[49m\u001b[47m\u001b[30mC\u001b[39m\u001b[49m\u001b[47m\u001b[30mC\u001b[39m\u001b[49m\u001b[47m\u001b[30mC\u001b[39m\u001b[49m\u001b[47m\u001b[30mC\u001b[39m\u001b[49m\u001b[47m\u001b[30mT\u001b[39m\u001b[49m\u001b[47m\u001b[30mC\u001b[39m\u001b[49m\u001b[47m\u001b[30mA\u001b[39m\u001b[49m\u001b[47m\u001b[30mA\u001b[39m\u001b[49m...\u001b[47m\u001b[30mA\u001b[39m\u001b[49m\u001b[47m\u001b[30mC\u001b[39m\u001b[49m\u001b[47m\u001b[30mC\u001b[39m\u001b[49m\u001b[47m\u001b[30mC\u001b[39m\u001b[49m\u001b[47m\u001b[30mC\u001b[39m\u001b[49m\u001b[47m\u001b[30mA\u001b[39m\u001b[49m\u001b[47m\u001b[30mA\u001b[39m\u001b[49m\u001b[47m\u001b[30mA\u001b[39m\u001b[49m\u001b[47m\u001b[30mG\u001b[39m\u001b[49m\u001b[47m\u001b[30mA\u001b[39m\u001b[49m\u001b[47m\u001b[30mC\u001b[39m\u001b[49m\u001b[47m\u001b[30mA\u001b[39m\u001b[49m\u001b[47m\u001b[30mC\u001b[39m\u001b[49m\u001b[47m\u001b[30mC\u001b[39m\u001b[49m\u001b[47m\u001b[30mC\u001b[39m\u001b[49m\u001b[47m\u001b[30mC\u001b[39m\u001b[49m\u001b[47m\u001b[30mT\u001b[39m\u001b[49m\u001b[47m\u001b[30mA\u001b[39m\u001b[49m\u001b[47m\u001b[30mC\u001b[39m\u001b[49m\u001b[47m\u001b[30mA\u001b[39m\u001b[49m\u001b[47m\u001b[30mC\u001b[39m\u001b[49m\u001b[47m\u001b[30mA\u001b[39m\u001b[49m ENA|X93335|X93335...\n",
       "[11] 16565 \u001b[47m\u001b[30mG\u001b[39m\u001b[49m\u001b[47m\u001b[30mA\u001b[39m\u001b[49m\u001b[47m\u001b[30mT\u001b[39m\u001b[49m\u001b[47m\u001b[30mC\u001b[39m\u001b[49m\u001b[47m\u001b[30mA\u001b[39m\u001b[49m\u001b[47m\u001b[30mC\u001b[39m\u001b[49m\u001b[47m\u001b[30mA\u001b[39m\u001b[49m\u001b[47m\u001b[30mG\u001b[39m\u001b[49m\u001b[47m\u001b[30mG\u001b[39m\u001b[49m\u001b[47m\u001b[30mT\u001b[39m\u001b[49m\u001b[47m\u001b[30mC\u001b[39m\u001b[49m\u001b[47m\u001b[30mT\u001b[39m\u001b[49m\u001b[47m\u001b[30mA\u001b[39m\u001b[49m\u001b[47m\u001b[30mT\u001b[39m\u001b[49m\u001b[47m\u001b[30mC\u001b[39m\u001b[49m\u001b[47m\u001b[30mA\u001b[39m\u001b[49m\u001b[47m\u001b[30mC\u001b[39m\u001b[49m\u001b[47m\u001b[30mC\u001b[39m\u001b[49m\u001b[47m\u001b[30mC\u001b[39m\u001b[49m\u001b[47m\u001b[30mT\u001b[39m\u001b[49m\u001b[47m\u001b[30mA\u001b[39m\u001b[49m\u001b[47m\u001b[30mT\u001b[39m\u001b[49m\u001b[47m\u001b[30mT\u001b[39m\u001b[49m...\u001b[47m\u001b[30mC\u001b[39m\u001b[49m\u001b[47m\u001b[30mC\u001b[39m\u001b[49m\u001b[47m\u001b[30mT\u001b[39m\u001b[49m\u001b[47m\u001b[30mT\u001b[39m\u001b[49m\u001b[47m\u001b[30mA\u001b[39m\u001b[49m\u001b[47m\u001b[30mA\u001b[39m\u001b[49m\u001b[47m\u001b[30mA\u001b[39m\u001b[49m\u001b[47m\u001b[30mT\u001b[39m\u001b[49m\u001b[47m\u001b[30mA\u001b[39m\u001b[49m\u001b[47m\u001b[30mA\u001b[39m\u001b[49m\u001b[47m\u001b[30mG\u001b[39m\u001b[49m\u001b[47m\u001b[30mA\u001b[39m\u001b[49m\u001b[47m\u001b[30mC\u001b[39m\u001b[49m\u001b[47m\u001b[30mA\u001b[39m\u001b[49m\u001b[47m\u001b[30mT\u001b[39m\u001b[49m\u001b[47m\u001b[30mC\u001b[39m\u001b[49m\u001b[47m\u001b[30mA\u001b[39m\u001b[49m\u001b[47m\u001b[30mC\u001b[39m\u001b[49m\u001b[47m\u001b[30mG\u001b[39m\u001b[49m\u001b[47m\u001b[30mA\u001b[39m\u001b[49m\u001b[47m\u001b[30mT\u001b[39m\u001b[49m\u001b[47m\u001b[30mG\u001b[39m\u001b[49m ENA|AM948965|AM94...\n",
       "[12] 16569 \u001b[47m\u001b[30mG\u001b[39m\u001b[49m\u001b[47m\u001b[30mA\u001b[39m\u001b[49m\u001b[47m\u001b[30mT\u001b[39m\u001b[49m\u001b[47m\u001b[30mC\u001b[39m\u001b[49m\u001b[47m\u001b[30mA\u001b[39m\u001b[49m\u001b[47m\u001b[30mC\u001b[39m\u001b[49m\u001b[47m\u001b[30mA\u001b[39m\u001b[49m\u001b[47m\u001b[30mG\u001b[39m\u001b[49m\u001b[47m\u001b[30mG\u001b[39m\u001b[49m\u001b[47m\u001b[30mT\u001b[39m\u001b[49m\u001b[47m\u001b[30mC\u001b[39m\u001b[49m\u001b[47m\u001b[30mT\u001b[39m\u001b[49m\u001b[47m\u001b[30mA\u001b[39m\u001b[49m\u001b[47m\u001b[30mT\u001b[39m\u001b[49m\u001b[47m\u001b[30mC\u001b[39m\u001b[49m\u001b[47m\u001b[30mA\u001b[39m\u001b[49m\u001b[47m\u001b[30mC\u001b[39m\u001b[49m\u001b[47m\u001b[30mC\u001b[39m\u001b[49m\u001b[47m\u001b[30mC\u001b[39m\u001b[49m\u001b[47m\u001b[30mT\u001b[39m\u001b[49m\u001b[47m\u001b[30mA\u001b[39m\u001b[49m\u001b[47m\u001b[30mT\u001b[39m\u001b[49m\u001b[47m\u001b[30mT\u001b[39m\u001b[49m...\u001b[47m\u001b[30mC\u001b[39m\u001b[49m\u001b[47m\u001b[30mC\u001b[39m\u001b[49m\u001b[47m\u001b[30mT\u001b[39m\u001b[49m\u001b[47m\u001b[30mT\u001b[39m\u001b[49m\u001b[47m\u001b[30mA\u001b[39m\u001b[49m\u001b[47m\u001b[30mA\u001b[39m\u001b[49m\u001b[47m\u001b[30mA\u001b[39m\u001b[49m\u001b[47m\u001b[30mT\u001b[39m\u001b[49m\u001b[47m\u001b[30mA\u001b[39m\u001b[49m\u001b[47m\u001b[30mA\u001b[39m\u001b[49m\u001b[47m\u001b[30mG\u001b[39m\u001b[49m\u001b[47m\u001b[30mA\u001b[39m\u001b[49m\u001b[47m\u001b[30mC\u001b[39m\u001b[49m\u001b[47m\u001b[30mA\u001b[39m\u001b[49m\u001b[47m\u001b[30mT\u001b[39m\u001b[49m\u001b[47m\u001b[30mC\u001b[39m\u001b[49m\u001b[47m\u001b[30mA\u001b[39m\u001b[49m\u001b[47m\u001b[30mC\u001b[39m\u001b[49m\u001b[47m\u001b[30mG\u001b[39m\u001b[49m\u001b[47m\u001b[30mA\u001b[39m\u001b[49m\u001b[47m\u001b[30mT\u001b[39m\u001b[49m\u001b[47m\u001b[30mG\u001b[39m\u001b[49m ENA|J01415|J01415...\n",
       "[13] 16571 \u001b[47m\u001b[30mG\u001b[39m\u001b[49m\u001b[47m\u001b[30mA\u001b[39m\u001b[49m\u001b[47m\u001b[30mT\u001b[39m\u001b[49m\u001b[47m\u001b[30mC\u001b[39m\u001b[49m\u001b[47m\u001b[30mA\u001b[39m\u001b[49m\u001b[47m\u001b[30mC\u001b[39m\u001b[49m\u001b[47m\u001b[30mA\u001b[39m\u001b[49m\u001b[47m\u001b[30mG\u001b[39m\u001b[49m\u001b[47m\u001b[30mG\u001b[39m\u001b[49m\u001b[47m\u001b[30mT\u001b[39m\u001b[49m\u001b[47m\u001b[30mC\u001b[39m\u001b[49m\u001b[47m\u001b[30mT\u001b[39m\u001b[49m\u001b[47m\u001b[30mA\u001b[39m\u001b[49m\u001b[47m\u001b[30mT\u001b[39m\u001b[49m\u001b[47m\u001b[30mC\u001b[39m\u001b[49m\u001b[47m\u001b[30mA\u001b[39m\u001b[49m\u001b[47m\u001b[30mC\u001b[39m\u001b[49m\u001b[47m\u001b[30mC\u001b[39m\u001b[49m\u001b[47m\u001b[30mC\u001b[39m\u001b[49m\u001b[47m\u001b[30mT\u001b[39m\u001b[49m\u001b[47m\u001b[30mA\u001b[39m\u001b[49m\u001b[47m\u001b[30mT\u001b[39m\u001b[49m\u001b[47m\u001b[30mT\u001b[39m\u001b[49m...\u001b[47m\u001b[30mC\u001b[39m\u001b[49m\u001b[47m\u001b[30mC\u001b[39m\u001b[49m\u001b[47m\u001b[30mT\u001b[39m\u001b[49m\u001b[47m\u001b[30mT\u001b[39m\u001b[49m\u001b[47m\u001b[30mA\u001b[39m\u001b[49m\u001b[47m\u001b[30mA\u001b[39m\u001b[49m\u001b[47m\u001b[30mA\u001b[39m\u001b[49m\u001b[47m\u001b[30mT\u001b[39m\u001b[49m\u001b[47m\u001b[30mA\u001b[39m\u001b[49m\u001b[47m\u001b[30mA\u001b[39m\u001b[49m\u001b[47m\u001b[30mG\u001b[39m\u001b[49m\u001b[47m\u001b[30mA\u001b[39m\u001b[49m\u001b[47m\u001b[30mC\u001b[39m\u001b[49m\u001b[47m\u001b[30mA\u001b[39m\u001b[49m\u001b[47m\u001b[30mT\u001b[39m\u001b[49m\u001b[47m\u001b[30mC\u001b[39m\u001b[49m\u001b[47m\u001b[30mA\u001b[39m\u001b[49m\u001b[47m\u001b[30mC\u001b[39m\u001b[49m\u001b[47m\u001b[30mG\u001b[39m\u001b[49m\u001b[47m\u001b[30mA\u001b[39m\u001b[49m\u001b[47m\u001b[30mT\u001b[39m\u001b[49m\u001b[47m\u001b[30mG\u001b[39m\u001b[49m ENA|AF347015|AF34..."
      ]
     },
     "metadata": {},
     "output_type": "display_data"
    }
   ],
   "source": [
    "sinAlinear <- readDNAStringSet('primates.fasta')\n",
    "sinAlinear"
   ]
  },
  {
   "cell_type": "markdown",
   "id": "7ec89b8d-7cd9-44a0-a974-e12f72b88c20",
   "metadata": {},
   "source": [
    "Ahora, el objeto `sinAlinear` contiene 13 secuencias mitocondriales. Observa como al invocar el nombre del objeto nos aparece un resumen de su contenido. Si ejecutas `names(sinAlinear)` en un bloque de código, observarás los nombres de las secuencias y verás que son innecesariamente largos. Antes de alinear, es conveniente acortar los nombres, cosa que se puede hacer reasignando el valor de los nombres respetando el orden en el cual están las secuencias:"
   ]
  },
  {
   "cell_type": "code",
   "execution_count": 5,
   "id": "548a3777-6391-446e-a65e-f452728c73f0",
   "metadata": {},
   "outputs": [
    {
     "data": {
      "text/html": [
       "<style>\n",
       ".list-inline {list-style: none; margin:0; padding: 0}\n",
       ".list-inline>li {display: inline-block}\n",
       ".list-inline>li:not(:last-child)::after {content: \"\\00b7\"; padding: 0 .5ex}\n",
       "</style>\n",
       "<ol class=list-inline><li>'ENA|Y18001|Y18001.1 Papio hamadryas mitochondrial DNA, complete genome'</li><li>'ENA|AJ309865|AJ309865.1 Macaca sylvanus mitochondrial genome'</li><li>'ENA|AY612638|AY612638.1 Macaca mulatta mitochondrion, complete genome.'</li><li>'ENA|X99256|X99256.1 Hylobates lar complete mitochondrial DNA sequence'</li><li>'ENA|D38115|D38115.1 Pongo pygmaeus mitochondrial DNA, complete sequence.'</li><li>'ENA|D38114|D38114.1 Gorilla gorilla mitochondrial DNA, complete genome.'</li><li>'ENA|X93347|X93347.1 Gorilla gorilla gorilla mitochondrial DNA. complete genome'</li><li>'ENA|GU189661|GU189661.1 Pan paniscus isolate PP23 mitochondrion, complete genome.'</li><li>'ENA|D38113|D38113.1 Pan troglodytes mitochondrial DNA, complete sequence.'</li><li>'ENA|X93335|X93335.1 Pan troglodytes mitochondrial DNA, complete genome (isolate Jenny)'</li><li>'ENA|AM948965|AM948965.1 Homo sapiens neanderthalensis complete mitochondrial genome'</li><li>'ENA|J01415|J01415.2 Homo sapiens mitochondrion, complete genome.'</li><li>'ENA|AF347015|AF347015.1 Homo sapiens mitochondrion, complete genome.'</li></ol>\n"
      ],
      "text/latex": [
       "\\begin{enumerate*}\n",
       "\\item 'ENA\\textbar{}Y18001\\textbar{}Y18001.1 Papio hamadryas mitochondrial DNA, complete genome'\n",
       "\\item 'ENA\\textbar{}AJ309865\\textbar{}AJ309865.1 Macaca sylvanus mitochondrial genome'\n",
       "\\item 'ENA\\textbar{}AY612638\\textbar{}AY612638.1 Macaca mulatta mitochondrion, complete genome.'\n",
       "\\item 'ENA\\textbar{}X99256\\textbar{}X99256.1 Hylobates lar complete mitochondrial DNA sequence'\n",
       "\\item 'ENA\\textbar{}D38115\\textbar{}D38115.1 Pongo pygmaeus mitochondrial DNA, complete sequence.'\n",
       "\\item 'ENA\\textbar{}D38114\\textbar{}D38114.1 Gorilla gorilla mitochondrial DNA, complete genome.'\n",
       "\\item 'ENA\\textbar{}X93347\\textbar{}X93347.1 Gorilla gorilla gorilla mitochondrial DNA. complete genome'\n",
       "\\item 'ENA\\textbar{}GU189661\\textbar{}GU189661.1 Pan paniscus isolate PP23 mitochondrion, complete genome.'\n",
       "\\item 'ENA\\textbar{}D38113\\textbar{}D38113.1 Pan troglodytes mitochondrial DNA, complete sequence.'\n",
       "\\item 'ENA\\textbar{}X93335\\textbar{}X93335.1 Pan troglodytes mitochondrial DNA, complete genome (isolate Jenny)'\n",
       "\\item 'ENA\\textbar{}AM948965\\textbar{}AM948965.1 Homo sapiens neanderthalensis complete mitochondrial genome'\n",
       "\\item 'ENA\\textbar{}J01415\\textbar{}J01415.2 Homo sapiens mitochondrion, complete genome.'\n",
       "\\item 'ENA\\textbar{}AF347015\\textbar{}AF347015.1 Homo sapiens mitochondrion, complete genome.'\n",
       "\\end{enumerate*}\n"
      ],
      "text/markdown": [
       "1. 'ENA|Y18001|Y18001.1 Papio hamadryas mitochondrial DNA, complete genome'\n",
       "2. 'ENA|AJ309865|AJ309865.1 Macaca sylvanus mitochondrial genome'\n",
       "3. 'ENA|AY612638|AY612638.1 Macaca mulatta mitochondrion, complete genome.'\n",
       "4. 'ENA|X99256|X99256.1 Hylobates lar complete mitochondrial DNA sequence'\n",
       "5. 'ENA|D38115|D38115.1 Pongo pygmaeus mitochondrial DNA, complete sequence.'\n",
       "6. 'ENA|D38114|D38114.1 Gorilla gorilla mitochondrial DNA, complete genome.'\n",
       "7. 'ENA|X93347|X93347.1 Gorilla gorilla gorilla mitochondrial DNA. complete genome'\n",
       "8. 'ENA|GU189661|GU189661.1 Pan paniscus isolate PP23 mitochondrion, complete genome.'\n",
       "9. 'ENA|D38113|D38113.1 Pan troglodytes mitochondrial DNA, complete sequence.'\n",
       "10. 'ENA|X93335|X93335.1 Pan troglodytes mitochondrial DNA, complete genome (isolate Jenny)'\n",
       "11. 'ENA|AM948965|AM948965.1 Homo sapiens neanderthalensis complete mitochondrial genome'\n",
       "12. 'ENA|J01415|J01415.2 Homo sapiens mitochondrion, complete genome.'\n",
       "13. 'ENA|AF347015|AF347015.1 Homo sapiens mitochondrion, complete genome.'\n",
       "\n",
       "\n"
      ],
      "text/plain": [
       " [1] \"ENA|Y18001|Y18001.1 Papio hamadryas mitochondrial DNA, complete genome\"                \n",
       " [2] \"ENA|AJ309865|AJ309865.1 Macaca sylvanus mitochondrial genome\"                          \n",
       " [3] \"ENA|AY612638|AY612638.1 Macaca mulatta mitochondrion, complete genome.\"                \n",
       " [4] \"ENA|X99256|X99256.1 Hylobates lar complete mitochondrial DNA sequence\"                 \n",
       " [5] \"ENA|D38115|D38115.1 Pongo pygmaeus mitochondrial DNA, complete sequence.\"              \n",
       " [6] \"ENA|D38114|D38114.1 Gorilla gorilla mitochondrial DNA, complete genome.\"               \n",
       " [7] \"ENA|X93347|X93347.1 Gorilla gorilla gorilla mitochondrial DNA. complete genome\"        \n",
       " [8] \"ENA|GU189661|GU189661.1 Pan paniscus isolate PP23 mitochondrion, complete genome.\"     \n",
       " [9] \"ENA|D38113|D38113.1 Pan troglodytes mitochondrial DNA, complete sequence.\"             \n",
       "[10] \"ENA|X93335|X93335.1 Pan troglodytes mitochondrial DNA, complete genome (isolate Jenny)\"\n",
       "[11] \"ENA|AM948965|AM948965.1 Homo sapiens neanderthalensis complete mitochondrial genome\"   \n",
       "[12] \"ENA|J01415|J01415.2 Homo sapiens mitochondrion, complete genome.\"                      \n",
       "[13] \"ENA|AF347015|AF347015.1 Homo sapiens mitochondrion, complete genome.\"                  "
      ]
     },
     "metadata": {},
     "output_type": "display_data"
    }
   ],
   "source": [
    "names(sinAlinear)"
   ]
  },
  {
   "cell_type": "code",
   "execution_count": 6,
   "id": "8dd14f3d-93bf-4573-822b-7c5f0e33d574",
   "metadata": {},
   "outputs": [],
   "source": [
    "names(sinAlinear) <- c('Papio hamadryas', 'Macaca sylvanus', 'Macaca mulatta',\n",
    "           'Hylobates lar', 'Pongo pygmaeus', 'Gorilla gorilla',\n",
    "           'Gorilla gorilla gorilla', 'Pan paniscus', 'Pan troglodytes',\n",
    "           'Pan troglodytes verus', 'H. sapiens neanderthalensis', \n",
    "           'H. sapiens (Cambridge)', 'H. sapiens (Yoruba)')"
   ]
  },
  {
   "cell_type": "code",
   "execution_count": 7,
   "id": "a6abb994-6b09-476c-b095-083be103e588",
   "metadata": {},
   "outputs": [
    {
     "data": {
      "text/html": [
       "<style>\n",
       ".list-inline {list-style: none; margin:0; padding: 0}\n",
       ".list-inline>li {display: inline-block}\n",
       ".list-inline>li:not(:last-child)::after {content: \"\\00b7\"; padding: 0 .5ex}\n",
       "</style>\n",
       "<ol class=list-inline><li>'Papio hamadryas'</li><li>'Macaca sylvanus'</li><li>'Macaca mulatta'</li><li>'Hylobates lar'</li><li>'Pongo pygmaeus'</li><li>'Gorilla gorilla'</li><li>'Gorilla gorilla gorilla'</li><li>'Pan paniscus'</li><li>'Pan troglodytes'</li><li>'Pan troglodytes verus'</li><li>'H. sapiens neanderthalensis'</li><li>'H. sapiens (Cambridge)'</li><li>'H. sapiens (Yoruba)'</li></ol>\n"
      ],
      "text/latex": [
       "\\begin{enumerate*}\n",
       "\\item 'Papio hamadryas'\n",
       "\\item 'Macaca sylvanus'\n",
       "\\item 'Macaca mulatta'\n",
       "\\item 'Hylobates lar'\n",
       "\\item 'Pongo pygmaeus'\n",
       "\\item 'Gorilla gorilla'\n",
       "\\item 'Gorilla gorilla gorilla'\n",
       "\\item 'Pan paniscus'\n",
       "\\item 'Pan troglodytes'\n",
       "\\item 'Pan troglodytes verus'\n",
       "\\item 'H. sapiens neanderthalensis'\n",
       "\\item 'H. sapiens (Cambridge)'\n",
       "\\item 'H. sapiens (Yoruba)'\n",
       "\\end{enumerate*}\n"
      ],
      "text/markdown": [
       "1. 'Papio hamadryas'\n",
       "2. 'Macaca sylvanus'\n",
       "3. 'Macaca mulatta'\n",
       "4. 'Hylobates lar'\n",
       "5. 'Pongo pygmaeus'\n",
       "6. 'Gorilla gorilla'\n",
       "7. 'Gorilla gorilla gorilla'\n",
       "8. 'Pan paniscus'\n",
       "9. 'Pan troglodytes'\n",
       "10. 'Pan troglodytes verus'\n",
       "11. 'H. sapiens neanderthalensis'\n",
       "12. 'H. sapiens (Cambridge)'\n",
       "13. 'H. sapiens (Yoruba)'\n",
       "\n",
       "\n"
      ],
      "text/plain": [
       " [1] \"Papio hamadryas\"             \"Macaca sylvanus\"            \n",
       " [3] \"Macaca mulatta\"              \"Hylobates lar\"              \n",
       " [5] \"Pongo pygmaeus\"              \"Gorilla gorilla\"            \n",
       " [7] \"Gorilla gorilla gorilla\"     \"Pan paniscus\"               \n",
       " [9] \"Pan troglodytes\"             \"Pan troglodytes verus\"      \n",
       "[11] \"H. sapiens neanderthalensis\" \"H. sapiens (Cambridge)\"     \n",
       "[13] \"H. sapiens (Yoruba)\"        "
      ]
     },
     "metadata": {},
     "output_type": "display_data"
    }
   ],
   "source": [
    "names(sinAlinear)"
   ]
  },
  {
   "cell_type": "markdown",
   "id": "dcfe09c3-0242-4758-8c0e-91e1aaede82a",
   "metadata": {},
   "source": [
    "Una vez comprobado que los nombres de las secuencias son los adecuados procedemos al alineamiento:"
   ]
  },
  {
   "cell_type": "code",
   "execution_count": 8,
   "id": "6ce5e6b4-7633-4bb7-89f8-bc91d84fc26c",
   "metadata": {},
   "outputs": [
    {
     "data": {
      "text/plain": [
       "DNAStringSet object of length 13:\n",
       "     width seq                                              names               \n",
       " [1] 17343 -----------------------...\u001b[47m\u001b[30mC\u001b[39m\u001b[49m\u001b[47m\u001b[30mA\u001b[39m\u001b[49m\u001b[47m\u001b[30mC\u001b[39m\u001b[49m\u001b[47m\u001b[30mA\u001b[39m\u001b[49m\u001b[47m\u001b[30mA\u001b[39m\u001b[49m\u001b[47m\u001b[30mC\u001b[39m\u001b[49m\u001b[47m\u001b[30mT\u001b[39m\u001b[49m-\u001b[47m\u001b[30mA\u001b[39m\u001b[49m\u001b[47m\u001b[30mC\u001b[39m\u001b[49m\u001b[47m\u001b[30mA\u001b[39m\u001b[49m\u001b[47m\u001b[30mC\u001b[39m\u001b[49m\u001b[47m\u001b[30mC\u001b[39m\u001b[49m\u001b[47m\u001b[30mC\u001b[39m\u001b[49m\u001b[47m\u001b[30mG\u001b[39m\u001b[49m\u001b[47m\u001b[30mC\u001b[39m\u001b[49m\u001b[47m\u001b[30mA\u001b[39m\u001b[49m\u001b[47m\u001b[30mC\u001b[39m\u001b[49m\u001b[47m\u001b[30mT\u001b[39m\u001b[49m\u001b[47m\u001b[30mA\u001b[39m\u001b[49m\u001b[47m\u001b[30mG\u001b[39m\u001b[49m\u001b[47m\u001b[30mC\u001b[39m\u001b[49m Papio hamadryas\n",
       " [2] 17343 -----------------------...\u001b[47m\u001b[30mC\u001b[39m\u001b[49m\u001b[47m\u001b[30mA\u001b[39m\u001b[49m\u001b[47m\u001b[30mC\u001b[39m\u001b[49m\u001b[47m\u001b[30mA\u001b[39m\u001b[49m\u001b[47m\u001b[30mA\u001b[39m\u001b[49m\u001b[47m\u001b[30mT\u001b[39m\u001b[49m\u001b[47m\u001b[30mT\u001b[39m\u001b[49m\u001b[47m\u001b[30mG\u001b[39m\u001b[49m\u001b[47m\u001b[30mT\u001b[39m\u001b[49m\u001b[47m\u001b[30mC\u001b[39m\u001b[49m\u001b[47m\u001b[30mA\u001b[39m\u001b[49m\u001b[47m\u001b[30mC\u001b[39m\u001b[49m\u001b[47m\u001b[30mT\u001b[39m\u001b[49m\u001b[47m\u001b[30mC\u001b[39m\u001b[49m\u001b[47m\u001b[30mA\u001b[39m\u001b[49m\u001b[47m\u001b[30mC\u001b[39m\u001b[49m\u001b[47m\u001b[30mA\u001b[39m\u001b[49m\u001b[47m\u001b[30mC\u001b[39m\u001b[49m\u001b[47m\u001b[30mC\u001b[39m\u001b[49m\u001b[47m\u001b[30mC\u001b[39m\u001b[49m\u001b[47m\u001b[30mC\u001b[39m\u001b[49m\u001b[47m\u001b[30mT\u001b[39m\u001b[49m Macaca sylvanus\n",
       " [3] 17343 \u001b[47m\u001b[30mG\u001b[39m\u001b[49m\u001b[47m\u001b[30mA\u001b[39m\u001b[49m\u001b[47m\u001b[30mT\u001b[39m\u001b[49m\u001b[47m\u001b[30mC\u001b[39m\u001b[49m\u001b[47m\u001b[30mA\u001b[39m\u001b[49m\u001b[47m\u001b[30mC\u001b[39m\u001b[49m\u001b[47m\u001b[30mG\u001b[39m\u001b[49m\u001b[47m\u001b[30mG\u001b[39m\u001b[49m\u001b[47m\u001b[30mG\u001b[39m\u001b[49m\u001b[47m\u001b[30mT\u001b[39m\u001b[49m\u001b[47m\u001b[30mC\u001b[39m\u001b[49m\u001b[47m\u001b[30mT\u001b[39m\u001b[49m\u001b[47m\u001b[30mA\u001b[39m\u001b[49m\u001b[47m\u001b[30mT\u001b[39m\u001b[49m\u001b[47m\u001b[30mC\u001b[39m\u001b[49m\u001b[47m\u001b[30mA\u001b[39m\u001b[49m\u001b[47m\u001b[30mC\u001b[39m\u001b[49m\u001b[47m\u001b[30mC\u001b[39m\u001b[49m\u001b[47m\u001b[30mC\u001b[39m\u001b[49m\u001b[47m\u001b[30mT\u001b[39m\u001b[49m\u001b[47m\u001b[30mA\u001b[39m\u001b[49m\u001b[47m\u001b[30mT\u001b[39m\u001b[49m\u001b[47m\u001b[30mT\u001b[39m\u001b[49m...---------------------- Macaca mulatta\n",
       " [4] 17343 -----------------------...---------------------- Hylobates lar\n",
       " [5] 17343 -----------------------...\u001b[47m\u001b[30mC\u001b[39m\u001b[49m\u001b[47m\u001b[30mA\u001b[39m\u001b[49m\u001b[47m\u001b[30mC\u001b[39m\u001b[49m\u001b[47m\u001b[30mA\u001b[39m\u001b[49m------------------ Pongo pygmaeus\n",
       " ...   ... ...\n",
       " [9] 17343 -----------------------...\u001b[47m\u001b[30mC\u001b[39m\u001b[49m\u001b[47m\u001b[30mA\u001b[39m\u001b[49m\u001b[47m\u001b[30mC\u001b[39m\u001b[49m\u001b[47m\u001b[30mA\u001b[39m\u001b[49m------------------ Pan troglodytes\n",
       "[10] 17343 -----------------------...\u001b[47m\u001b[30mC\u001b[39m\u001b[49m\u001b[47m\u001b[30mA\u001b[39m\u001b[49m\u001b[47m\u001b[30mC\u001b[39m\u001b[49m\u001b[47m\u001b[30mA\u001b[39m\u001b[49m------------------ Pan troglodytes v...\n",
       "[11] 17343 \u001b[47m\u001b[30mG\u001b[39m\u001b[49m\u001b[47m\u001b[30mA\u001b[39m\u001b[49m\u001b[47m\u001b[30mT\u001b[39m\u001b[49m\u001b[47m\u001b[30mC\u001b[39m\u001b[49m\u001b[47m\u001b[30mA\u001b[39m\u001b[49m\u001b[47m\u001b[30mC\u001b[39m\u001b[49m\u001b[47m\u001b[30mA\u001b[39m\u001b[49m\u001b[47m\u001b[30mG\u001b[39m\u001b[49m\u001b[47m\u001b[30mG\u001b[39m\u001b[49m\u001b[47m\u001b[30mT\u001b[39m\u001b[49m\u001b[47m\u001b[30mC\u001b[39m\u001b[49m\u001b[47m\u001b[30mT\u001b[39m\u001b[49m\u001b[47m\u001b[30mA\u001b[39m\u001b[49m\u001b[47m\u001b[30mT\u001b[39m\u001b[49m\u001b[47m\u001b[30mC\u001b[39m\u001b[49m\u001b[47m\u001b[30mA\u001b[39m\u001b[49m\u001b[47m\u001b[30mC\u001b[39m\u001b[49m\u001b[47m\u001b[30mC\u001b[39m\u001b[49m\u001b[47m\u001b[30mC\u001b[39m\u001b[49m\u001b[47m\u001b[30mT\u001b[39m\u001b[49m\u001b[47m\u001b[30mA\u001b[39m\u001b[49m\u001b[47m\u001b[30mT\u001b[39m\u001b[49m\u001b[47m\u001b[30mT\u001b[39m\u001b[49m...---------------------- H. sapiens neande...\n",
       "[12] 17343 \u001b[47m\u001b[30mG\u001b[39m\u001b[49m\u001b[47m\u001b[30mA\u001b[39m\u001b[49m\u001b[47m\u001b[30mT\u001b[39m\u001b[49m\u001b[47m\u001b[30mC\u001b[39m\u001b[49m\u001b[47m\u001b[30mA\u001b[39m\u001b[49m\u001b[47m\u001b[30mC\u001b[39m\u001b[49m\u001b[47m\u001b[30mA\u001b[39m\u001b[49m\u001b[47m\u001b[30mG\u001b[39m\u001b[49m\u001b[47m\u001b[30mG\u001b[39m\u001b[49m\u001b[47m\u001b[30mT\u001b[39m\u001b[49m\u001b[47m\u001b[30mC\u001b[39m\u001b[49m\u001b[47m\u001b[30mT\u001b[39m\u001b[49m\u001b[47m\u001b[30mA\u001b[39m\u001b[49m\u001b[47m\u001b[30mT\u001b[39m\u001b[49m\u001b[47m\u001b[30mC\u001b[39m\u001b[49m\u001b[47m\u001b[30mA\u001b[39m\u001b[49m\u001b[47m\u001b[30mC\u001b[39m\u001b[49m\u001b[47m\u001b[30mC\u001b[39m\u001b[49m\u001b[47m\u001b[30mC\u001b[39m\u001b[49m\u001b[47m\u001b[30mT\u001b[39m\u001b[49m\u001b[47m\u001b[30mA\u001b[39m\u001b[49m\u001b[47m\u001b[30mT\u001b[39m\u001b[49m\u001b[47m\u001b[30mT\u001b[39m\u001b[49m...---------------------- H. sapiens (Cambr...\n",
       "[13] 17343 \u001b[47m\u001b[30mG\u001b[39m\u001b[49m\u001b[47m\u001b[30mA\u001b[39m\u001b[49m\u001b[47m\u001b[30mT\u001b[39m\u001b[49m\u001b[47m\u001b[30mC\u001b[39m\u001b[49m\u001b[47m\u001b[30mA\u001b[39m\u001b[49m\u001b[47m\u001b[30mC\u001b[39m\u001b[49m\u001b[47m\u001b[30mA\u001b[39m\u001b[49m\u001b[47m\u001b[30mG\u001b[39m\u001b[49m\u001b[47m\u001b[30mG\u001b[39m\u001b[49m\u001b[47m\u001b[30mT\u001b[39m\u001b[49m\u001b[47m\u001b[30mC\u001b[39m\u001b[49m\u001b[47m\u001b[30mT\u001b[39m\u001b[49m\u001b[47m\u001b[30mA\u001b[39m\u001b[49m\u001b[47m\u001b[30mT\u001b[39m\u001b[49m\u001b[47m\u001b[30mC\u001b[39m\u001b[49m\u001b[47m\u001b[30mA\u001b[39m\u001b[49m\u001b[47m\u001b[30mC\u001b[39m\u001b[49m\u001b[47m\u001b[30mC\u001b[39m\u001b[49m\u001b[47m\u001b[30mC\u001b[39m\u001b[49m\u001b[47m\u001b[30mT\u001b[39m\u001b[49m\u001b[47m\u001b[30mA\u001b[39m\u001b[49m\u001b[47m\u001b[30mT\u001b[39m\u001b[49m\u001b[47m\u001b[30mT\u001b[39m\u001b[49m...---------------------- H. sapiens (Yoruba)"
      ]
     },
     "metadata": {},
     "output_type": "display_data"
    }
   ],
   "source": [
    "alineadas <- AlignSeqs(sinAlinear, verbose = FALSE)\n",
    "alineadas"
   ]
  },
  {
   "cell_type": "markdown",
   "id": "ea3542ea-775c-495a-9bdd-6bd326b8460c",
   "metadata": {},
   "source": [
    "Observa que la función `AlignSeqs()` **no** modifica el objeto original (`sinAlinear`), sino que crea otro. Por eso necesitamos *assignar* (`<-`) el resulado de la función a un nuevo objeto (`alineadas`) para retener en la memoria del trabajo el resultado del alineamiento.\n",
    "\n",
    "Observa también que el nuevo objeto `alineadas` tiene un aspecto diferente al de `sinAlinear`. Para ver el alineamiento completo ejecuta el comando siguiente, con el cual se crea y abre el archivo `alineadas.html` en una pestaña nueva de tu navegador."
   ]
  },
  {
   "cell_type": "code",
   "execution_count": 10,
   "id": "92e4df21-1c92-4aa1-8012-2cc6e7e2eee8",
   "metadata": {},
   "outputs": [],
   "source": [
    "BrowseSeqs(alineadas, htmlFile = 'alineadas.html', openURL = TRUE)"
   ]
  },
  {
   "cell_type": "markdown",
   "id": "e1ddc192-56ea-4f76-8959-ac9021e9bc00",
   "metadata": {},
   "source": [
    "### 2.1 ¿Por qué crees que algunas secuencias parecen tener fragmentos adicionales al principio o al final del alineamiento?"
   ]
  },
  {
   "cell_type": "markdown",
   "id": "51977f47-6aa1-493f-a172-45d19b31cfde",
   "metadata": {},
   "source": []
  },
  {
   "cell_type": "markdown",
   "id": "289cb21f-71d4-4d13-a71f-53499682268d",
   "metadata": {},
   "source": [
    "### 2.2 Con la función `readDNAStringSet()` carga el alineamiento contenido en el archivo `primates2.fasta` en un nuevo objeto, explóralo con la función `BrowseSeqs()` y determina en qué se diferencia del alineamiento que has creado tú previamente."
   ]
  },
  {
   "cell_type": "code",
   "execution_count": 9,
   "id": "33bbca12-d24a-4a9e-9349-89e802a2a395",
   "metadata": {},
   "outputs": [],
   "source": [
    "# Introduce aquí los comandos que necesites, basándote en los\n",
    "# bloques anteriores.\n",
    "alineadas2 <- readDNAStringSet('primates2.fasta')\n",
    "BrowseSeqs(alineadas2, htmlFile = 'alineadas2.html', openURL = TRUE)"
   ]
  },
  {
   "cell_type": "markdown",
   "id": "2be375c5-144d-4011-9747-505db0fe3563",
   "metadata": {},
   "source": [
    "### 2.3 Decide cuál de los dos alineamientos, el creado por ti o el que ha cargado a partir del archivo `primates2.fasta`, es el más adecuado para utilizarlo en el paso siguiente."
   ]
  },
  {
   "cell_type": "markdown",
   "id": "d1a71d17-bfb2-412c-b2f6-6be527cf7501",
   "metadata": {},
   "source": []
  },
  {
   "cell_type": "markdown",
   "id": "083a3322-d8a3-4f48-a752-cb6a7a13a32c",
   "metadata": {},
   "source": [
    "## Ejercicio 3. Reconstrucción filogenética\n",
    "Una vez disponemos de un alineamiento, podemos inferir las relaciones filogenéticas entre las 13 secuencias. Hay muchos métodos diferentes: máxima parsimonia, máxima similitud, UPGMA, etc. Utilizaremos el método de Neighbor-Joining, basado en la matriz de distancias genéticas entre las secuencias, porque es un método rápido.\n",
    "\n",
    "### Distancias\n",
    "El primer paso es obtener la **matriz de distancias**, lo cual podemos hacer con la función `dist.dna()` (del paquete `ape`, cargado automáticamente junto a `phangorn`). Ahora bien, el alineamiento de partida es un objeto de clase `DNAStringSet`, mientras que la función `dist.dna()` requiere que el alineamiento sea un objeto de clase `DNAbin`. Por tanto, se debe utilizar la función `as.DNAbin()` para transformar el objeto. Edita el bloque de código siguiente para poder utilizar el alineamiento elegido en el ejercicio 2.3."
   ]
  },
  {
   "cell_type": "code",
   "execution_count": 13,
   "id": "b07680ab-ae85-466f-94b0-fa58ba5147ab",
   "metadata": {},
   "outputs": [
    {
     "data": {
      "text/plain": [
       "13 DNA sequences in binary format stored in a list.\n",
       "\n",
       "All sequences of same length: 16745 \n",
       "\n",
       "Labels:\n",
       "Papio hamadryas\n",
       "Macaca sylvanus\n",
       "Macaca mulatta\n",
       "Hylobates lar\n",
       "Pongo pygmaeus\n",
       "Gorilla gorilla\n",
       "...\n",
       "\n",
       "Base composition:\n",
       "    a     c     g     t \n",
       "0.311 0.310 0.131 0.248 \n",
       "(Total: 217.68 kb)"
      ]
     },
     "metadata": {},
     "output_type": "display_data"
    }
   ],
   "source": [
    "# Sustituye \"alineamiento\" por el nombre del objeto donde guardas \n",
    "# el alineamiento que has decidido utilizar en el ejercicio 2.3.\n",
    "\n",
    "aln <- as.DNAbin( alineamiento )\n",
    "aln"
   ]
  },
  {
   "cell_type": "markdown",
   "id": "32e332e2-e8d7-4992-a1a6-ff388c1cf79a",
   "metadata": {},
   "source": [
    "Las distancias son una estimación del número medio de sustituciones nucleotídicas acumuladas entre dos secuencias desde el momento que divergieron por cada posición de su alineamiento. Una distancia genética de 1 implicaría que *en término medio* todas las posiciones han sufrido una mutación. Como es una media entre todas las posiciones del alineamiento, generalmente es posible reconocer la homología de dos secuencias y alinearlas incluso con ditancias mayores de 1: en algunas posiciones se han producido más de una mutación a lo largo de los dos linajes, mientras que en muchas otras posiciones no se ha producido ninguna.\n",
    "\n",
    "Para poder estimar estas distancias es necesario adoptar un **modelo de evolución molecular**, el cual nos permite suponer cuantas sustituciones más de las observadas deben de haberse producido, a partir del número de cambios observados. EN el bloque siguiente, sugerimos el modelo *K81* (Kimura, 1981). Para ver qué otras opciones tienes, consulta la ayuda de la función `dist.dna()` ejecutando la orden `help(dist.dna)` en un bloque de código."
   ]
  },
  {
   "cell_type": "code",
   "execution_count": 14,
   "id": "a4fed842-6edd-4d4e-bf4f-0e816fecf05a",
   "metadata": {},
   "outputs": [
    {
     "data": {
      "text/html": [
       "<table class=\"dataframe\">\n",
       "<caption>A matrix: 13 × 13 of type dbl</caption>\n",
       "<thead>\n",
       "\t<tr><th></th><th scope=col>Papio hamadryas</th><th scope=col>Macaca sylvanus</th><th scope=col>Macaca mulatta</th><th scope=col>Hylobates lar</th><th scope=col>Pongo pygmaeus</th><th scope=col>Gorilla gorilla</th><th scope=col>Gorilla gorilla gorilla</th><th scope=col>Pan paniscus</th><th scope=col>Pan troglodytes</th><th scope=col>Pan troglodytes verus</th><th scope=col>H. sapiens neanderthalensis</th><th scope=col>H. sapiens (Cambridge)</th><th scope=col>H. sapiens (Yoruba)</th></tr>\n",
       "</thead>\n",
       "<tbody>\n",
       "\t<tr><th scope=row>Papio hamadryas</th><td>0.000</td><td>0.165</td><td>0.168</td><td>0.256</td><td>0.255</td><td>0.258</td><td>0.256</td><td>0.247</td><td>0.251</td><td>0.251</td><td>0.253</td><td>0.253</td><td>0.253</td></tr>\n",
       "\t<tr><th scope=row>Macaca sylvanus</th><td>0.165</td><td>0.000</td><td>0.116</td><td>0.249</td><td>0.254</td><td>0.252</td><td>0.251</td><td>0.242</td><td>0.248</td><td>0.247</td><td>0.250</td><td>0.250</td><td>0.250</td></tr>\n",
       "\t<tr><th scope=row>Macaca mulatta</th><td>0.168</td><td>0.116</td><td>0.000</td><td>0.253</td><td>0.249</td><td>0.251</td><td>0.250</td><td>0.245</td><td>0.248</td><td>0.248</td><td>0.250</td><td>0.251</td><td>0.252</td></tr>\n",
       "\t<tr><th scope=row>Hylobates lar</th><td>0.256</td><td>0.249</td><td>0.253</td><td>0.000</td><td>0.196</td><td>0.189</td><td>0.189</td><td>0.186</td><td>0.187</td><td>0.186</td><td>0.185</td><td>0.186</td><td>0.186</td></tr>\n",
       "\t<tr><th scope=row>Pongo pygmaeus</th><td>0.255</td><td>0.254</td><td>0.249</td><td>0.196</td><td>0.000</td><td>0.173</td><td>0.172</td><td>0.168</td><td>0.171</td><td>0.170</td><td>0.168</td><td>0.167</td><td>0.168</td></tr>\n",
       "\t<tr><th scope=row>Gorilla gorilla</th><td>0.258</td><td>0.252</td><td>0.251</td><td>0.189</td><td>0.173</td><td>0.000</td><td>0.005</td><td>0.113</td><td>0.115</td><td>0.113</td><td>0.117</td><td>0.117</td><td>0.117</td></tr>\n",
       "\t<tr><th scope=row>Gorilla gorilla gorilla</th><td>0.256</td><td>0.251</td><td>0.250</td><td>0.189</td><td>0.172</td><td>0.005</td><td>0.000</td><td>0.111</td><td>0.114</td><td>0.113</td><td>0.116</td><td>0.117</td><td>0.117</td></tr>\n",
       "\t<tr><th scope=row>Pan paniscus</th><td>0.247</td><td>0.242</td><td>0.245</td><td>0.186</td><td>0.168</td><td>0.113</td><td>0.111</td><td>0.000</td><td>0.040</td><td>0.040</td><td>0.091</td><td>0.092</td><td>0.092</td></tr>\n",
       "\t<tr><th scope=row>Pan troglodytes</th><td>0.251</td><td>0.248</td><td>0.248</td><td>0.187</td><td>0.171</td><td>0.115</td><td>0.114</td><td>0.040</td><td>0.000</td><td>0.003</td><td>0.092</td><td>0.093</td><td>0.094</td></tr>\n",
       "\t<tr><th scope=row>Pan troglodytes verus</th><td>0.251</td><td>0.247</td><td>0.248</td><td>0.186</td><td>0.170</td><td>0.113</td><td>0.113</td><td>0.040</td><td>0.003</td><td>0.000</td><td>0.092</td><td>0.093</td><td>0.093</td></tr>\n",
       "\t<tr><th scope=row>H. sapiens neanderthalensis</th><td>0.253</td><td>0.250</td><td>0.250</td><td>0.185</td><td>0.168</td><td>0.117</td><td>0.116</td><td>0.091</td><td>0.092</td><td>0.092</td><td>0.000</td><td>0.012</td><td>0.012</td></tr>\n",
       "\t<tr><th scope=row>H. sapiens (Cambridge)</th><td>0.253</td><td>0.250</td><td>0.251</td><td>0.186</td><td>0.167</td><td>0.117</td><td>0.117</td><td>0.092</td><td>0.093</td><td>0.093</td><td>0.012</td><td>0.000</td><td>0.002</td></tr>\n",
       "\t<tr><th scope=row>H. sapiens (Yoruba)</th><td>0.253</td><td>0.250</td><td>0.252</td><td>0.186</td><td>0.168</td><td>0.117</td><td>0.117</td><td>0.092</td><td>0.094</td><td>0.093</td><td>0.012</td><td>0.002</td><td>0.000</td></tr>\n",
       "</tbody>\n",
       "</table>\n"
      ],
      "text/latex": [
       "A matrix: 13 × 13 of type dbl\n",
       "\\begin{tabular}{r|lllllllllllll}\n",
       "  & Papio hamadryas & Macaca sylvanus & Macaca mulatta & Hylobates lar & Pongo pygmaeus & Gorilla gorilla & Gorilla gorilla gorilla & Pan paniscus & Pan troglodytes & Pan troglodytes verus & H. sapiens neanderthalensis & H. sapiens (Cambridge) & H. sapiens (Yoruba)\\\\\n",
       "\\hline\n",
       "\tPapio hamadryas & 0.000 & 0.165 & 0.168 & 0.256 & 0.255 & 0.258 & 0.256 & 0.247 & 0.251 & 0.251 & 0.253 & 0.253 & 0.253\\\\\n",
       "\tMacaca sylvanus & 0.165 & 0.000 & 0.116 & 0.249 & 0.254 & 0.252 & 0.251 & 0.242 & 0.248 & 0.247 & 0.250 & 0.250 & 0.250\\\\\n",
       "\tMacaca mulatta & 0.168 & 0.116 & 0.000 & 0.253 & 0.249 & 0.251 & 0.250 & 0.245 & 0.248 & 0.248 & 0.250 & 0.251 & 0.252\\\\\n",
       "\tHylobates lar & 0.256 & 0.249 & 0.253 & 0.000 & 0.196 & 0.189 & 0.189 & 0.186 & 0.187 & 0.186 & 0.185 & 0.186 & 0.186\\\\\n",
       "\tPongo pygmaeus & 0.255 & 0.254 & 0.249 & 0.196 & 0.000 & 0.173 & 0.172 & 0.168 & 0.171 & 0.170 & 0.168 & 0.167 & 0.168\\\\\n",
       "\tGorilla gorilla & 0.258 & 0.252 & 0.251 & 0.189 & 0.173 & 0.000 & 0.005 & 0.113 & 0.115 & 0.113 & 0.117 & 0.117 & 0.117\\\\\n",
       "\tGorilla gorilla gorilla & 0.256 & 0.251 & 0.250 & 0.189 & 0.172 & 0.005 & 0.000 & 0.111 & 0.114 & 0.113 & 0.116 & 0.117 & 0.117\\\\\n",
       "\tPan paniscus & 0.247 & 0.242 & 0.245 & 0.186 & 0.168 & 0.113 & 0.111 & 0.000 & 0.040 & 0.040 & 0.091 & 0.092 & 0.092\\\\\n",
       "\tPan troglodytes & 0.251 & 0.248 & 0.248 & 0.187 & 0.171 & 0.115 & 0.114 & 0.040 & 0.000 & 0.003 & 0.092 & 0.093 & 0.094\\\\\n",
       "\tPan troglodytes verus & 0.251 & 0.247 & 0.248 & 0.186 & 0.170 & 0.113 & 0.113 & 0.040 & 0.003 & 0.000 & 0.092 & 0.093 & 0.093\\\\\n",
       "\tH. sapiens neanderthalensis & 0.253 & 0.250 & 0.250 & 0.185 & 0.168 & 0.117 & 0.116 & 0.091 & 0.092 & 0.092 & 0.000 & 0.012 & 0.012\\\\\n",
       "\tH. sapiens (Cambridge) & 0.253 & 0.250 & 0.251 & 0.186 & 0.167 & 0.117 & 0.117 & 0.092 & 0.093 & 0.093 & 0.012 & 0.000 & 0.002\\\\\n",
       "\tH. sapiens (Yoruba) & 0.253 & 0.250 & 0.252 & 0.186 & 0.168 & 0.117 & 0.117 & 0.092 & 0.094 & 0.093 & 0.012 & 0.002 & 0.000\\\\\n",
       "\\end{tabular}\n"
      ],
      "text/markdown": [
       "\n",
       "A matrix: 13 × 13 of type dbl\n",
       "\n",
       "| <!--/--> | Papio hamadryas | Macaca sylvanus | Macaca mulatta | Hylobates lar | Pongo pygmaeus | Gorilla gorilla | Gorilla gorilla gorilla | Pan paniscus | Pan troglodytes | Pan troglodytes verus | H. sapiens neanderthalensis | H. sapiens (Cambridge) | H. sapiens (Yoruba) |\n",
       "|---|---|---|---|---|---|---|---|---|---|---|---|---|---|\n",
       "| Papio hamadryas | 0.000 | 0.165 | 0.168 | 0.256 | 0.255 | 0.258 | 0.256 | 0.247 | 0.251 | 0.251 | 0.253 | 0.253 | 0.253 |\n",
       "| Macaca sylvanus | 0.165 | 0.000 | 0.116 | 0.249 | 0.254 | 0.252 | 0.251 | 0.242 | 0.248 | 0.247 | 0.250 | 0.250 | 0.250 |\n",
       "| Macaca mulatta | 0.168 | 0.116 | 0.000 | 0.253 | 0.249 | 0.251 | 0.250 | 0.245 | 0.248 | 0.248 | 0.250 | 0.251 | 0.252 |\n",
       "| Hylobates lar | 0.256 | 0.249 | 0.253 | 0.000 | 0.196 | 0.189 | 0.189 | 0.186 | 0.187 | 0.186 | 0.185 | 0.186 | 0.186 |\n",
       "| Pongo pygmaeus | 0.255 | 0.254 | 0.249 | 0.196 | 0.000 | 0.173 | 0.172 | 0.168 | 0.171 | 0.170 | 0.168 | 0.167 | 0.168 |\n",
       "| Gorilla gorilla | 0.258 | 0.252 | 0.251 | 0.189 | 0.173 | 0.000 | 0.005 | 0.113 | 0.115 | 0.113 | 0.117 | 0.117 | 0.117 |\n",
       "| Gorilla gorilla gorilla | 0.256 | 0.251 | 0.250 | 0.189 | 0.172 | 0.005 | 0.000 | 0.111 | 0.114 | 0.113 | 0.116 | 0.117 | 0.117 |\n",
       "| Pan paniscus | 0.247 | 0.242 | 0.245 | 0.186 | 0.168 | 0.113 | 0.111 | 0.000 | 0.040 | 0.040 | 0.091 | 0.092 | 0.092 |\n",
       "| Pan troglodytes | 0.251 | 0.248 | 0.248 | 0.187 | 0.171 | 0.115 | 0.114 | 0.040 | 0.000 | 0.003 | 0.092 | 0.093 | 0.094 |\n",
       "| Pan troglodytes verus | 0.251 | 0.247 | 0.248 | 0.186 | 0.170 | 0.113 | 0.113 | 0.040 | 0.003 | 0.000 | 0.092 | 0.093 | 0.093 |\n",
       "| H. sapiens neanderthalensis | 0.253 | 0.250 | 0.250 | 0.185 | 0.168 | 0.117 | 0.116 | 0.091 | 0.092 | 0.092 | 0.000 | 0.012 | 0.012 |\n",
       "| H. sapiens (Cambridge) | 0.253 | 0.250 | 0.251 | 0.186 | 0.167 | 0.117 | 0.117 | 0.092 | 0.093 | 0.093 | 0.012 | 0.000 | 0.002 |\n",
       "| H. sapiens (Yoruba) | 0.253 | 0.250 | 0.252 | 0.186 | 0.168 | 0.117 | 0.117 | 0.092 | 0.094 | 0.093 | 0.012 | 0.002 | 0.000 |\n",
       "\n"
      ],
      "text/plain": [
       "                            Papio hamadryas Macaca sylvanus Macaca mulatta\n",
       "Papio hamadryas             0.000           0.165           0.168         \n",
       "Macaca sylvanus             0.165           0.000           0.116         \n",
       "Macaca mulatta              0.168           0.116           0.000         \n",
       "Hylobates lar               0.256           0.249           0.253         \n",
       "Pongo pygmaeus              0.255           0.254           0.249         \n",
       "Gorilla gorilla             0.258           0.252           0.251         \n",
       "Gorilla gorilla gorilla     0.256           0.251           0.250         \n",
       "Pan paniscus                0.247           0.242           0.245         \n",
       "Pan troglodytes             0.251           0.248           0.248         \n",
       "Pan troglodytes verus       0.251           0.247           0.248         \n",
       "H. sapiens neanderthalensis 0.253           0.250           0.250         \n",
       "H. sapiens (Cambridge)      0.253           0.250           0.251         \n",
       "H. sapiens (Yoruba)         0.253           0.250           0.252         \n",
       "                            Hylobates lar Pongo pygmaeus Gorilla gorilla\n",
       "Papio hamadryas             0.256         0.255          0.258          \n",
       "Macaca sylvanus             0.249         0.254          0.252          \n",
       "Macaca mulatta              0.253         0.249          0.251          \n",
       "Hylobates lar               0.000         0.196          0.189          \n",
       "Pongo pygmaeus              0.196         0.000          0.173          \n",
       "Gorilla gorilla             0.189         0.173          0.000          \n",
       "Gorilla gorilla gorilla     0.189         0.172          0.005          \n",
       "Pan paniscus                0.186         0.168          0.113          \n",
       "Pan troglodytes             0.187         0.171          0.115          \n",
       "Pan troglodytes verus       0.186         0.170          0.113          \n",
       "H. sapiens neanderthalensis 0.185         0.168          0.117          \n",
       "H. sapiens (Cambridge)      0.186         0.167          0.117          \n",
       "H. sapiens (Yoruba)         0.186         0.168          0.117          \n",
       "                            Gorilla gorilla gorilla Pan paniscus\n",
       "Papio hamadryas             0.256                   0.247       \n",
       "Macaca sylvanus             0.251                   0.242       \n",
       "Macaca mulatta              0.250                   0.245       \n",
       "Hylobates lar               0.189                   0.186       \n",
       "Pongo pygmaeus              0.172                   0.168       \n",
       "Gorilla gorilla             0.005                   0.113       \n",
       "Gorilla gorilla gorilla     0.000                   0.111       \n",
       "Pan paniscus                0.111                   0.000       \n",
       "Pan troglodytes             0.114                   0.040       \n",
       "Pan troglodytes verus       0.113                   0.040       \n",
       "H. sapiens neanderthalensis 0.116                   0.091       \n",
       "H. sapiens (Cambridge)      0.117                   0.092       \n",
       "H. sapiens (Yoruba)         0.117                   0.092       \n",
       "                            Pan troglodytes Pan troglodytes verus\n",
       "Papio hamadryas             0.251           0.251                \n",
       "Macaca sylvanus             0.248           0.247                \n",
       "Macaca mulatta              0.248           0.248                \n",
       "Hylobates lar               0.187           0.186                \n",
       "Pongo pygmaeus              0.171           0.170                \n",
       "Gorilla gorilla             0.115           0.113                \n",
       "Gorilla gorilla gorilla     0.114           0.113                \n",
       "Pan paniscus                0.040           0.040                \n",
       "Pan troglodytes             0.000           0.003                \n",
       "Pan troglodytes verus       0.003           0.000                \n",
       "H. sapiens neanderthalensis 0.092           0.092                \n",
       "H. sapiens (Cambridge)      0.093           0.093                \n",
       "H. sapiens (Yoruba)         0.094           0.093                \n",
       "                            H. sapiens neanderthalensis H. sapiens (Cambridge)\n",
       "Papio hamadryas             0.253                       0.253                 \n",
       "Macaca sylvanus             0.250                       0.250                 \n",
       "Macaca mulatta              0.250                       0.251                 \n",
       "Hylobates lar               0.185                       0.186                 \n",
       "Pongo pygmaeus              0.168                       0.167                 \n",
       "Gorilla gorilla             0.117                       0.117                 \n",
       "Gorilla gorilla gorilla     0.116                       0.117                 \n",
       "Pan paniscus                0.091                       0.092                 \n",
       "Pan troglodytes             0.092                       0.093                 \n",
       "Pan troglodytes verus       0.092                       0.093                 \n",
       "H. sapiens neanderthalensis 0.000                       0.012                 \n",
       "H. sapiens (Cambridge)      0.012                       0.000                 \n",
       "H. sapiens (Yoruba)         0.012                       0.002                 \n",
       "                            H. sapiens (Yoruba)\n",
       "Papio hamadryas             0.253              \n",
       "Macaca sylvanus             0.250              \n",
       "Macaca mulatta              0.252              \n",
       "Hylobates lar               0.186              \n",
       "Pongo pygmaeus              0.168              \n",
       "Gorilla gorilla             0.117              \n",
       "Gorilla gorilla gorilla     0.117              \n",
       "Pan paniscus                0.092              \n",
       "Pan troglodytes             0.094              \n",
       "Pan troglodytes verus       0.093              \n",
       "H. sapiens neanderthalensis 0.012              \n",
       "H. sapiens (Cambridge)      0.002              \n",
       "H. sapiens (Yoruba)         0.000              "
      ]
     },
     "metadata": {},
     "output_type": "display_data"
    }
   ],
   "source": [
    "distancias.K81 <- dist.dna(aln, model = 'K81')\n",
    "as.matrix(round(distancias.K81, 3))"
   ]
  },
  {
   "cell_type": "markdown",
   "id": "bc305f12-8293-40c3-8fde-122ab286200f",
   "metadata": {},
   "source": [
    "### Neighbor-Joining\n",
    "El método de *neighbor-joining* produce un árbol no *ultramétrico* y no *enraizado* a partir de las distancias. Podemos aplicar este método a un objeto de clase *dist* con la función `NJ()` del paquete `phangorn`:"
   ]
  },
  {
   "cell_type": "code",
   "execution_count": 15,
   "id": "a3586e46-3e8d-476e-9a0c-d5161dd4c6e5",
   "metadata": {},
   "outputs": [
    {
     "data": {
      "image/png": "[encoded data removed]",
      "text/plain": [
       "plot without title"
      ]
     },
     "metadata": {
      "image/png": {
       "height": 420,
       "width": 420
      }
     },
     "output_type": "display_data"
    }
   ],
   "source": [
    "NJ.K81 <- NJ(distancias.K81)\n",
    "plot(NJ.K81)"
   ]
  },
  {
   "cell_type": "markdown",
   "id": "a4aa4b8f-591f-4590-b18c-49fe7f687f51",
   "metadata": {},
   "source": [
    "Podemos *enraizar* el árbol con la función `root()`, porque sabemos que el *clado* formado por *Papio hamadryas*, *Macaca mulatta* y *Macaca sylvanus* es un **outgroup** de todos los demás. Es decir, pertenecen a un linaje que divergió antes que los demás linajes que divergen entre ellos. "
   ]
  },
  {
   "cell_type": "code",
   "execution_count": 16,
   "id": "7a6e3075-cd9a-4868-9139-b6be55fee69b",
   "metadata": {},
   "outputs": [
    {
     "data": {
      "image/png": "[encoded data removed]",
      "text/plain": [
       "plot without title"
      ]
     },
     "metadata": {
      "image/png": {
       "height": 420,
       "width": 420
      }
     },
     "output_type": "display_data"
    }
   ],
   "source": [
    "NJ.K81.enraizado <- root(NJ.K81,\n",
    "      outgroup = c('Papio hamadryas', 'Macaca mulatta', 'Macaca sylvanus'))\n",
    "plot(NJ.K81.enraizado)"
   ]
  },
  {
   "cell_type": "markdown",
   "id": "a9799294-c749-43d9-8e0d-0423563a8025",
   "metadata": {},
   "source": [
    "### Bootstrap\n",
    "Si te queda tiempo, ejecuta los bloques siguientes para añadir a las ramas del árbol su soporte de *bootstrap*. El soporte de *bootstrap*  es una medida (entre 0 y 100) del grado de soporte que los datos (el alineamiento) otorgan a cada rama."
   ]
  },
  {
   "cell_type": "code",
   "execution_count": 18,
   "id": "838c63a4-a0eb-4001-9c4a-9bd5c3cb5719",
   "metadata": {},
   "outputs": [
    {
     "data": {
      "image/png": "[encoded data removed]",
      "text/plain": [
       "plot without title"
      ]
     },
     "metadata": {
      "image/png": {
       "height": 420,
       "width": 420
      }
     },
     "output_type": "display_data"
    }
   ],
   "source": [
    "# Sustituye \"alineamiento\" por el nombre del objeto donde guardas \n",
    "# el alineamiento que has decidido utilizar en el ejercicio 2.3.\n",
    "\n",
    "funcion <- function(x) NJ(dist.dna(as.DNAbin(x), model = 'K81'))\n",
    "bootstrap <- bootstrap.phyDat(as.phyDat(as.DNAbin(alineamiento)), funcion, bs = 500)\n",
    "plotBS(NJ.K81, bootstrap)"
   ]
  },
  {
   "cell_type": "markdown",
   "id": "4720694a-c1ff-420b-8505-72b8f952b58d",
   "metadata": {},
   "source": [
    "## Bibliografia\n",
    "\n",
    "- Kimura, M. (1981) Estimation of evolutionary distances between homologous nucleotide sequences. *Proceedings of the National Academy of Sciences USA*, 78, 454–458.\n",
    "- Schliep, K.P. (2011) *phangorn*: phylogenetic analysis in R. *Bioinformatics* 27 (4): 592-593. [10.1093/bioinformatics/btq706](https://doi.org/10.1093/bioinformatics/btq706)\n",
    "- Wright, E.S. (2016) Using DECIPHER v2.0 to analyze big biological sequence data in R. *The R journal* 8 (1): 352-359. [10.32614/RJ-2016-025](https://doi.org/10.32614/RJ-2016-025)"
   ]
  },
  {
   "cell_type": "code",
   "execution_count": null,
   "id": "f9aac28d-8b99-4114-a045-e0e23c1aa07a",
   "metadata": {},
   "outputs": [],
   "source": []
  }
 ],
 "metadata": {
  "kernelspec": {
   "display_name": "R",
   "language": "R",
   "name": "ir"
  },
  "language_info": {
   "codemirror_mode": "r",
   "file_extension": ".r",
   "mimetype": "text/x-r-source",
   "name": "R",
   "pygments_lexer": "r",
   "version": "4.3.3"
  }
 },
 "nbformat": 4,
 "nbformat_minor": 5
}
