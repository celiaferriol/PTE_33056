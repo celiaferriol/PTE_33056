{
 "cells": [
  {
   "cell_type": "markdown",
   "id": "db0edfcf-bd72-431a-8499-a7b00bcfbf6e",
   "metadata": {},
   "source": [
    "# Pràctica amb ordinador 3. Filogènia mitocondrial\n",
    "\n",
    "## Preparació de l'ordinador\n",
    "En aquesta pràctica utilitzarem els paquets `DECIPHER` (Wright, 2016) i `phangorn` (Schliep, 2011) d'`R`. Assegura't d'haver-los instal·lat, si no els tens instal·lats ja, executant els comandaments següents en una consola d'`R`:\n",
    "\n",
    "> `install.packages('phangorn')`\n",
    "\n",
    "> `install.packages('BiocManager')`\n",
    "\n",
    "> `BiocManager::install('DECIPHER')`\n",
    "\n",
    "I a continuació carrega'ls:\n"
   ]
  },
  {
   "cell_type": "code",
   "execution_count": null,
   "id": "2ae2cdb3-4114-457a-865b-c0f354d0bdb8",
   "metadata": {},
   "outputs": [],
   "source": [
    "# La funció \"supressMessages()\" ens estalvia informació innecessària.\n",
    "suppressMessages(library('phangorn'))\n",
    "suppressMessages(library('DECIPHER'))"
   ]
  },
  {
   "cell_type": "markdown",
   "id": "f595da42-c06d-4ee1-87e8-3bdc48689bb6",
   "metadata": {},
   "source": [
    "## Objectiu\n",
    "L'objectiu d'esta pràctica és reproduir la filogènia dels primats catarrins a\n",
    "partir de les seqüències mitocondrials completes de 13 individus de 9 espècies\n",
    "diferents, tal com apareix a la figura següent, procedent del web de PhyloTree:\n",
    "[http://www.phylotree.org/resources/mtDNA_human_relatives.htm](http://www.phylotree.org/resources/mtDNA_human_relatives.htm).\n",
    "\n",
    "![](Catarrhini_phylogeny.png)\n",
    "\n",
    "El procediment hauria d'incloure els passos següents:\n",
    "\n",
    "1. Descarregar les seqüències nucleotídiques dels genomes mitocondrials.\n",
    "2. Alinear-les amb el mètode implementat al paquet `DECIPHER`.\n",
    "3. Obtenir la filogènia mitjançant algun mètode ràpid, com ara el *Neighbor-Joining*.\n",
    "\n",
    "## Exercci 1. Descàrrega de les seqüències\n",
    "\n",
    "La taula següent indica els **números d'accés** de les seqüències que necessitem i\n",
    "l'espècie a la qual pertany cada seqüència.\n",
    "\n",
    "| Número d'accés | Espècie |\n",
    "| ---------------------- | ------- |\n",
    "| [Y18001](https://www.ebi.ac.uk/ena/browser/view/Y18001) | *Papio hamadryas* |\n",
    "| [AJ309865](https://www.ebi.ac.uk/ena/browser/view/AJ309865) | *Macaca sylvanus* |\n",
    "| [AY612638](https://www.ebi.ac.uk/ena/browser/view/AY612638) | *Macaca mulata* |\n",
    "| [X99256](https://www.ebi.ac.uk/ena/browser/view/X99256) | *Hylobates lar* |\n",
    "| [D38115](https://www.ebi.ac.uk/ena/browser/view/D38115) | *Pongo pygmaeus* |\n",
    "| [D38114](https://www.ebi.ac.uk/ena/browser/view/D38114) | *Gorilla gorilla* |\n",
    "| [X93347](https://www.ebi.ac.uk/ena/browser/view/X93347) | *Gorilla gorilla* |\n",
    "| [GU189661](https://www.ebi.ac.uk/ena/browser/view/GU189661) | *Pan paniscus* |\n",
    "| [D38113](https://www.ebi.ac.uk/ena/browser/view/D38113) | *Pan troglodytes* |\n",
    "| [X93335](https://www.ebi.ac.uk/ena/browser/view/X93335) | *Pan trglodytes verus* |\n",
    "| [AM948965](https://www.ebi.ac.uk/ena/browser/view/AM948965) | *H. sapiens neanderthalensis* |\n",
    "| [J01415](https://www.ebi.ac.uk/ena/browser/view/J01415) | *Homo sapiens* (Cambridge) |\n",
    "| [AF347015](https://www.ebi.ac.uk/ena/browser/view/AF347015) | *Homo sapiens* (Yoruba)|\n",
    "\n",
    "Pots descarregar les seqüències en format FASTA, una a una, seguint els enllaços\n",
    "de la taula anterior. Caldria guardar-les totes al mateix arxiu de text pla, respectant el format FASTA. Alternativament, podem utilitzar els comandaments següents per descarregar en la carpeta de treball un arxiu FASTA amb les 13 seqüències:"
   ]
  },
  {
   "cell_type": "code",
   "execution_count": null,
   "id": "9ad81fe2-19fd-4db7-862f-2b29bfeb1e12",
   "metadata": {},
   "outputs": [],
   "source": [
    "Numeros <- c('Y18001', 'AJ309865', 'AY612638', 'X99256', 'D38115',\n",
    "             'D38114', 'X93347', 'GU189661', 'D38113', 'X93335',\n",
    "             'AM948965', 'J01415', 'AF347015')\n",
    "API     <- 'https://www.ebi.ac.uk/ena/browser/api/fasta/'\n",
    "URL     <- paste0(API, paste(Numeros, collapse = ','))\n",
    "URL\n",
    "download.file(URL, destfile = 'primats.fasta')"
   ]
  },
  {
   "cell_type": "markdown",
   "id": "3d8672e1-6ca3-42bf-9b15-407a19edb2fc",
   "metadata": {},
   "source": [
    "Executa el codi anterior i comprova que a la carpeta de treball se t'ha descarregat\n",
    "un arxiu anomenat `primats.fasta`. Pots obrir l'arxiu per inspeccionar-lo. Però no és recomanable editar manualment els arxius de dades.\n",
    "\n",
    "## Exercici 2. Alineament\n",
    "Per alinear les 13 seqüències, necessitem haver carregat el paquet `DECIPHER`, llegir\n",
    "les seqüències i guardar-les en un objecte dins la sessió d'`R`, i aplicar la\n",
    "funció `AlignSeqs()` per crear un nou objecte amb les seqüències alineades. Comencem per llegir les seqüències i guardar-les en un *objecte* o variable d'`R`:"
   ]
  },
  {
   "cell_type": "code",
   "execution_count": null,
   "id": "1d55f41f-005f-46f7-be07-8396d3bc01f6",
   "metadata": {},
   "outputs": [],
   "source": [
    "senseAlinear <- readDNAStringSet('primats.fasta')\n",
    "senseAlinear"
   ]
  },
  {
   "cell_type": "markdown",
   "id": "7ec89b8d-7cd9-44a0-a974-e12f72b88c20",
   "metadata": {},
   "source": [
    "Ara, l'objecte `senseAlinear` conté les 13 seqüències mitocondrials. Observa com en invocar el nom de l'objecte, ens apareix un resum del seu contingut. Si executes `names(senseAlinear)` en un bloc de codi, observaràs els noms de les seqüències i veuràs que són innecessàriament llargs. Abans d'alinear, és convenient acurtar els noms, cosa que podem fer re-assignant el valor dels noms, respectant l'ordre en el qual estan les seqüències:"
   ]
  },
  {
   "cell_type": "code",
   "execution_count": null,
   "id": "548a3777-6391-446e-a65e-f452728c73f0",
   "metadata": {},
   "outputs": [],
   "source": [
    "names(senseAlinear)"
   ]
  },
  {
   "cell_type": "code",
   "execution_count": null,
   "id": "8dd14f3d-93bf-4573-822b-7c5f0e33d574",
   "metadata": {},
   "outputs": [],
   "source": [
    "names(senseAlinear) <- c('Papio hamadryas', 'Macaca sylvanus', 'Macaca mulatta',\n",
    "           'Hylobates lar', 'Pongo pygmaeus', 'Gorilla gorilla',\n",
    "           'Gorilla gorilla gorilla', 'Pan paniscus', 'Pan troglodytes',\n",
    "           'Pan troglodytes verus', 'H. sapiens neanderthalensis', \n",
    "           'H. sapiens (Cambridge)', 'H. sapiens (Yoruba)')"
   ]
  },
  {
   "cell_type": "code",
   "execution_count": null,
   "id": "a6abb994-6b09-476c-b095-083be103e588",
   "metadata": {},
   "outputs": [],
   "source": [
    "names(senseAlinear)"
   ]
  },
  {
   "cell_type": "markdown",
   "id": "dcfe09c3-0242-4758-8c0e-91e1aaede82a",
   "metadata": {},
   "source": [
    "Una vegada comprovat que els noms de les seqüències són els adequats, procedim amb l'alineament:"
   ]
  },
  {
   "cell_type": "code",
   "execution_count": null,
   "id": "6ce5e6b4-7633-4bb7-89f8-bc91d84fc26c",
   "metadata": {},
   "outputs": [],
   "source": [
    "alineades <- AlignSeqs(senseAlinear, verbose = FALSE)\n",
    "alineades"
   ]
  },
  {
   "cell_type": "markdown",
   "id": "ea3542ea-775c-495a-9bdd-6bd326b8460c",
   "metadata": {},
   "source": [
    "Observa que la funció `AlignSeqs()` **no** modifica l'objecte original (`senseAlinear`), sinó que en crea un altre. Per això necessitem *assignar* (`<-`) el resultat de la funció a un nou objecte (`alineades`) per tal de retenir en la memòria de treball el resultat de l'alineament.\n",
    "\n",
    "Observa també que el nou objecte `alineades` té un aspecte diferent al de\n",
    "`senseAlinear`. Per tal de veure l'alineament complet, executa el comandament\n",
    "següent, amb el qual es crea i s'obri l'arxiu `alineades.html` en una nova pestanya del teu navegador."
   ]
  },
  {
   "cell_type": "code",
   "execution_count": null,
   "id": "92e4df21-1c92-4aa1-8012-2cc6e7e2eee8",
   "metadata": {},
   "outputs": [],
   "source": [
    "BrowseSeqs(alineades, htmlFile = 'alineades.html', openURL = TRUE)"
   ]
  },
  {
   "cell_type": "markdown",
   "id": "e1ddc192-56ea-4f76-8959-ac9021e9bc00",
   "metadata": {},
   "source": [
    "### 2.1 Per què creus que algunes seqüències semblen tenir fragments addicionals al principi o al final de l'alineament?"
   ]
  },
  {
   "cell_type": "markdown",
   "id": "51977f47-6aa1-493f-a172-45d19b31cfde",
   "metadata": {},
   "source": []
  },
  {
   "cell_type": "markdown",
   "id": "289cb21f-71d4-4d13-a71f-53499682268d",
   "metadata": {},
   "source": [
    "### 2.2 Amb la funció `readDNAStringSet()` carrega l'alineament contingut a l'arxiu `primats2.fasta` en un nou objecte, explora'l amb la funció `BrowseSeqs()` i determina en què es diferencia de l'alineament que has creat tu abans."
   ]
  },
  {
   "cell_type": "code",
   "execution_count": null,
   "id": "33bbca12-d24a-4a9e-9349-89e802a2a395",
   "metadata": {},
   "outputs": [],
   "source": [
    "# Introudeix ací els comandaments que necessites, basant-te en els\n",
    "# blocs anteriors.\n",
    "\n"
   ]
  },
  {
   "cell_type": "markdown",
   "id": "2be375c5-144d-4011-9747-505db0fe3563",
   "metadata": {},
   "source": [
    "### 2.3 Decideix quin dels dos alineaments, el que has creat tu o el que has carregat a partir de l'arxiu `primats2.fasta`, és el més adequat per utilitzar-lo en el pas següent."
   ]
  },
  {
   "cell_type": "markdown",
   "id": "d1a71d17-bfb2-412c-b2f6-6be527cf7501",
   "metadata": {},
   "source": []
  },
  {
   "cell_type": "markdown",
   "id": "083a3322-d8a3-4f48-a752-cb6a7a13a32c",
   "metadata": {},
   "source": [
    "## Exercici 3. Reconstrucció filogenètica\n",
    "Una vegada disposem d'un alineament, podem inferir les relacions filogenètiques\n",
    "entre les 13 seqüències. Hi ha molts mètodes diferents: màxima parsimònia, màxima\n",
    "versemblança, UPGMA, etc. Utilitzarem el mètode de Neighbor-Joining, basat en la\n",
    "matriu de distàncies genètiques entre les seqüències, perquè és un mètode ràpid.\n",
    "\n",
    "### Distàncies\n",
    "El primer pas és obtenir la **matriu de distàncies**, cosa que podem fer amb la funció `dist.dna()` (del paquet `ape`, carregat automàticament junt amb `phangorn`). Ara bé, l'alineament de partida és un objecte de classe `DNAStringSet`, mentre que la funció `dist.dna()` requereix que l'alineament siga un objecte de classe `DNAbin`. Per tant, cal utilitzar la funció `as.DNAbin()` per transformar l'objecte. Edita el bloc de codi següent, per tal de fer servir l'alineament que hages triat a l'exercici 2.3."
   ]
  },
  {
   "cell_type": "code",
   "execution_count": null,
   "id": "b07680ab-ae85-466f-94b0-fa58ba5147ab",
   "metadata": {},
   "outputs": [],
   "source": [
    "aln <- as.DNAbin( primats2 )\n",
    "aln"
   ]
  },
  {
   "cell_type": "markdown",
   "id": "32e332e2-e8d7-4992-a1a6-ff388c1cf79a",
   "metadata": {},
   "source": [
    "Les distàncies són una estimació del nombre mig de substitucions nucleotídiques acumulades entre dues seqüències des del moment que van divergir, per cada posició del seu alineament. Una distància genètica d'1 implicaria que *en terme mig* totes les posicions han patit una mutació. Com que és una mitjana entre totes les posicions de l'alineament, generalment és possible reconéixer l'homologia de dues seqüències i alinear-les fins i tot amb distàncies majors que 1: en algunes posicions s'han produït més d'una mutació al llarg dels dos llinatges, mentre que en moltes altres posicions no s'ha produït cap mutació.\n",
    "\n",
    "Per poder estimar aquestes distàncies és necessari adoptar un **model d'evolució molecular**, el qual ens permet suposar quantes substitucions més de les observades deuen haver-se produït, a partir del nombre de canvis observats. Al bloc següent, suggerim el model *K81* (Kimura, 1981). Per veure quines altres opcions tens, consulta l'ajuda de la funció `dist.dna()` executant l'ordre `help(dist.dna)` en un bloc de codi."
   ]
  },
  {
   "cell_type": "code",
   "execution_count": null,
   "id": "a4fed842-6edd-4d4e-bf4f-0e816fecf05a",
   "metadata": {},
   "outputs": [],
   "source": [
    "distancies.K81 <- dist.dna(aln, model = 'K81')\n",
    "as.matrix(round(distancies.K81, 3))"
   ]
  },
  {
   "cell_type": "markdown",
   "id": "bc305f12-8293-40c3-8fde-122ab286200f",
   "metadata": {},
   "source": [
    "### Neighbor-Joining\n",
    "El mètode de *neighbor-joining* produeix un arbre no *ultramètric* i no *arrelat* a partir de les distàncies. Podem aplicar aquest mètode a un objecte de classe *dist* amb la funció `NJ()` del paquet `phangorn`:"
   ]
  },
  {
   "cell_type": "code",
   "execution_count": null,
   "id": "a3586e46-3e8d-476e-9a0c-d5161dd4c6e5",
   "metadata": {},
   "outputs": [],
   "source": [
    "NJ.K81 <- NJ(distancies.K81)\n",
    "plot(NJ.K81)"
   ]
  },
  {
   "cell_type": "markdown",
   "id": "a4aa4b8f-591f-4590-b18c-49fe7f687f51",
   "metadata": {},
   "source": [
    "Podem *arrelar* l'arbre amb la funció `root()`, perquè sabem que el *clade* format per *Papio hamadryas*, *Macaca mulatta* i *Macaca sylvanus* és un **outgroup** de tota la resta. És a dir, pertanyen a un llinatge que va divergir abans que la resta de llinatges divergiren entre ells."
   ]
  },
  {
   "cell_type": "code",
   "execution_count": null,
   "id": "7a6e3075-cd9a-4868-9139-b6be55fee69b",
   "metadata": {},
   "outputs": [],
   "source": [
    "NJ.K81.arrelat <- root(NJ.K81,\n",
    "      outgroup = c('Papio hamadryas', 'Macaca mulatta', 'Macaca sylvanus'))\n",
    "plot(NJ.K81.arrelat)"
   ]
  },
  {
   "cell_type": "markdown",
   "id": "a9799294-c749-43d9-8e0d-0423563a8025",
   "metadata": {},
   "source": [
    "### Bootstrap\n",
    "Si et queda temps, executa els blocs següents per afegir a les branques de l'arbre el seu suport de *bootstrap*. El suport de *bootstrap* és una mesura (entre 0 i 100) del grau de suport que les dades (l'alineament) atorguen a cada branca. "
   ]
  },
  {
   "cell_type": "code",
   "execution_count": null,
   "id": "838c63a4-a0eb-4001-9c4a-9bd5c3cb5719",
   "metadata": {},
   "outputs": [],
   "source": [
    "funcio <- function(x) NJ(dist.dna(as.DNAbin(x), model = 'K81'))\n",
    "bootstrap <- bootstrap.phyDat(as.phyDat(as.DNAbin(primats2)), funcio, bs = 500)\n",
    "plotBS(NJ.K81, bootstrap)"
   ]
  },
  {
   "cell_type": "markdown",
   "id": "4720694a-c1ff-420b-8505-72b8f952b58d",
   "metadata": {},
   "source": [
    "## Bibliografia\n",
    "\n",
    "- Kimura, M. (1981) Estimation of evolutionary distances between homologous nucleotide sequences. *Proceedings of the National Academy of Sciences USA*, 78, 454–458.\n",
    "- Schliep, K.P. (2011) *phangorn*: phylogenetic analysis in R. *Bioinformatics* 27 (4): 592-593. [10.1093/bioinformatics/btq706](https://doi.org/10.1093/bioinformatics/btq706)\n",
    "- Wright, E.S. (2016) Using DECIPHER v2.0 to analyze big biological sequence data in R. *The R journal* 8 (1): 352-359. [10.32614/RJ-2016-025](https://doi.org/10.32614/RJ-2016-025)"
   ]
  },
  {
   "cell_type": "code",
   "execution_count": null,
   "id": "f9aac28d-8b99-4114-a045-e0e23c1aa07a",
   "metadata": {},
   "outputs": [],
   "source": []
  }
 ],
 "metadata": {
  "kernelspec": {
   "display_name": "R",
   "language": "R",
   "name": "ir"
  },
  "language_info": {
   "codemirror_mode": "r",
   "file_extension": ".r",
   "mimetype": "text/x-r-source",
   "name": "R",
   "pygments_lexer": "r",
   "version": "4.2.2"
  }
 },
 "nbformat": 4,
 "nbformat_minor": 5
}
