{
 "cells": [
  {
   "cell_type": "markdown",
   "id": "e69719da-4c3b-4c40-84f5-18185fa678ff",
   "metadata": {},
   "source": [
    "# Pràctica amb ordinador 5. Proporcions de mestissatge.\n",
    "\n",
    "## Objectiu\n",
    "Aprendre com es fan i com s'interpreten els gràfics de **proporcions de mestissatge**, com el de la figura següent, treta de [Friedlaender et al. (2008)](https://doi.org/10.1371/journal.pgen.0040019). L'estudi s'encaminava a estudiar en detall l'estructura genètica de les poblacions humanes del Pacífic.\n",
    "\n",
    "![](exemple.png)\n",
    "\n",
    "<center><b>Figura 1</b>. Proporcions d'ancestralitat estimades en 1893 individus de 91 poblacions, a partir dels genotips en 687 microsatèl·lits i 203 insercios (Friedlaender et al., 2008).</center>"
   ]
  },
  {
   "cell_type": "markdown",
   "id": "244a2962-f900-4eec-aafe-6ef5f6e5a5e2",
   "metadata": {},
   "source": [
    "### Exercici 1. Revisem la interpretació intuïtiva d'aquesta figura:\n",
    "1. Què indiquen els colors?\n",
    "2. Què són les barres verticals?\n",
    "3. Creus que existeix un valor de *K* més adequat que els altres?\n",
    "4. Amb $K=2$, creus que és raonable la separació observada entre les poblacions oceàniques i pràcticament la resta del món?\n",
    "5. Quin altre detall et crida la atenció?"
   ]
  },
  {
   "cell_type": "markdown",
   "id": "42c4821f-2103-4925-a91f-0c18e5a024de",
   "metadata": {},
   "source": [
    "## El model\n",
    "Les figures com l'anterior assumeixen un model demogràfic concret, amb les assumpcions següents:\n",
    "1. Les poblacions ancestrals van viure separades, van divergir per deriva genètica i poden haver-se mesclat recentment.\n",
    "2. Les poblacions mestisses no han patit deriva genètica des del mestissatge: la seua constitució genètica s'explica adequadament per les proporcions de mestissatge i les freqüències al·lèliques inicials.\n",
    "3. Totes les poblacions ancestrals estan ben representades en la mostra.\n",
    "\n",
    "La figura següent, de Lawson et al. (2018), representa un exemple d'aquest model.\n",
    "\n",
    "<center>\n",
    "<img src=\"model.png\" alt=\"Drawing\" style=\"width: 200px;\"/>\n",
    "</center>\n",
    "<center><b>Figura 2</b>. Model demogràfic de diferenciació i mestissatge entre 4 poblacions (a) i proporcions de mestissatge corresponents en una mostra d'individus de les 4 poblacions (Lawson et al. 2018).</center>\n",
    "\n",
    "### Exercici 2. Quines poblacions humanes coneixes que podrien haver tingut una evolució semblant?"
   ]
  },
  {
   "cell_type": "markdown",
   "id": "21a589d3-f33a-49a1-913d-2feec4bc62f0",
   "metadata": {},
   "source": [
    "## Les dades\n",
    "Les dades de partida són:\n",
    "\n",
    "1. Una gran matriu *G*, dels genotips en *M* loci (normalment, milers d'SNPs) d'*N* individus;\n",
    "2. i un número de poblacions ancestrals que suposem que van existir, *K*.\n",
    "\n",
    "Friedlaender et al. (2008) van utilitzar dades genètiques de 890 loci en 1893 individus de 91 poblacions diferents. Nosaltres utilitzarem els genotips de 86 individus en prop de 77000 SNPs. Les dades estan a la carpeta `data`, en un format binari propi del programa `plink` (Chang et al. 2015)."
   ]
  },
  {
   "cell_type": "markdown",
   "id": "d46c8818-8eca-41f1-bcb3-e6174e33c6f3",
   "metadata": {},
   "source": [
    "### Bibliografia\n",
    "\n",
    "- Chang et al. 2015. Second-generation PLINK: rising to the challenge of larger and richer datasets. *GigaScience* 4(1):s13742-015-0047-8. [https://doi.org/10.1186/s13742-015-0047-8](https://doi.org/10.1186/s13742-015-0047-8).\n",
    "- Friedlaender et al. 2008. The genetic structure of Pacific islanders. *PLoS Genetics* 4(1):1-18. [https://doi.org/10.1371/journal.pgen.0040019](https://doi.org/10.1371/journal.pgen.0040019).\n",
    "- Lawson, D.J., van Dorp, L. & Falush, D. 2018. A tutorial on how not to over-interpret STRUCTURE and ADMIXTURE bar plots. *Nat. Commun.* 9:3258. [https://doi.org/10.1038/s41467-018-05257-7](https://doi.org/10.1038/s41467-018-05257-7)."
   ]
  },
  {
   "cell_type": "code",
   "execution_count": null,
   "id": "26032a0a-0c63-4d08-9940-4bf4749db700",
   "metadata": {},
   "outputs": [],
   "source": []
  }
 ],
 "metadata": {
  "kernelspec": {
   "display_name": "R",
   "language": "R",
   "name": "ir"
  },
  "language_info": {
   "codemirror_mode": "r",
   "file_extension": ".r",
   "mimetype": "text/x-r-source",
   "name": "R",
   "pygments_lexer": "r",
   "version": "4.2.2"
  }
 },
 "nbformat": 4,
 "nbformat_minor": 5
}
