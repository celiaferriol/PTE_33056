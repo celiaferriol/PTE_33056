{
 "cells": [
  {
   "cell_type": "markdown",
   "id": "e69719da-4c3b-4c40-84f5-18185fa678ff",
   "metadata": {},
   "source": [
    "# Práctica con ordenador 5. Proporciones de mestizaje.\n",
    "\n",
    "## Objetivo\n",
    "Aprener cómo se hacen y cómo se interpretan los gráficos de **proporciones de mestizaje**, como el de la figura siguiente, obtenida de [Friedlaender et al. (2008)](https://doi.org/10.1371/journal.pgen.0040019). El estudio se encaminaba a estudiar en detalle y la estructura genética de las poblaciones humanas del Pacífico.\n",
    "\n",
    "![](exemple.png)\n",
    "\n",
    "<center><b>Figura 1</b>. Proporciones de ancestralidad estimadas en 1893 individuos de 91 poblaciones, a partir de los genotipos en 687 microsatélites y 203 inserciones (Friedlaender et al., 2008).</center>"
   ]
  },
  {
   "cell_type": "markdown",
   "id": "244a2962-f900-4eec-aafe-6ef5f6e5a5e2",
   "metadata": {},
   "source": [
    "### Ejercicio 1. Revisamos la interpretación intuitiva de esta figura:\n",
    "1. ¿Qué indican los colores?\n",
    "2. ¿Qué son las barras verticales? Què són les barres verticals?\n",
    "3. ¿Crees que existe un valor de *K* más adecuado que los otros?\n",
    "4. Con $K=2$, ¿crees que es razonable la separación observada entre laspoblaciones oceánicas y prácticamente el resto del mundo?\n",
    "5. ¿Qué otro detalle te llama la atención?"
   ]
  },
  {
   "cell_type": "markdown",
   "id": "a489b072-7367-4b0d-93f4-5aea2c924447",
   "metadata": {},
   "source": []
  },
  {
   "cell_type": "markdown",
   "id": "42c4821f-2103-4925-a91f-0c18e5a024de",
   "metadata": {},
   "source": [
    "## El modelo\n",
    "Las figuras como la anterior asumen un modelo demográfico concreto con las asunciones siguientes:\n",
    "1. Las poblaciones ancestrales vivieron separadas, divergieron por deriva genética y pueden haberse mezclado recientemente.\n",
    "2. Las poblaciones mestizas no han sufrido deriva genética desde el mestizaje: su constitución genética se explica adecuadamente por las proporciones de mestizaje y las frecuencias alélicas iniciales.\n",
    "3. Todas las poblaciones ancestrales están bien representadas en la muestra.\n",
    "\n",
    "La figura siguiente, de Lawson et al. (2018), representa un ejemplo de este modelo.\n",
    "\n",
    "<center>\n",
    "<img src=\"model.png\" alt=\"Drawing\" style=\"width: 200px;\"/>\n",
    "</center>\n",
    "<center><b>Figura 2</b>. Modelo demográfico de diferenciación y mestizaje entre 4 poblaciones (a) y proporciones de mestizaje correspondientes en una muestra de individuos de las 4 poblaciones (Lawson et al. 2018).</center>\n",
    "\n",
    "### Ejercicio 2. ¿Qué poblaciones humanas conoces que podrían haber tenido una evolución similar?"
   ]
  },
  {
   "cell_type": "markdown",
   "id": "7827deba-9302-4289-aca6-b02b86bc6f12",
   "metadata": {},
   "source": []
  },
  {
   "cell_type": "markdown",
   "id": "21a589d3-f33a-49a1-913d-2feec4bc62f0",
   "metadata": {},
   "source": [
    "## Los datos\n",
    "Los datos de partida son:\n",
    "\n",
    "1. Una gran matriz **G**, de los genotipos en *M* loci (normalmente miles de SNPs) de *N* individuos;\n",
    "2. y un número de poblaciones ancestrales que suponemos que existieron, *K*.\n",
    "\n",
    "Friedlaender et al. (2008) utilizaron datos genéticos de 890 loci en 1893 individuos de 91 poblaciones diferentes. Nosotros utilizaremos los genotipos de 12 lobos y 74 perros de tres razas, con cerca de 77000 SNPs. Los datos están en la carpeta `data`, en un formato binario propio del programa `plink` (Chang et al. 2015). Para poder transformarlos en un formato de texto plano, es necesario tener instalado el programa `plink`. Ejecutando el bloque de código siguiente se instalarán los tres programas que utilizaremos alo largo de la práctica: `plink`, `admixture` y `evalAdmix`. Este bloque sólo se ejecutará una vez."
   ]
  },
  {
   "cell_type": "code",
   "execution_count": null,
   "id": "e10da5b2-a1ea-4edd-8cc0-936cd9afd9ad",
   "metadata": {},
   "outputs": [],
   "source": [
    "system2('chmod 744 installacio.sh')\n",
    "system2('./installacio.sh')"
   ]
  },
  {
   "cell_type": "markdown",
   "id": "c50e6785-fdaf-4952-b362-603213f2bc47",
   "metadata": {},
   "source": [
    "Desde este cuaderno solo podemos ejecutar órdenes en lenguaje R. Para ejecutar los comandos del sistema debemos de englobarlos con la función system2() de R.\r\n",
    "\r\n",
    "El bloque siguiente generará una versión legible de los datos genéticos (la matriz G):\r\n",
    "\r\n",
    "Tanto en esta celda de comando como en algunas posteriores será necesario que reemplaces la palabra \"usuario\" por tu nombre de usuario en el path para ejecutar el programa."
   ]
  },
  {
   "cell_type": "code",
   "execution_count": 6,
   "id": "a6f5bf52-1c83-4a2d-9fde-d27ee6f9f32f",
   "metadata": {},
   "outputs": [],
   "source": [
    "if (! file.exists('data/cf6.ped')) \n",
    "   system2('/home/VMAULES/usuario/.local/bin/./plink', args = c('--bfile', 'data/cf6',\n",
    "                             '--out', 'data/cf6',\n",
    "                             '--recode',\n",
    "                             '--dog'),\n",
    "          stdout = FALSE, stderr = FALSE)"
   ]
  },
  {
   "cell_type": "markdown",
   "id": "261c31a4-4251-4f4f-a9e2-6d686d4c8ac6",
   "metadata": {},
   "source": [
    "### Ejercicio 3. ¿Qué estructura tiene el archivo `data/cf6.ped`?"
   ]
  },
  {
   "cell_type": "markdown",
   "id": "99f0c32f-81b7-409b-94c7-6846a539b933",
   "metadata": {},
   "source": []
  },
  {
   "cell_type": "markdown",
   "id": "e5c8a29d-9856-4cf0-860e-c35329a553ea",
   "metadata": {},
   "source": [
    "## Métodos\n",
    "El programa `admixture` utiliza la matriz **G** y el númer de poblaciones ancestrales *K* para *estimar* dos matrices: la matriz **P** de las frecuencias alélicas de los *M* loci en cada una de las *K* poblaciones ancestrales; y la matriz **Q** ($N\\times K$), de las proporciones de loci que cada individuo ha heredado de cada una de las poblaciones *K*. EL bloque de código siguiente realiza la estimación para $K=2$. La opción `--cv` (*Cross Validation*) instruye el programa para estimar también una tasa de error en la asignación de ancestralidades:"
   ]
  },
  {
   "cell_type": "code",
   "execution_count": 2,
   "id": "49c93a1c-842f-4a51-aa59-79c42cf528b2",
   "metadata": {},
   "outputs": [],
   "source": [
    "if (! file.exists('cf6.2.Q'))\n",
    "    system2('/home/VMAULES/usuario/.local/bin/./admixture', args = c('--cv', 'data/cf6.bed', '2'),\n",
    "           stdout = 'cf6.2.log')"
   ]
  },
  {
   "cell_type": "markdown",
   "id": "cb20b821-b498-41c9-86fd-fb9be484e784",
   "metadata": {},
   "source": [
    "### Ejercicio 4. En otro bloque de código a continación escribe tú y ejecuta las órdenes para estimar las matrices **P** y **Q** con los valores de *K* entre 3 y 6."
   ]
  },
  {
   "cell_type": "raw",
   "id": "2aa0cc99-d13f-4e79-9111-48c4ebaf1d66",
   "metadata": {},
   "source": []
  },
  {
   "cell_type": "markdown",
   "id": "219f72f1-4b1f-4e08-94ca-f2851dbb366d",
   "metadata": {},
   "source": [
    "## Resultados\n",
    "Es hora de visualizar los resultados. Explora alguna de las matrices de proporciones de mestizaje **Q**. Verás que cada matriz tiene tantas filas como individuos y tantas columnas como poblaciones ancestrales hemos asumido. Las filas suman 1, porque cada columna representa la proporción estimada del genoma que cada individuo ha heredado de cada población ancestral. El código siguiente representa cada fila de **Q** como una barra vertical con fragmentos de colores diferentes proporcionales a la fracción del genoma heredada de cada supuesta población ancestral."
   ]
  },
  {
   "cell_type": "code",
   "execution_count": null,
   "id": "72a7b772-1f59-4b8d-9bb1-b3e7255ab015",
   "metadata": {},
   "outputs": [],
   "source": [
    "Q2 <- matrix(scan('cf6.2.Q'), ncol = 2, byrow = TRUE)\n",
    "options(repr.plot.width = 21, repr.plot.height = 7, repr.plot.res = 100)\n",
    "barplot(t(Q2), col = c(2,3))"
   ]
  },
  {
   "cell_type": "markdown",
   "id": "d487b52f-fde7-4430-b78a-2c57542eb0ec",
   "metadata": {},
   "source": [
    "### Ejercicio 5. En bloques de código adicionales, genera gráficos como el anterior par cada valor de *K*."
   ]
  },
  {
   "cell_type": "code",
   "execution_count": null,
   "id": "dffb1deb-a6fd-463e-b75f-0510dbd265a1",
   "metadata": {},
   "outputs": [],
   "source": []
  },
  {
   "cell_type": "code",
   "execution_count": null,
   "id": "00d58ad5-fb53-469b-b263-83a1f5e0a28c",
   "metadata": {},
   "outputs": [],
   "source": []
  },
  {
   "cell_type": "code",
   "execution_count": null,
   "id": "f55f9e26-2dbb-41bc-900f-80e3c9dadd8d",
   "metadata": {},
   "outputs": [],
   "source": []
  },
  {
   "cell_type": "code",
   "execution_count": null,
   "id": "69dc789b-284e-4ced-9ff9-dc4f969b7c36",
   "metadata": {},
   "outputs": [],
   "source": []
  },
  {
   "cell_type": "markdown",
   "id": "8f58a977-3093-44b6-b51f-0814b1fa3e80",
   "metadata": {},
   "source": [
    "Un aspecto importante es que el método utilizado por `admixture` ignora por completo las *etiquetas* que podemos haber asignado a los individuos. El conocimiento previo sobre el origen de las muestras puede utilizarse para interpretar los resultados. Los individuos (es decir, las filas en la matriz **Q**) están dispuestas en el mismo orden que aparecen los individuos en la matriz **G** de genotipos. La identidad de los individuos podemos encontrarla en las primeras columnas de aquella matriz **G** (es decir, en el archivo `data/cf6.ped`) o, para mayor comodidad, en el archivo `data/cf6.fam`. Abre este último y observa las dos primeras columnas, que corresponden a una población asignada y un identificador único de individuo. Las cuatro poblaciones a las cuales pertenecen nuestras muestras son:\n",
    "\n",
    "Un aspecte important és que el mètode utilitzat per `admixture` ignora per complet les *etiquetes* que podem haver assignat als individus. El coneixement previ sobre l'origen de les mostres pot utilitzar-se per interpretar els resultats. Els individus (és a dir, les files en la matriu **Q**) estan disposats en el mateix ordre en què apareixen els individus en la matriu **G** de genotips. La identitat dels individus podem trobar-la en les primeres columnes d'aquella matriu **G** (és a dir, a l'arxiu `data/cf6.ped`) o, per més comoditat, en l'arxiu `data/cf6.fam`. Obri aquest últim i observa les dues primeres columnes, que corresponen a una població assignada i un identificador únic d'individu. Les quatre poblacions a les quals pertanyen les nostres mostres són:\n",
    "\n",
    "  | Etiqueta | Población            | N  |\n",
    "  | -------- | -------------------- | -- |\n",
    "  |  GERSHP  | Pastor aleman        | 12 |\n",
    "  |  WLFDG1  | Perro-lobo tipo 1    | 18 |\n",
    "  |  WLFDG2  | Perro-lobo tipo 2    | 18 |\n",
    "  |  EUWOLF  | Lobo europeo         | 12 |\n",
    "\n",
    "Podemos añadir esta información a los gráficos anteriores con las instrucciones siguientes:"
   ]
  },
  {
   "cell_type": "code",
   "execution_count": null,
   "id": "9426423c-285f-4794-a844-b60c4e91dd2f",
   "metadata": {},
   "outputs": [],
   "source": [
    "metadata <- read.table('data/cf6.fam', col.names = c('pop', 'ind', 'dad', 'mom', 'sex', 'phe'),\n",
    "                       colClasses = c('factor', 'character', 'NULL', 'NULL', 'NULL', 'NULL'))\n",
    "row.names(Q2) <- metadata$ind\n",
    "# \"space=0\" anula el espacio entre barras, haciendo que la posición de cada individuo sea igual a su número de orden.\n",
    "# \"las=2\" hace que los nombres de los individuos se escriban perpendiculares al eje.\n",
    "barplot(t(Q2), col = c(2, 3), space = 0, las = 2)\n",
    "popPosition <- sapply(split(1:dim(metadata)[1], metadata$pop), mean)\n",
    "popMaximum  <- sapply(split(1:dim(metadata)[1], metadata$pop), max)\n",
    "axis(3, at = popPosition, labels = names(popPosition), tick = 0)\n",
    "abline(v = popMaximum, lwd = 2, col = 'white')"
   ]
  },
  {
   "cell_type": "markdown",
   "id": "f28d5fad-098b-4a70-8a7e-e07205275a41",
   "metadata": {},
   "source": [
    "### Ejercicio 6. Añade las etiquetas a los gráficos con valores de *K* mayores y comenta los resultados."
   ]
  },
  {
   "cell_type": "code",
   "execution_count": null,
   "id": "964b7e9e-c551-43a2-9e68-756767700417",
   "metadata": {},
   "outputs": [],
   "source": []
  },
  {
   "cell_type": "code",
   "execution_count": null,
   "id": "365f11cc-ed55-4e6a-b71f-9c22c54ab859",
   "metadata": {},
   "outputs": [],
   "source": []
  },
  {
   "cell_type": "code",
   "execution_count": null,
   "id": "c086f549-4930-428a-afb4-4b2f4fc45813",
   "metadata": {},
   "outputs": [],
   "source": []
  },
  {
   "cell_type": "code",
   "execution_count": null,
   "id": "751aa183-c007-476d-8dd8-9bcde376b535",
   "metadata": {},
   "outputs": [],
   "source": []
  },
  {
   "cell_type": "markdown",
   "id": "4e8ac953-b806-4752-b266-1b1a2dd1ed1e",
   "metadata": {},
   "source": [
    "## Evaluación de los resultados\n",
    "El programa `admixture` ofrece un método para evaluar qué valor de *K* es más adecuado para los datos. Consiste en identificar el valor de *K* con un *error de validación cruzada* menor. Estos errores se encuentran al final de los archivos `.log`.\n",
    "\n",
    "### Ejercicio 7. Completa el vector `CVerrors` del bloque siguiente manualmente con los valores que encontrarás en los archivos `.log`, y después ejecuta el bloque para obtener una representación gráfica."
   ]
  },
  {
   "cell_type": "code",
   "execution_count": null,
   "id": "0b1b657b-6152-425c-b0f2-80581a42449c",
   "metadata": {},
   "outputs": [],
   "source": [
    "CVerrors <- c(0, 0, 0, 0, 0)\n",
    "K <- c(2, 3, 4, 5, 6)\n",
    "options(repr.plot.width = 7, repr.plot.height = 7, repr.plot.res = 100)\n",
    "plot(K, CVerrors, type = 'b')"
   ]
  },
  {
   "cell_type": "markdown",
   "id": "e341efec-510f-4eef-8787-09144618a8ff",
   "metadata": {},
   "source": [
    "Los errores de validación cruzada nos indican qué valor de *K* es más adecuado. Pero este método no cuestiona el modelo demográfico asumido por el programa, a saber, que las poblaciones provienen de *K* poblaciones ancestrales, que habrían divergido en aislamiento y que pueden haberse mezclado solo recientemente. El programa `evalAdmix` (Garcia-Erill i Albrechtsen, 2020) compueba si los datos se ajustan a este modelo, la lógica de este programa es que si los genotipos de todos los individuos pueden ser explicados adecuadamente por el modelo, las diferencias entre los genotipos observados y los que predice el modelo para un individuo (los *residuales*) no tienen por qué estar correlacionadas con los residuales de ningún otro individuo. Los bloques de código siguientes calculan y representan la matriz de correlaciones entre residuales de parejas de individuos con $K=2$."
   ]
  },
  {
   "cell_type": "code",
   "execution_count": null,
   "id": "7466d62c-8716-4613-aed4-c79f6cad5e64",
   "metadata": {},
   "outputs": [],
   "source": [
    "source('visFuns.R')\n",
    "pop <- read.table('data/cf6.fam')\n",
    "palette(c(\"#A6CEE3\", \"#1F78B4\", \"#B2DF8A\", \"#33A02C\", \"#FB9A99\", \"#E31A1C\", \"#FDBF6F\",\n",
    "          \"#FF7F00\", \"#CAB2D6\", \"#6A3D9A\", \"#FFFF99\", \"#B15928\", \"#1B9E77\", \"#999999\"))"
   ]
  },
  {
   "cell_type": "code",
   "execution_count": null,
   "id": "acbbf9ae-c03b-4bff-b0a8-5092e809136c",
   "metadata": {},
   "outputs": [],
   "source": [
    "K <- 2\n",
    "EvalFile <- paste0('Eval.', K, '.txt')\n",
    "if (! file.exists(EvalFile)) {\n",
    "   system2('/home/VMAULES/usuario/.local/bin/./evalAdmix', \n",
    "           args = c('-plink', 'data/cf6', \n",
    "                    '-fname', paste0('cf6.', K, '.P'),\n",
    "                    '-qname', paste0('cf6.', K, '.Q'),\n",
    "                    '-o', EvalFile, '-P', '1'),\n",
    "           stdout = paste0('Eval.', K, '.log'))\n",
    "}\n",
    "q <- read.table(paste0('cf6.', K, '.Q'), stringsAsFactors = TRUE)\n",
    "ord <- orderInds(pop = as.vector(pop[,1]), q = q)\n",
    "r <- as.matrix(read.table(EvalFile))\n",
    "plotCorRes(cor_mat = r, pop = as.vector(pop[, 1]), ord = ord,\n",
    "           title = paste0('Evaluation of admixture proportions with K =', K),\n",
    "           max_z = 0.5, min_z = -0.5)"
   ]
  },
  {
   "cell_type": "markdown",
   "id": "e7e7173d-cc0e-4b5d-8e41-741bd400c885",
   "metadata": {},
   "source": [
    "### Ejercicio 8. ¿Crees que los datos se ajustan al modelo de mensaje entre dos poblaciones ancestrales?"
   ]
  },
  {
   "cell_type": "markdown",
   "id": "5b9f5f03-c8e8-4a00-ab40-c7d7eae8de3a",
   "metadata": {},
   "source": []
  },
  {
   "cell_type": "markdown",
   "id": "d8aa93bc-a70a-47b5-ac77-f9890249b1ca",
   "metadata": {},
   "source": [
    "### Ejercicio 9. Haz copias del bloque de cógigo anterior y modifica el valor de *K* para calcular y representar las matrices de correlación de residuales para $K=3$, $K=4$, $K=5$ i $K=6$. Observa y comenta los resultados."
   ]
  },
  {
   "cell_type": "code",
   "execution_count": null,
   "id": "90a194f2-ef4f-4901-9e33-14c41f3e19fe",
   "metadata": {},
   "outputs": [],
   "source": []
  },
  {
   "cell_type": "markdown",
   "id": "d46c8818-8eca-41f1-bcb3-e6174e33c6f3",
   "metadata": {},
   "source": []
  },
  {
   "cell_type": "markdown",
   "id": "a57ed905-4542-4b04-a113-a28bb9723dc4",
   "metadata": {},
   "source": [
    "### Bibliografía\n",
    "\n",
    "- Chang et al. 2015. Second-generation PLINK: rising to the challenge of larger and richer datasets. *GigaScience* 4(1):s13742-015-0047-8. [https://doi.org/10.1186/s13742-015-0047-8](https://doi.org/10.1186/s13742-015-0047-8).\n",
    "- Friedlaender et al. 2008. The genetic structure of Pacific islanders. *PLoS Genetics* 4(1):1-18. [https://doi.org/10.1371/journal.pgen.0040019](https://doi.org/10.1371/journal.pgen.0040019).\n",
    "- Garcia-Erill, G. & Albrechtsen, A. 2020. Evaluation of model fit of inferred admixture proportions. *Mol. Ecol. Res.* 20:936-949. [https://doi.org/10.1111/1755-0998.13171](https://doi.org/10.1111/1755-0998.13171).\n",
    "- Lawson, D.J., van Dorp, L. & Falush, D. 2018. A tutorial on how not to over-interpret STRUCTURE and ADMIXTURE bar plots. *Nat. Commun.* 9:3258. [https://doi.org/10.1038/s41467-018-05257-7](https://doi.org/10.1038/s41467-018-05257-7)."
   ]
  },
  {
   "cell_type": "code",
   "execution_count": null,
   "id": "fee28ecb-7adb-4dd6-b28c-55990a5d620a",
   "metadata": {},
   "outputs": [],
   "source": []
  }
 ],
 "metadata": {
  "kernelspec": {
   "display_name": "R",
   "language": "R",
   "name": "ir"
  },
  "language_info": {
   "codemirror_mode": "r",
   "file_extension": ".r",
   "mimetype": "text/x-r-source",
   "name": "R",
   "pygments_lexer": "r",
   "version": "4.3.3"
  }
 },
 "nbformat": 4,
 "nbformat_minor": 5
}
