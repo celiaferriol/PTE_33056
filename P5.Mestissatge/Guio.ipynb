{
 "cells": [
  {
   "cell_type": "markdown",
   "id": "e69719da-4c3b-4c40-84f5-18185fa678ff",
   "metadata": {},
   "source": [
    "# Pràctica amb ordinador 5. Proporcions de mestissatge.\n",
    "\n",
    "## Objectiu\n",
    "Aprendre com es fan i com s'interpreten els gràfics de **proporcions de mestissatge**, com el de la figura següent, treta de [Friedlaender et al. (2008)](https://doi.org/10.1371/journal.pgen.0040019). L'estudi s'encaminava a estudiar en detall l'estructura genètica de les poblacions humanes del Pacífic.\n",
    "\n",
    "![](exemple.png)\n",
    "\n",
    "<center><b>Figura 1</b>. Proporcions d'ancestralitat estimades en 1893 individus de 91 poblacions, a partir dels genotips en 687 microsatèl·lits i 203 insercions (Friedlaender et al., 2008).</center>"
   ]
  },
  {
   "cell_type": "markdown",
   "id": "244a2962-f900-4eec-aafe-6ef5f6e5a5e2",
   "metadata": {},
   "source": [
    "### Exercici 1. Revisem la interpretació intuïtiva d'aquesta figura:\n",
    "1. Què indiquen els colors?\n",
    "2. Què són les barres verticals?\n",
    "3. Creus que existeix un valor de *K* més adequat que els altres?\n",
    "4. Amb $K=2$, creus que és raonable la separació observada entre les poblacions oceàniques i pràcticament la resta del món?\n",
    "5. Quin altre detall et crida la atenció?"
   ]
  },
  {
   "cell_type": "markdown",
   "id": "a489b072-7367-4b0d-93f4-5aea2c924447",
   "metadata": {},
   "source": []
  },
  {
   "cell_type": "markdown",
   "id": "42c4821f-2103-4925-a91f-0c18e5a024de",
   "metadata": {},
   "source": [
    "## El model\n",
    "Les figures com l'anterior assumeixen un model demogràfic concret, amb les assumpcions següents:\n",
    "1. Les poblacions ancestrals van viure separades, van divergir per deriva genètica i poden haver-se mesclat recentment.\n",
    "2. Les poblacions mestisses no han patit deriva genètica des del mestissatge: la seua constitució genètica s'explica adequadament per les proporcions de mestissatge i les freqüències al·lèliques inicials.\n",
    "3. Totes les poblacions ancestrals estan ben representades en la mostra.\n",
    "\n",
    "La figura següent, de Lawson et al. (2018), representa un exemple d'aquest model.\n",
    "\n",
    "<center>\n",
    "<img src=\"model.png\" alt=\"Drawing\" style=\"width: 200px;\"/>\n",
    "</center>\n",
    "<center><b>Figura 2</b>. Model demogràfic de diferenciació i mestissatge entre 4 poblacions (a) i proporcions de mestissatge corresponents en una mostra d'individus de les 4 poblacions (Lawson et al. 2018).</center>\n",
    "\n",
    "### Exercici 2. Quines poblacions humanes coneixes que podrien haver tingut una evolució semblant?"
   ]
  },
  {
   "cell_type": "markdown",
   "id": "7827deba-9302-4289-aca6-b02b86bc6f12",
   "metadata": {},
   "source": []
  },
  {
   "cell_type": "markdown",
   "id": "21a589d3-f33a-49a1-913d-2feec4bc62f0",
   "metadata": {},
   "source": [
    "## Les dades\n",
    "Les dades de partida són:\n",
    "\n",
    "1. Una gran matriu **G**, dels genotips en *M* loci (normalment, milers d'SNPs) d'*N* individus;\n",
    "2. i un número de poblacions ancestrals que suposem que van existir, *K*.\n",
    "\n",
    "Friedlaender et al. (2008) van utilitzar dades genètiques de 890 loci en 1893 individus de 91 poblacions diferents. Nosaltres utilitzarem els genotips de 12 llops i 74 gossos de tres races, en prop de 77000 SNPs. Les dades estan a la carpeta `data`, en un format binari propi del programa `plink` (Chang et al. 2015). Per poder transformar-les a un format de text pla, cal tenir instal·lat el programa `plink`. Executant el bloc de codi següent s'instal·laran tres programes que farem servir durant la pràctica: `plink`, `admixture` i `evalAdmix`. Aquest bloc només cal executar-lo una vegada:"
   ]
  },
  {
   "cell_type": "code",
   "execution_count": null,
   "id": "e10da5b2-a1ea-4edd-8cc0-936cd9afd9ad",
   "metadata": {},
   "outputs": [],
   "source": [
    "system2('./installacio.sh')"
   ]
  },
  {
   "cell_type": "markdown",
   "id": "c50e6785-fdaf-4952-b362-603213f2bc47",
   "metadata": {},
   "source": [
    "Des d'aquest quadern Jupyter només podem executar ordres del llenguatge R. Per executar comandaments del sistema, els hem d'embolicar amb la funció `system2()` d'R.\n",
    "\n",
    "El bloc següent generarà una versió llegible de les dades genètiques (la matriu **G**):"
   ]
  },
  {
   "cell_type": "code",
   "execution_count": 10,
   "id": "a6f5bf52-1c83-4a2d-9fde-d27ee6f9f32f",
   "metadata": {},
   "outputs": [],
   "source": [
    "if (! file.exists('data/cf6.ped')) \n",
    "   system2('plink', args = c('--bfile', 'data/cf6',\n",
    "                             '--out', 'data/cf6',\n",
    "                             '--recode',\n",
    "                             '--dog'),\n",
    "          stdout = FALSE, stderr = FALSE)"
   ]
  },
  {
   "cell_type": "markdown",
   "id": "261c31a4-4251-4f4f-a9e2-6d686d4c8ac6",
   "metadata": {},
   "source": [
    "### Exercici 3. Quina estructura té l'arxiu `data/cf6.ped`?"
   ]
  },
  {
   "cell_type": "markdown",
   "id": "99f0c32f-81b7-409b-94c7-6846a539b933",
   "metadata": {},
   "source": []
  },
  {
   "cell_type": "markdown",
   "id": "e5c8a29d-9856-4cf0-860e-c35329a553ea",
   "metadata": {},
   "source": [
    "## Mètodes\n",
    "El programa `admixture` utilitza la matriu **G** i el número de poblacions ancestrals *K* per *estimar* dues matrius: la matriu **P** de les freqüències al·lèliques dels *M* loci en cadascuna de les *K* poblacions ancestrals; i la matriu **Q** ($N\\times K$), de les proporcions de loci que cada individu ha heretat de cada una de les *K* poblacions. El bloc de codi següent realitza l'estimació per a $K=2$. L'opció `--cv` instrueix el programa per estimar també una taxa d'error en l'assignació d'ancestralitats."
   ]
  },
  {
   "cell_type": "code",
   "execution_count": 23,
   "id": "49c93a1c-842f-4a51-aa59-79c42cf528b2",
   "metadata": {},
   "outputs": [],
   "source": [
    "if (! file.exists('cf6.2.Q'))\n",
    "    system2('admixture', args = c('--cv', 'data/cf6.bed', '2'),\n",
    "           stdout = 'cf6.2.log')"
   ]
  },
  {
   "cell_type": "markdown",
   "id": "cb20b821-b498-41c9-86fd-fb9be484e784",
   "metadata": {},
   "source": [
    "### Exercici 4. En un altre bloc de codi a continuació escriu tu i executa les ordres per estimar les matrius **P** i **Q** amb valors de *K* entre 3 i 6."
   ]
  },
  {
   "cell_type": "code",
   "execution_count": null,
   "id": "2fee11cc-8c70-4bc5-826a-2ac9be58a16c",
   "metadata": {},
   "outputs": [],
   "source": []
  },
  {
   "cell_type": "markdown",
   "id": "219f72f1-4b1f-4e08-94ca-f2851dbb366d",
   "metadata": {},
   "source": [
    "## Resultats\n",
    "És hora de visualitzar els resultats. Explora alguna de les matrius de proporcions de mestissatge, **Q**. Voràs que cada matriu té tantes files com individus i tantes columnes com poblacions ancestrals hem assumit. Les files sumen 1, perquè cada columna representa la proporció estimada del genoma que cada individu ha heretat de cada població ancestral. El codi següent representa cada fila de **Q** com una barra vertical amb fragments de colors diferents proporcionals a la fracció del genoma heretada de cada suposada població ancestral."
   ]
  },
  {
   "cell_type": "code",
   "execution_count": null,
   "id": "72a7b772-1f59-4b8d-9bb1-b3e7255ab015",
   "metadata": {},
   "outputs": [],
   "source": [
    "Q2 <- matrix(scan('cf6.2.Q'), ncol = 2, byrow = TRUE)\n",
    "options(repr.plot.width = 21, repr.plot.height = 7, repr.plot.res = 100)\n",
    "barplot(t(Q2), col = c(2,3))"
   ]
  },
  {
   "cell_type": "markdown",
   "id": "d487b52f-fde7-4430-b78a-2c57542eb0ec",
   "metadata": {},
   "source": [
    "### Exercici 5. En blocs de codi addicionals, genera gràfics com l'anterior per a cada valor de *K*."
   ]
  },
  {
   "cell_type": "code",
   "execution_count": null,
   "id": "dffb1deb-a6fd-463e-b75f-0510dbd265a1",
   "metadata": {},
   "outputs": [],
   "source": []
  },
  {
   "cell_type": "code",
   "execution_count": null,
   "id": "00d58ad5-fb53-469b-b263-83a1f5e0a28c",
   "metadata": {},
   "outputs": [],
   "source": []
  },
  {
   "cell_type": "code",
   "execution_count": null,
   "id": "f55f9e26-2dbb-41bc-900f-80e3c9dadd8d",
   "metadata": {},
   "outputs": [],
   "source": []
  },
  {
   "cell_type": "code",
   "execution_count": null,
   "id": "69dc789b-284e-4ced-9ff9-dc4f969b7c36",
   "metadata": {},
   "outputs": [],
   "source": []
  },
  {
   "cell_type": "markdown",
   "id": "8f58a977-3093-44b6-b51f-0814b1fa3e80",
   "metadata": {},
   "source": [
    "Un aspecte important és que el mètode utilitzat per `admixture` ignora per complet les *etiquetes* que podem haver assignat als individus. El coneixement previ sobre l'origen de les mostres pot utilitzar-se per interpretar els resultats. Els individus (és a dir, les files en la matriu **Q**) estan disposats en el mateix ordre en què aparixen els individus en la matriu **G** de genotips. La identitat dels individus podem trobar-la en les primeres columnes d'aquella matriu **G** (és a dir, a l'arxiu `data/cf6.ped`) o, per més comoditat, en l'arxiu `data/cf6.fam`. Obri aquest últim i observa les dues primeres columnes, que corresponen a una població assignada i un identificador únic d'individu. Les quatre poblacions a les quals pertanyen les nostres mostres són:\n",
    "\n",
    "  |     | Població             | N  |\n",
    "  | --- | -------------------- | -- |\n",
    "  | GSH | Pastor alemany       | 12 |\n",
    "  | SAW | Gos-llop Saarloos    | 18 |\n",
    "  | CSW | Gos-llop txecoslovac | 44 |\n",
    "  | WLF | Llop europeu         | 12 |\n",
    "\n",
    "Podem afegir esta informació als gràfics anteriors amb les instruccions següents:"
   ]
  },
  {
   "cell_type": "code",
   "execution_count": null,
   "id": "9426423c-285f-4794-a844-b60c4e91dd2f",
   "metadata": {},
   "outputs": [],
   "source": [
    "metadata <- read.table('data/cf6.fam', col.names = c('pop', 'ind', 'dad', 'mom', 'sex', 'phe'),\n",
    "                       colClasses = c('factor', 'character', 'NULL', 'NULL', 'NULL', 'NULL'))\n",
    "row.names(Q2) <- metadata$ind\n",
    "# \"space=0\" anula l'espai entre barres, fent que la posició de cada individu siga igual al seu número d'ordre.\n",
    "# \"las=2\" fa que els noms dels individus s'escriguen perpendiculars a l'eix.\n",
    "barplot(t(Q2), col = c(2, 3), space = 0, las = 2)\n",
    "popPosition <- sapply(split(1:dim(metadata)[1], metadata$pop), mean)\n",
    "popMaximum  <- sapply(split(1:dim(metadata)[1], metadata$pop), max)\n",
    "axis(3, at = popPosition, labels = names(popPosition), tick = 0)\n",
    "abline(v = popMaximum, lwd = 2, col = 'white')"
   ]
  },
  {
   "cell_type": "markdown",
   "id": "f28d5fad-098b-4a70-8a7e-e07205275a41",
   "metadata": {},
   "source": [
    "### Exercici 6. Afegeix les etiquetes de població als gràfics amb valors de *K* majors i comenta els resultats."
   ]
  },
  {
   "cell_type": "code",
   "execution_count": null,
   "id": "964b7e9e-c551-43a2-9e68-756767700417",
   "metadata": {},
   "outputs": [],
   "source": []
  },
  {
   "cell_type": "code",
   "execution_count": null,
   "id": "365f11cc-ed55-4e6a-b71f-9c22c54ab859",
   "metadata": {},
   "outputs": [],
   "source": []
  },
  {
   "cell_type": "code",
   "execution_count": null,
   "id": "c086f549-4930-428a-afb4-4b2f4fc45813",
   "metadata": {},
   "outputs": [],
   "source": []
  },
  {
   "cell_type": "code",
   "execution_count": null,
   "id": "751aa183-c007-476d-8dd8-9bcde376b535",
   "metadata": {},
   "outputs": [],
   "source": []
  },
  {
   "cell_type": "markdown",
   "id": "529a0f86-f1b6-4412-9c81-5a6531a13e61",
   "metadata": {},
   "source": []
  },
  {
   "cell_type": "markdown",
   "id": "4e8ac953-b806-4752-b266-1b1a2dd1ed1e",
   "metadata": {},
   "source": [
    "## Avaluació dels resultats\n",
    "El programa `admixture` ofereix un mètode per avaluar quin valor de *K* és més adequat per a les dades. Consisteix en identificar el valor de *K* amb un *error de validació creauada* menor. Aquests errors es troben al final dels arxius `.log`.\n",
    "\n",
    "### Exercici 7. Ompli el vector `CVerrors` del bloc següent manualment amb els valors que trobaràs als arxius `.log`, i després executa el bloc per obtenir-ne una representació gràfica."
   ]
  },
  {
   "cell_type": "code",
   "execution_count": null,
   "id": "0b1b657b-6152-425c-b0f2-80581a42449c",
   "metadata": {},
   "outputs": [],
   "source": [
    "CVerrors <- c(0, 0, 0, 0, 0)\n",
    "K <- c(2, 3, 4, 5, 6)\n",
    "options(repr.plot.width = 7, repr.plot.height = 7, repr.plot.res = 100)\n",
    "plot(K, CVerrors, type = 'b')"
   ]
  },
  {
   "cell_type": "markdown",
   "id": "d46c8818-8eca-41f1-bcb3-e6174e33c6f3",
   "metadata": {},
   "source": [
    "### Bibliografia\n",
    "\n",
    "- Chang et al. 2015. Second-generation PLINK: rising to the challenge of larger and richer datasets. *GigaScience* 4(1):s13742-015-0047-8. [https://doi.org/10.1186/s13742-015-0047-8](https://doi.org/10.1186/s13742-015-0047-8).\n",
    "- Friedlaender et al. 2008. The genetic structure of Pacific islanders. *PLoS Genetics* 4(1):1-18. [https://doi.org/10.1371/journal.pgen.0040019](https://doi.org/10.1371/journal.pgen.0040019).\n",
    "- Lawson, D.J., van Dorp, L. & Falush, D. 2018. A tutorial on how not to over-interpret STRUCTURE and ADMIXTURE bar plots. *Nat. Commun.* 9:3258. [https://doi.org/10.1038/s41467-018-05257-7](https://doi.org/10.1038/s41467-018-05257-7)."
   ]
  }
 ],
 "metadata": {
  "kernelspec": {
   "display_name": "R",
   "language": "R",
   "name": "ir"
  },
  "language_info": {
   "codemirror_mode": "r",
   "file_extension": ".r",
   "mimetype": "text/x-r-source",
   "name": "R",
   "pygments_lexer": "r",
   "version": "4.3.3"
  }
 },
 "nbformat": 4,
 "nbformat_minor": 5
}
