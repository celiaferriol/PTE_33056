{
 "cells": [
  {
   "cell_type": "markdown",
   "id": "8e47767e-7bfc-468a-9d4b-2191cab49281",
   "metadata": {},
   "source": [
    "# Pràctica amb ordinador 4. Filogènia mitocondrial d'hominins moderns i arcaics\n",
    "## Preparació de l'ordinador\n",
    "En esta pràctica utilitzarem els paquets `phangorn`, `Biostrings` i `pegas`. Si no estan intal·lats al teu ordinador, executa les ordres següents en un terminal:\n",
    "\n",
    "> `install.packages('phangorn')`\n",
    "\n",
    "> `install.packages('BiocManager')`\n",
    "\n",
    "> `BiocManager::install('DECIPHER')`\n",
    "\n",
    "> `install.packages('pegas')`\n",
    "\n",
    "I a continuació, carrega'ls:"
   ]
  },
  {
   "cell_type": "code",
   "execution_count": null,
   "id": "e6260ec5-98cb-473e-8c99-d77bf70b6c7b",
   "metadata": {},
   "outputs": [],
   "source": [
    "suppressMessages(library('phangorn'))\n",
    "suppressMessages(library('DECIPHER'))\n",
    "suppressMessages(library('pegas'))"
   ]
  },
  {
   "cell_type": "markdown",
   "id": "fc76036a-e6df-497e-aa7a-6fe36bb93d21",
   "metadata": {},
   "source": [
    "## Introducció\n",
    "Al web [http://www.phylotree.org](http://www.phylotree.org) s'acumulen més de 24000 seqüències completes d'ADN mitocondrial humà. Tota la diversitat genètica mitocondrial de les poblacions humanes actuals pot classificar-se en uns pocs haplotips principals, la filogènia dels quals es reprodueix a la figura següent:\n",
    "\n",
    "![](phylotree.png)\n",
    "\n",
    "L'objectiu d'aquesta pràctica és utilitzar dades d'ADN mitocondrial per estudiar les relacions filogenètiques entre humans actuals i alguns dels nostres parents més pròxims, com els neandertals i els denisovans. A més, aplicarem la teoria de la coalescència a les dades per extreure informació sobre les diferents poblacions d'hominins.\n",
    "\n",
    "Les dades es troben a l'arxiu `Denisovan_mtDNA.fasta` i són un alineament dels cromosomes mitocondrials complets de 9 humans moderns, 23 neandertals, 4 denisovans, un *Homo heidelbergensis*, 4 bonobos (*Pan paniscus*), 4 ximpanzés (*Pan troglodytes*) i un goril·la (que ens servirà d'*outgroup*).\n",
    "\n",
    "## Reconstrucció filogenètica i calibratge del rellotge molecular\n",
    "Igual que en la pràctica anterior, el bloc de codi següent carrega les seqüències (ja alineades) en la sessió de treball i les mostra en una pestanya nova del navegador:"
   ]
  },
  {
   "cell_type": "code",
   "execution_count": null,
   "id": "c296342a-e3fd-4803-a322-a9fe504785c4",
   "metadata": {},
   "outputs": [],
   "source": [
    "mtDNA <- readDNAStringSet('mtDNA.fasta')\n",
    "BrowseSeqs(mtDNA, htmlFile = 'mtDNA.html', openURL = TRUE)"
   ]
  },
  {
   "cell_type": "markdown",
   "id": "37742956-59ac-4e43-9161-bad5f670f817",
   "metadata": {},
   "source": [
    "Per reconstruir la filogènia de les seqüències, podem estimar les distàncies genètiques entre elles amb un model d'evolució molecular i aplicar l'algoritme *neighbor joining*, que és eficient i suficientment acurat. Observa que la funció que estima les distàncies, `dist.dna()`, exigeix que transformem primer l'alineament en un objecte de tipus `DNAbin`:"
   ]
  },
  {
   "cell_type": "code",
   "execution_count": null,
   "id": "b6efd943-02aa-41d3-8dca-3976a7924165",
   "metadata": {},
   "outputs": [],
   "source": [
    "options(repr.plot.width = 12, repr.plot.height = 10)\n",
    "mtDNAb <- as.DNAbin(mtDNA)\n",
    "distancies <- dist.dna(mtDNAb, model = 'K81')\n",
    "arbre <- NJ(distancies)\n",
    "plot(arbre)"
   ]
  },
  {
   "cell_type": "markdown",
   "id": "6f1377c9-8350-43ab-8125-f5601af08294",
   "metadata": {},
   "source": [
    "El *neighbor-joining* produeix arbres *desarrelats*. Per visualitzar l'arbre més correctament podem indicar que la seqüència de goril·la (*G.gorilla_D38114*) és l'*outgroup*."
   ]
  },
  {
   "cell_type": "code",
   "execution_count": null,
   "id": "4e416eac-05ce-4490-ab3c-c31477ea8f7b",
   "metadata": {},
   "outputs": [],
   "source": [
    "arbre <- root(arbre, outgroup = 'G.gorilla_D38114', resolve.root = TRUE)\n",
    "plot(arbre)\n",
    "axisPhylo()"
   ]
  },
  {
   "cell_type": "markdown",
   "id": "ef80fad5-c318-4cf2-9fa1-24df05b4f5ec",
   "metadata": {},
   "source": [
    "En arrelar l'arbre, les branques esdevenen *orientades*: el temps avança des de l'arrel cap a les puntes (o *fulles*). Però l'arbre no és encara *ultramètric*: la distància (nombre de substitucions per nucleòtid) des de l'arrel fins qulasevol de les fulles no és sempre la mateixa. Hi ha almenys dos bons motius perquè no siga ultramètric. En primer lloc, el punt exacte d'arrelament de l'arbre és arbitrari, dins la branca que separa l'*outgroup*, i la funció `root()` podia haver triat un punt més a la dreta, per aliniar millor el goril·la amb la resta de fulles de l'arbre. En segon lloc, no totes les seqüències són contemporànies i per tant no totes tenen per què haver acumulat la mateixa quantitat de canvis des de l'arrel. Podem intentar solucionar aquests dos problemes amb la funció `rtt()` del paquet `ape` (carregat automàticament amb `phangorn`). Al bloc següent, `rtt()` fixa l'arrel de l'arbre en la posició més compatible possible amb la hipòtesi del **rellotge molecular** i tenint en compte l'edat estimada de les seqüències, d'acord amb la informació arreplegada a l'apèndix."
   ]
  },
  {
   "cell_type": "code",
   "execution_count": null,
   "id": "301b1165-cb94-499b-8033-b681f7fd9d4f",
   "metadata": {},
   "outputs": [],
   "source": [
    "tipDates <- c(0, 0, 0, 0, 0, 0, 0, 0, 0,\n",
    "              -400000,\n",
    "              -39000, -50000, -110000, -110000,\n",
    "              -39820, -40096, -38515, -38310, -39000, -40000, -41210,\n",
    "              -42430, -42540, -43230, -43780, -44290, -44770, -49000,\n",
    "              -50000, -82752, -65000, -122287, -110450,\n",
    "              0, 0, 0, 0, 0, 0, 0, 0, 0)\n",
    "              \n",
    "arbre <- rtt(arbre, tip.dates = tipDates, objective = 'rms')\n",
    "plot(arbre, x.lim = 0.08, label.offset = 0.001)\n",
    "axisPhylo()"
   ]
  },
  {
   "cell_type": "markdown",
   "id": "dd788795-58f4-46de-95af-7c282544982b",
   "metadata": {},
   "source": [
    "Les longituds de les branques de l'arbre representen el nombre estimat de canvis nucleotídics acumulats en cada branca. Si sumàrem les longituds de les branques que separen dues fulles, trobaríem un valor molt semblant a la distància estimada abans amb la funció `dist.dna()`.\n",
    "\n",
    "Si els canvis nucleotídics s'acumularen exactament al mateix ritme en totes les branques (hipòtesi del rellotge molecular) i si les haguérem estimat sense error, aleshores les longituds de les branques serien *també* proporcionals al temps transcorregut, i podríem datar els ancestres (o nodes interns) a partir de la seua profunditat en l'arbre.\n",
    "\n",
    "La funció `estimate.dates()` utilitza les dates conegudes per estimar les edats o dates de la resta de nodes d'un arbre arrelat. Per facilitar-li la feina, li proporcionem un vector amb les edats no només de les fulles de l'arbre (42 primers nodes), sinó també amb la de l'ancestre comú més recent entre humans i ximpanzés (node 44 de l'arbre): 6.5 milions d'anys, aproximadament."
   ]
  },
  {
   "cell_type": "code",
   "execution_count": null,
   "id": "a03cbcbf-c4b6-4079-9042-b0976b07ba59",
   "metadata": {},
   "outputs": [],
   "source": [
    "nodeDates <- rep(NA, 83)\n",
    "nodeDates[1:42] <- tipDates\n",
    "nodeDates[44] <- -6500000\n",
    "edatsEstimades <- estimate.dates(arbre, node.dates = nodeDates)\n",
    "round(edatsEstimades,0)"
   ]
  },
  {
   "cell_type": "code",
   "execution_count": null,
   "id": "9049461c-e674-4550-8f77-9abd2e8efcc9",
   "metadata": {},
   "outputs": [],
   "source": [
    "par(mar = c(5,5,0,0))\n",
    "plot(arbre, x.lim = c(-0.0015, 0.08), label.offset = 0.001)\n",
    "nodelabels(round(edatsEstimades[43:83],0),\n",
    "           frame = 'none', cex = 0.7, adj = c(1.1, -0.2))\n",
    "axisPhylo()"
   ]
  },
  {
   "cell_type": "markdown",
   "id": "677b3e3d-e4d9-4aaf-8044-f150aa33fa96",
   "metadata": {},
   "source": [
    "## Mida poblacional efectiva\n",
    "Contesta les preguntes següents. Pots fer-ho sobre aquest mateix document, fent doble click al bloc de text corresponent.\n",
    "\n",
    "1. Quina edat se li atribueix a l'ancestre comú més recent de les 9 mostres humanes? I a l'ancestre comú més recent de les mostres neandertals?"
   ]
  },
  {
   "cell_type": "markdown",
   "id": "404b3a1c-52b9-46dc-9895-aaaab6fea24e",
   "metadata": {},
   "source": []
  },
  {
   "cell_type": "markdown",
   "id": "2912b249-08ee-4399-a473-b03ab9e65176",
   "metadata": {},
   "source": [
    "2. Assumint un temps de generació de 20 anys, quantes generacions enrere va viure l'ancestre comú més recent de les 9 mostres d'humans moderns?"
   ]
  },
  {
   "cell_type": "markdown",
   "id": "ae74811d-bb80-4a0f-8614-ede92288c451",
   "metadata": {},
   "source": []
  },
  {
   "cell_type": "markdown",
   "id": "da4e170c-61fd-466f-a222-06f0c6a87a07",
   "metadata": {},
   "source": [
    "3. Assumint el mateix temps de generació i suposant que els 19 neandertals van viure fa 53550 anys, quantes generacions els separen del seu ancestre comú més recent?"
   ]
  },
  {
   "cell_type": "markdown",
   "id": "c8d2d3ec-d9c3-4bef-8d09-72e5adb3423a",
   "metadata": {},
   "source": []
  },
  {
   "cell_type": "markdown",
   "id": "7b88e86e-bb3a-41c4-bec9-6ef4525f38f7",
   "metadata": {},
   "source": [
    "4. D'acord amb la teoria de la coalescència, l'ancestre comú més recent d'una mostra aleatòria d'*n* seqüències *haploides* d'una població de mida constant esperem trobar-lo, en promig, quasi tantes generacions enrere com dues vegades el nombre individus *efectius*. És a dir, $E(H_n)\\approx 2N_e$. D'acord amb açò, quines serien les mides poblacionals efectives dels humans moderns, dels neandertals, dels denisovans, dels ximpanzés i dels bonobos?"
   ]
  },
  {
   "cell_type": "markdown",
   "id": "3a26b9aa-532c-40c1-a7f9-d54ed74d7943",
   "metadata": {},
   "source": []
  },
  {
   "cell_type": "markdown",
   "id": "b0ec27c5-b593-46ae-b897-12ca5ee2d3d8",
   "metadata": {},
   "source": [
    "## Taxa de mutació mitocondrial\n",
    "La mida poblacional efectiva i la taxa de mutació determinen juntes la diversitat genètica d'una població, mitjançant el paràmetre $\\theta = 4N_e\\mu$, en diploides, o $\\theta = 2N_e\\mu$, en haploides. La diversitat la podem mesurar com $\\pi$, la proporció mitjana de diferències nucleotídiques entre dues seqüències triades a l'atzar en la població, o com la proporció $s$ de posicions variables d'un alineament d'*n* seqüències aleatòriament triades en la població. Les esperances teòriques d'aquestes mesures són $E(\\pi)=\\theta$ i $E(s)=\\theta\\sum_{i=1}^{n-1}\\frac{1}{i}$, on $\\theta$ és $2N_e\\mu$ en haploides.\n",
    "\n",
    "El codi següent examina l'alineament original i extreu el nombre de llocs variables entre les seqüències d'humans moderns:"
   ]
  },
  {
   "cell_type": "code",
   "execution_count": null,
   "id": "c01f32d3-67f4-415a-bde1-0fa2da3ed4de",
   "metadata": {},
   "outputs": [],
   "source": [
    "length(seg.sites(mtDNAb[startsWith(names(mtDNAb), 'H.s.modern')]))"
   ]
  },
  {
   "cell_type": "markdown",
   "id": "1c87a0b2-346a-4231-8447-8389b564d7c7",
   "metadata": {},
   "source": [
    "5. Seguint l'exemple del comandament anterior, troba el nombre de llocs segregants entre les seqüències de cada població."
   ]
  },
  {
   "cell_type": "code",
   "execution_count": null,
   "id": "61694390-ee66-448a-b0bc-bf44acf3c4a6",
   "metadata": {},
   "outputs": [],
   "source": []
  },
  {
   "cell_type": "markdown",
   "id": "4678569d-4717-4719-8740-08c77392b6a6",
   "metadata": {},
   "source": [
    "6. Tenint en compte que l'alineament és de 16603 posicions, utilitza la proporció de llocs variables i les estimacions prèvies de mida poblacional per estimar la taxa de mutació mitocondrial en cada població."
   ]
  },
  {
   "cell_type": "code",
   "execution_count": null,
   "id": "c2de211a-7c74-4436-8793-3d72863e6872",
   "metadata": {},
   "outputs": [],
   "source": []
  },
  {
   "cell_type": "markdown",
   "id": "19d1f954-2b0e-4cc5-a106-d426958386dd",
   "metadata": {},
   "source": [
    "El paràmetre $\\pi$ de cada població es pot obtenir amb la funció `nuc.div()` del paquet `pegas`. Al bloc següent s'estima la $\\pi$ dels ximpanzés:"
   ]
  },
  {
   "cell_type": "code",
   "execution_count": null,
   "id": "1023f9bc-1dc2-4f23-ba16-d20babeaef7d",
   "metadata": {},
   "outputs": [],
   "source": [
    "nuc.div(mtDNAb[startsWith(names(mtDNAb), 'P.troglodytes')])"
   ]
  },
  {
   "cell_type": "markdown",
   "id": "d456c6a7-1ad3-4512-9584-37dfb5a28a50",
   "metadata": {},
   "source": [
    "7. Seguint el model, estima tu els valors de $\\pi$ per a la resta de poblacions."
   ]
  },
  {
   "cell_type": "code",
   "execution_count": null,
   "id": "76615793-51b0-40a6-893a-d0be2d118b4a",
   "metadata": {},
   "outputs": [],
   "source": []
  },
  {
   "cell_type": "markdown",
   "id": "64598769-044c-4c3f-bb4b-6df40b5f0881",
   "metadata": {},
   "source": [
    "8. Estima de nou les taxes de mutació mitocondrials de cada població, però ara a partir dels valors estimats de $\\pi$. Com es comparen els valors?"
   ]
  },
  {
   "cell_type": "code",
   "execution_count": null,
   "id": "719ed145-f663-4723-a8c6-d003c39c1a45",
   "metadata": {},
   "outputs": [],
   "source": []
  },
  {
   "cell_type": "markdown",
   "id": "611fc2ec-ae48-48ed-a851-d36bc8682d5a",
   "metadata": {},
   "source": [
    "9. A partir de la datació dels nodes de l'arbre, també podem estimar una taxa de mutació mitjana, de tot l'arbre. Executa el comandament següent i veges com es compara amb les taxes de mutació que has estimat abans. Sabries dir en quines unitats estan les taxes de mutació?"
   ]
  },
  {
   "cell_type": "code",
   "execution_count": null,
   "id": "6d70536d-c572-4cbf-b090-b077b5927c22",
   "metadata": {},
   "outputs": [],
   "source": [
    "estimate.mu(arbre, nodeDates)"
   ]
  },
  {
   "cell_type": "markdown",
   "id": "b3500b83-465f-4895-8229-214d346d1e8f",
   "metadata": {},
   "source": [
    "# Apèndix\n",
    "\n",
    " |   Espècie         |  Número d'accés |    Edat (anys) |   Referència          |  Nom                 |\n",
    " | ----------------- | --------------- | -------------- | --------------------- | -------------------- |\n",
    " | H.heidelbergensis |     NC_023100   |     400.000    | Meyer et al. 2014     | -                    |\n",
    " | H.s.denisova      |     NC_013993   |  30.000-48.000 | Krause et al. 2010    | Denisova 3 (falange) |\n",
    " | H.s.denisova      |     FR695060    |     >50.000?   | Reich et al. 2010     | Denisova 4 (molar)   |\n",
    " | H.s.denisova      |     KX663333    |     >100.000   | Slon et al. 2017      | Denisova 2 (dent)    |\n",
    " | H.s.denisova      |     KT780370    |     110.000?   | Sawyer et al. 2015    | Denisova 8 (molar)   |\n",
    " | H.s.neandertal    |     KX198085    |  32.697-46.942 | Posth et al. 2017     | GoyetQ374a-1         |\n",
    " | H.s.neandertal    |     KX198086    |  33.134-47.057 | Posth et al. 2017     | GoyetQ305-7          |\n",
    " | H.s.neandertal    |     MG025538    |  37.880-39.150 | Hajdinjak et al. 2018 | Spy-94a              |\n",
    " | H.s.neandertal    |     NC_011137   |      38.310    | Green et al. 2008     | Vindija 33.16        |\n",
    " | H.s.neandertal    |     FM865409    |      39.000    | Briggs et al. 2009    | Sidron 1253          |\n",
    " | H.s.neandertal    |     FM865407    |      40.000    | Briggs et al. 2009    | Feldhofer 1          |\n",
    " | H.s.neandertal    |     KX198088    |  40.620-41.800 | Rougier et al. 2016   | GoyetQ57-2           |\n",
    " | H.s.neandertal    |     KX198083    |  41.960-42.900 | Rougier et al. 2016   | GoyetQ57-3           |\n",
    " | H.s.neandertal    |     MG025540    |  42.080-43.000 | Hajdinjak et al. 2018 | GoyetQ56-1           |\n",
    " | H.s.neandertal    |     MG025536    |  42.720-43.740 | Hajdinjak et al. 2018 | Les Cottés Z4-1514   |\n",
    " | H.s.neandertal    |     MG025537    |  42.960-44.600 | Hajdinjak et al. 2018 | Mezmaiskaya2         |\n",
    " | H.s.neandertal    |     KX198087    |  43.430-45.150 | Rougier et al. 2016   | GoyetQ305-4          |\n",
    " | H.s.neandertal    |     KX198082    |  43.910-45.630 | Rougier et al. 2016   | GoyetQ57-1           |\n",
    " | H.s.neandertal    |     FM865408    |      49.000    | Briggs et al. 2009    | Feldhofer 2          |\n",
    " | H.s.neandertal    |     KU131206    |      >50.000   | Brown et al. 2016     | DC1227               |\n",
    " | H.s.neandertal    |     KF982693    | 56.213-109.290 | Posth et al. 2017     | Okladnikov2          |\n",
    " | H.s.neandertal    |     FM865411    |  60.000-70.000 | Briggs et al. 2009    | Mezmaiskaya1         |\n",
    " | H.s.neandertal    |     KY751400    | 62.013-182.560 | Posth et al. 2017     | HST                  |\n",
    " | H.s.neandertal    |     MK033602    | 90.900-130.000 | Douka et al. 2019     | Denisova15           |\n",
    "\n",
    "## Bibliography\n",
    "\n",
    "- Briggs, A.W. et al. 2009. *Science* 325(5938):318-21. [10.1126/science.1174462](https://doi.org/10.1126/science.1174462)\n",
    "- Brown, S. et al. 2016. *Sci. Rep.* 6:23559. [10.1038/srep23559](https://doi.org/10.1038/srep23559)\n",
    "- Douka, K. et al. 2019. *Nature* 565:640-644. [10.1038/s41586-018-0870-z](https://doi.org/10.1038/s41586-018-0870-z)\n",
    "- Green, R.E. et al. 2008. *Cell* 134(3):416-426. [10.1016/j.cell.2008.06.021](https://doi.org/10.1016/j.cell.2008.06.021)\n",
    "- Hajdinjak, M. et al. 2018. *Nature* 555(7698):652-656. [10.1038/nature26151](https://doi.org/10.1038/nature26151)\n",
    "- Krause, J. et al.2010. *Nature* 464(7290):894-897 [10.1038/nature08976](https://doi.org/10.1038/nature08976)\n",
    "- Meyer, M. et al. 2014. *Nature* 505(7483):403-406. [10.1038/nature12788](https://doi.org/10.1038/nature12788)\n",
    "- Posth, C. et al. 2017. *Nat. Commun.* 8:16046. [10.1038/ncomms16046](https://doi.org/10.1038/ncomms16046)\n",
    "- Reich, D. et al. 2010. *Nature* 468(7327):1053-60. [10.1038/nature09710](https://doi.org/10.1038/nature09710)\n",
    "- Rougier, H. et al. 2016. *Sci. Rep.* 6:29005. [10.1038/srep29005](https://doi.org/10.1038/srep29005)\n",
    "- Skoglund, P. et al. 2014. *Proc. Natl. Acad. Sci. U.S.A* 111(6):2229-2234. [10.1073%2Fpnas.1318934111](https://doi.org/10.1073%2Fpnas.1318934111)\n",
    "- Sawyer, S. et al. 2015. *Proc. Natl. Acad. Sci. U.S.A.* 112(51):15696-15700. [10.1073/pnas.1519905112](https://doi.org/10.1073/pnas.1519905112)\n",
    "- Slon, V. et al. 2017. *Sci. Adv.* 3:e1700186. [10.1126/sciadv.1700186](https://doi.org/10.1126/sciadv.1700186)\n"
   ]
  }
 ],
 "metadata": {
  "kernelspec": {
   "display_name": "R",
   "language": "R",
   "name": "ir"
  },
  "language_info": {
   "codemirror_mode": "r",
   "file_extension": ".r",
   "mimetype": "text/x-r-source",
   "name": "R",
   "pygments_lexer": "r",
   "version": "4.3.2"
  }
 },
 "nbformat": 4,
 "nbformat_minor": 5
}
