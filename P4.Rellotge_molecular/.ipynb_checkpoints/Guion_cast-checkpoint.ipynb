{
 "cells": [
  {
   "cell_type": "markdown",
   "id": "8e47767e-7bfc-468a-9d4b-2191cab49281",
   "metadata": {},
   "source": [
    "# Práctica con ordenador 4. Filogenia mitocondrial de homínidos modernos y arcaicos\n",
    "## Preparación del ordenador\n",
    "En esta práctica utilizaremos los paquetes `phangorn`, `Biostrings` y `pegas`. Si no están instalados en tu ordenador, ejecuta las órdenes siguientes en un terminal:\n",
    "\n",
    "> `install.packages('phangorn')`\n",
    "\n",
    "> `install.packages('BiocManager')`\n",
    "\n",
    "> `BiocManager::install('DECIPHER')`\n",
    "\n",
    "> `install.packages('pegas')`\n",
    "\n",
    "Y a continuación, cárgalos:"
   ]
  },
  {
   "cell_type": "code",
   "execution_count": 26,
   "id": "e6260ec5-98cb-473e-8c99-d77bf70b6c7b",
   "metadata": {},
   "outputs": [],
   "source": [
    "suppressMessages(library('phangorn'))\n",
    "suppressMessages(library('DECIPHER'))\n",
    "suppressMessages(library('pegas'))"
   ]
  },
  {
   "cell_type": "markdown",
   "id": "fc76036a-e6df-497e-aa7a-6fe36bb93d21",
   "metadata": {},
   "source": [
    "## Introducción\n",
    "En la web [http://www.phylotree.org](http://www.phylotree.org) se acumulan más de 24000 secuencias completas de ADN mitocondrial humano. Toda la diversidad genética mitocondrial de las poblaciones humanas actuales puede clasificarse en unos pocos haplotipos principales, la filogenia de los cuales se reproduce en la figura siguiente:\n",
    "\n",
    "![](phylotree.png)\n",
    "\n",
    "El objetivo de esta práctica es utilizar los datos de ADN mitocondrial para estudiar las relaciones filogenéticas entre humanos actuales y algunos de nuestros parientes más próximos, como los neandertales y los denisovanos. Además, aplicaremos la teoría de coalescencia a datos para extraer información sobre las diferentes poblaciones de homínidos.\n",
    "\n",
    "Los datos se encuentran en el archivo `mtDNA.fasta` y son un alineamiento de los cromosomas mitocondriales completos de 9 humanos modernos, 19 neandertales, 4 denisovanos, un *Homo heidelbergensis*, 4 bonobos (*Pan paniscus*), 4 chimpancés (*Pan troglodytes*) y un gorila (que nos servirá de *outgroup*).\n",
    "\n",
    "## Reconstrucción filogenética y calibrado del reloj molecular\n",
    "Igual que en la práctica anterior, el bloque de código siguiente carga las secuencias (ya alineadas) en la sesión de trabajo, y las muestra en una pestaña nueva del navegador:"
   ]
  },
  {
   "cell_type": "code",
   "execution_count": 27,
   "id": "c296342a-e3fd-4803-a322-a9fe504785c4",
   "metadata": {},
   "outputs": [],
   "source": [
    "mtDNA <- readDNAStringSet('mtDNA.fasta')\n",
    "BrowseSeqs(mtDNA, htmlFile = 'mtDNA.html', openURL = TRUE)"
   ]
  },
  {
   "cell_type": "markdown",
   "id": "37742956-59ac-4e43-9161-bad5f670f817",
   "metadata": {},
   "source": [
    "Para reconstruir la filogenia de las secuencias podemos estimar las distancias genéticas entre ellas con un modelo de evolución molecular y aplicar el algoritmo *neighbor joining*, que es eficiente y suficientemente preciso. Observa que la función que estima las distancias `dist.dna()`, exige que transformemos primero el alineamiento en un objeto de tipo `DNAbin`:"
   ]
  },
  {
   "cell_type": "code",
   "execution_count": null,
   "id": "b6efd943-02aa-41d3-8dca-3976a7924165",
   "metadata": {},
   "outputs": [],
   "source": [
    "options(repr.plot.width = 12, repr.plot.height = 10)\n",
    "mtDNAb <- as.DNAbin(mtDNA)\n",
    "distancias <- dist.dna(mtDNAb, model = 'K81')\n",
    "arbol <- NJ(distancias)\n",
    "plot(arbol)"
   ]
  },
  {
   "cell_type": "markdown",
   "id": "6f1377c9-8350-43ab-8125-f5601af08294",
   "metadata": {},
   "source": [
    "El *neighbor-joining* produce árboles *no enraizados*. Para visualizar el árbol más correctamente podemos indicar que la secuencia del gorila (*G.gorilla_D38114*) es el *outgroup*."
   ]
  },
  {
   "cell_type": "code",
   "execution_count": null,
   "id": "4e416eac-05ce-4490-ab3c-c31477ea8f7b",
   "metadata": {},
   "outputs": [],
   "source": [
    "arbol <- root(arbol, outgroup = 'G.gorilla_D38114', resolve.root = TRUE)\n",
    "plot(arbol)\n",
    "axisPhylo()"
   ]
  },
  {
   "cell_type": "markdown",
   "id": "ef80fad5-c318-4cf2-9fa1-24df05b4f5ec",
   "metadata": {},
   "source": [
    "Al enraizar el árbol, las ramas aparecen *orientadas*: el tiempo avanza desde la raíz hacia las puntas (u *hojas*). Pero el árbol todavía no es ultramétrico: la distancia (número de sustituciones por nucleótido) desde la raíz hasta cualquiera de las hojas no es siempre la misma. Hay al menos dos buenos motivos para que no sea ultramétrico. En primer lugar, el punto exacto de enraizamiento del árbol es arbitrario. Dentro de la rama que separa el *outgroup*, la función `root()` podía haber elegido un punto más a la derecha, para alinear mejor el gorila con las demás hojas del árbol. En segundo lugar, no todas las secuencias son contemporáneas y, por tanto, no todas tienen que haber acumulado la misma cantidad de cambios desde la raíz. Podemos intentar solucionar estos dos problemas con la función `rtt()` del paquete `ape` (cargado automáticamente con `phangorn`). En el bloque siguiente, `rtt()` fija la raíz del árbol en la posición más compatible posible con la hipótesis del **reloj molecular** y teniendo en cuenta la edad estimada de las secuencias, de acuerdo con la información recogida del apéndice. "
   ]
  },
  {
   "cell_type": "code",
   "execution_count": null,
   "id": "301b1165-cb94-499b-8033-b681f7fd9d4f",
   "metadata": {},
   "outputs": [],
   "source": [
    "tipDates <- c(0, 0, 0, 0, 0, 0, 0, 0, 0,\n",
    "              -400000,\n",
    "              -39000, -50000, -110000, -110000,\n",
    "              -39820, -40096, -38515, -38310, -39000, -40000, -41210,\n",
    "              -42430, -42540, -43230, -43780, -44290, -44770, -49000,\n",
    "              -50000, -82752, -65000, -122287, -110450,\n",
    "              0, 0, 0, 0, 0, 0, 0, 0, 0)\n",
    "              \n",
    "arbol <- rtt(arbol, tip.dates = tipDates, objective = 'rms')\n",
    "plot(arbol, x.lim = 0.08, label.offset = 0.001)\n",
    "axisPhylo()"
   ]
  },
  {
   "cell_type": "markdown",
   "id": "dd788795-58f4-46de-95af-7c282544982b",
   "metadata": {},
   "source": [
    "Las longitudes de las ramas del árbol representan el número estimado de cambios nucleotídicos acumulados en cada rama. Si sumáramos las longitudes de las ramas que separan las dos hojas, encontraríamos un valor muy similar a la distancia estimada antes con la función `dist.dna()`.\n",
    "\n",
    "Si los cambios nucleotídicos se acumularan exactamente al mismo ritmo en todas las ramas (hipótesis del reloj molecular) y si las hubiésemos estimado sin error, entonces las longitudes de las ramas serían *también* proporcionales al tiempo transcurrido, y podríamos datar los ancestros (o nodos internos) a partir de su profundidad en el árbol.\n",
    "\n",
    "La función `estimate.dates()` utiliza las fechas conocidas para estimar las edades o fechas del resto de nodos de un árbol enraizado. Para facilitar la tarea, le proporcionaremos un vector con con las edades, no sólo de las hujas del árbol (42 primeros nodos), sino también del ancestro común más reciente entre humanos y chimpancés (nodo 44 del árbol): 6.5 millones de años, aproximadamente."
   ]
  },
  {
   "cell_type": "code",
   "execution_count": null,
   "id": "a03cbcbf-c4b6-4079-9042-b0976b07ba59",
   "metadata": {},
   "outputs": [],
   "source": [
    "nodeDates <- rep(NA, 83)\n",
    "nodeDates[1:42] <- tipDates\n",
    "nodeDates[44] <- -6500000\n",
    "edadesEstimadas <- estimate.dates(arbol, node.dates = nodeDates)\n",
    "round(edadesEstimadas,0)"
   ]
  },
  {
   "cell_type": "code",
   "execution_count": null,
   "id": "9049461c-e674-4550-8f77-9abd2e8efcc9",
   "metadata": {},
   "outputs": [],
   "source": [
    "par(mar = c(5,5,0,0))\n",
    "plot(arbol, x.lim = c(-0.0015, 0.08), label.offset = 0.001)\n",
    "nodelabels(round(edadesEstimadas[43:83],0),\n",
    "           frame = 'none', cex = 0.7, adj = c(1.1, -0.2))\n",
    "axisPhylo()"
   ]
  },
  {
   "cell_type": "markdown",
   "id": "677b3e3d-e4d9-4aaf-8044-f150aa33fa96",
   "metadata": {},
   "source": [
    "## Tamaño poblacional efectivo\n",
    "Contesta las preguntas siguientes. Puedes hacerlo sobre este mismo documento haciendo doble click en el bloque de texto correspondiente.\n",
    "\n",
    "1. ¿Cuál es la edad que se le atribuye al ancestro común más reciente de las 9 muestras humanas? ¿Y al ancestro común más reciente de las muestras de neandertales?"
   ]
  },
  {
   "cell_type": "markdown",
   "id": "404b3a1c-52b9-46dc-9895-aaaab6fea24e",
   "metadata": {},
   "source": []
  },
  {
   "cell_type": "markdown",
   "id": "2912b249-08ee-4399-a473-b03ab9e65176",
   "metadata": {},
   "source": [
    "2. Asumiendo un tiempo de generación de 20 años, ¿cuántas generaciones atrás vivió el ancestro común más reciente de las 9 muestras de humanos modernos?"
   ]
  },
  {
   "cell_type": "markdown",
   "id": "ae74811d-bb80-4a0f-8614-ede92288c451",
   "metadata": {},
   "source": []
  },
  {
   "cell_type": "markdown",
   "id": "da4e170c-61fd-466f-a222-06f0c6a87a07",
   "metadata": {},
   "source": [
    "3. Asumiendo el mismo tiempo de generación y suponiendo que los 19 neandertales vivieron hace 53550 años ¿cuántas generaciones los separan de su ancestro común más reciente?"
   ]
  },
  {
   "cell_type": "markdown",
   "id": "c8d2d3ec-d9c3-4bef-8d09-72e5adb3423a",
   "metadata": {},
   "source": []
  },
  {
   "cell_type": "markdown",
   "id": "7b88e86e-bb3a-41c4-bec9-6ef4525f38f7",
   "metadata": {},
   "source": [
    "4. De acuerdo con la teoría de coalescencia, el ancestro común más reciente de una muestra aleatoria de *n* secuencias *haploides* de una población de tamaño constante esperamos encontrarlo, de media, casi tantas generaciones atrás como dos veces el número de individuos *efectivos*. Es decir, $E(H_n)\\approx 2N_e$. De acuerdo con esto, ¿cuáles serían los tamaños poblacionales efectivos de los humanos modernos, los neandertales y los denisovanos, los chimpancés y los bonobos? Continuamos asumiendo un tiempo de generación de 20 años."
   ]
  },
  {
   "cell_type": "markdown",
   "id": "3a26b9aa-532c-40c1-a7f9-d54ed74d7943",
   "metadata": {},
   "source": []
  },
  {
   "cell_type": "markdown",
   "id": "b0ec27c5-b593-46ae-b897-12ca5ee2d3d8",
   "metadata": {},
   "source": [
    "## Tasa de mutación mitocondrial\n",
    "El tamaño poblacional efectivo y la tasa de mutación $\\mu$ determinan juntas la diversidad genética de una población, mediante el parámetro $\\theta = 4N_e\\mu$, en diploides, o $\\theta = 2N_e\\mu$, en haploides. La diversidad la podemos medir como $\\pi$, la proporción media de diferencias nucleotídicas entre dos secuencias elagidas al azar en la población, o como la proporción $S$ del total de posiciones variables $s$ de un alineamiento de longitud $L$ de *n* secuencias aleatoriamente elegidas en la población ($S=s/L$). Las esperanzas teóricas de estas medidas son $E(\\pi)=\\theta$ y $E(S)=\\theta\\sum_{i=1}^{n-1}\\frac{1}{i}$, donde $\\theta$ es $2N_e\\mu$ en haploides.\n",
    "\n",
    "El código siguiente examina el alineamiento original y extrae el número de sitios variables entre las secuencias de humanos modernos:"
   ]
  },
  {
   "cell_type": "code",
   "execution_count": 31,
   "id": "c01f32d3-67f4-415a-bde1-0fa2da3ed4de",
   "metadata": {},
   "outputs": [
    {
     "data": {
      "text/html": [
       "413"
      ],
      "text/latex": [
       "413"
      ],
      "text/markdown": [
       "413"
      ],
      "text/plain": [
       "[1] 413"
      ]
     },
     "metadata": {},
     "output_type": "display_data"
    }
   ],
   "source": [
    "length(seg.sites(mtDNAb[startsWith(names(mtDNAb), 'P.troglodytes')]))"
   ]
  },
  {
   "cell_type": "markdown",
   "id": "1c87a0b2-346a-4231-8447-8389b564d7c7",
   "metadata": {},
   "source": [
    "5. Siguiendo el comando anterior, encuentra el número de sitios segregantes entre las secuencias de cada población."
   ]
  },
  {
   "cell_type": "code",
   "execution_count": null,
   "id": "61694390-ee66-448a-b0bc-bf44acf3c4a6",
   "metadata": {},
   "outputs": [],
   "source": []
  },
  {
   "cell_type": "markdown",
   "id": "4678569d-4717-4719-8740-08c77392b6a6",
   "metadata": {},
   "source": [
    "6. Teniendo en cuenta que el alineamiento es de 16603 posiciones, utiliza la proporción de sitios variables y las estimaciones previas de tamaño poblacional para estimar la tasa de mutación mitocondrial en cada población."
   ]
  },
  {
   "cell_type": "code",
   "execution_count": null,
   "id": "c2de211a-7c74-4436-8793-3d72863e6872",
   "metadata": {},
   "outputs": [],
   "source": []
  },
  {
   "cell_type": "markdown",
   "id": "19d1f954-2b0e-4cc5-a106-d426958386dd",
   "metadata": {},
   "source": [
    "El parámetro $\\pi$ de cada población se puede obtener con la función `nuc.div()` del paquete `pegas`. En el bloque siguiente se estima el $\\pi$ de los chimpancés:"
   ]
  },
  {
   "cell_type": "code",
   "execution_count": 32,
   "id": "1023f9bc-1dc2-4f23-ba16-d20babeaef7d",
   "metadata": {},
   "outputs": [
    {
     "data": {
      "text/html": [
       "0.00353324877695235"
      ],
      "text/latex": [
       "0.00353324877695235"
      ],
      "text/markdown": [
       "0.00353324877695235"
      ],
      "text/plain": [
       "[1] 0.003533249"
      ]
     },
     "metadata": {},
     "output_type": "display_data"
    }
   ],
   "source": [
    "nuc.div(mtDNAb[startsWith(names(mtDNAb), 'H.s.denisova')])"
   ]
  },
  {
   "cell_type": "markdown",
   "id": "d456c6a7-1ad3-4512-9584-37dfb5a28a50",
   "metadata": {},
   "source": [
    "7. Siguiendo el modelo, estima tú los valores de $\\pi$ para el resto de poblaciones."
   ]
  },
  {
   "cell_type": "code",
   "execution_count": null,
   "id": "76615793-51b0-40a6-893a-d0be2d118b4a",
   "metadata": {},
   "outputs": [],
   "source": []
  },
  {
   "cell_type": "markdown",
   "id": "64598769-044c-4c3f-bb4b-6df40b5f0881",
   "metadata": {},
   "source": [
    "8. Estima de nuevo las tasas de mutación mitocondriales de cada población, pero ahora a partir de los valores estimados de $\\pi$. ¿Cómo se comparan los valores?"
   ]
  },
  {
   "cell_type": "code",
   "execution_count": null,
   "id": "719ed145-f663-4723-a8c6-d003c39c1a45",
   "metadata": {},
   "outputs": [],
   "source": []
  },
  {
   "cell_type": "markdown",
   "id": "611fc2ec-ae48-48ed-a851-d36bc8682d5a",
   "metadata": {},
   "source": [
    "9. A partir de la datación de los nodos del árbol, también se puede estimar la tasa de mutación media de todo el árbol. Ejecuta el comando siguiente y observa cómo se compara con las tasas de mutación que has estimado previamente. ¿Sabrías decir en qué unidades están las tasas de mutación?"
   ]
  },
  {
   "cell_type": "code",
   "execution_count": 34,
   "id": "6d70536d-c572-4cbf-b090-b077b5927c22",
   "metadata": {},
   "outputs": [
    {
     "data": {
      "text/html": [
       "6.89501365311193e-09"
      ],
      "text/latex": [
       "6.89501365311193e-09"
      ],
      "text/markdown": [
       "6.89501365311193e-09"
      ],
      "text/plain": [
       "[1] 6.895014e-09"
      ]
     },
     "metadata": {},
     "output_type": "display_data"
    }
   ],
   "source": [
    "estimate.mu(arbol, nodeDates)"
   ]
  },
  {
   "cell_type": "markdown",
   "id": "b3500b83-465f-4895-8229-214d346d1e8f",
   "metadata": {},
   "source": [
    "# Apéndice\n",
    "\n",
    " |   Especie         |  Nº de acceso   |    Edad (años) |   Referencia          |  Nombre              |\n",
    " | ----------------- | --------------- | -------------- | --------------------- | -------------------- |\n",
    " | H.heidelbergensis |     NC_023100   |     400.000    | Meyer et al. 2014     | -                    |\n",
    " | H.s.denisova      |     NC_013993   |  30.000-48.000 | Krause et al. 2010    | Denisova 3 (falange) |\n",
    " | H.s.denisova      |     FR695060    |     >50.000?   | Reich et al. 2010     | Denisova 4 (molar)   |\n",
    " | H.s.denisova      |     KX663333    |     >100.000   | Slon et al. 2017      | Denisova 2 (dent)    |\n",
    " | H.s.denisova      |     KT780370    |     110.000?   | Sawyer et al. 2015    | Denisova 8 (molar)   |\n",
    " | H.s.neandertal    |     KX198085    |  32.697-46.942 | Posth et al. 2017     | GoyetQ374a-1         |\n",
    " | H.s.neandertal    |     KX198086    |  33.134-47.057 | Posth et al. 2017     | GoyetQ305-7          |\n",
    " | H.s.neandertal    |     MG025538    |  37.880-39.150 | Hajdinjak et al. 2018 | Spy-94a              |\n",
    " | H.s.neandertal    |     NC_011137   |      38.310    | Green et al. 2008     | Vindija 33.16        |\n",
    " | H.s.neandertal    |     FM865409    |      39.000    | Briggs et al. 2009    | Sidron 1253          |\n",
    " | H.s.neandertal    |     FM865407    |      40.000    | Briggs et al. 2009    | Feldhofer 1          |\n",
    " | H.s.neandertal    |     KX198088    |  40.620-41.800 | Rougier et al. 2016   | GoyetQ57-2           |\n",
    " | H.s.neandertal    |     KX198083    |  41.960-42.900 | Rougier et al. 2016   | GoyetQ57-3           |\n",
    " | H.s.neandertal    |     MG025540    |  42.080-43.000 | Hajdinjak et al. 2018 | GoyetQ56-1           |\n",
    " | H.s.neandertal    |     MG025536    |  42.720-43.740 | Hajdinjak et al. 2018 | Les Cottés Z4-1514   |\n",
    " | H.s.neandertal    |     MG025537    |  42.960-44.600 | Hajdinjak et al. 2018 | Mezmaiskaya2         |\n",
    " | H.s.neandertal    |     KX198087    |  43.430-45.150 | Rougier et al. 2016   | GoyetQ305-4          |\n",
    " | H.s.neandertal    |     KX198082    |  43.910-45.630 | Rougier et al. 2016   | GoyetQ57-1           |\n",
    " | H.s.neandertal    |     FM865408    |      49.000    | Briggs et al. 2009    | Feldhofer 2          |\n",
    " | H.s.neandertal    |     KU131206    |      >50.000   | Brown et al. 2016     | DC1227               |\n",
    " | H.s.neandertal    |     KF982693    | 56.213-109.290 | Posth et al. 2017     | Okladnikov2          |\n",
    " | H.s.neandertal    |     FM865411    |  60.000-70.000 | Briggs et al. 2009    | Mezmaiskaya1         |\n",
    " | H.s.neandertal    |     KY751400    | 62.013-182.560 | Posth et al. 2017     | HST                  |\n",
    " | H.s.neandertal    |     MK033602    | 90.900-130.000 | Douka et al. 2019     | Denisova15           |\n",
    "\n",
    "## Bibliography\n",
    "\n",
    "- Briggs, A.W. et al. 2009. *Science* 325(5938):318-21. [10.1126/science.1174462](https://doi.org/10.1126/science.1174462)\n",
    "- Brown, S. et al. 2016. *Sci. Rep.* 6:23559. [10.1038/srep23559](https://doi.org/10.1038/srep23559)\n",
    "- Douka, K. et al. 2019. *Nature* 565:640-644. [10.1038/s41586-018-0870-z](https://doi.org/10.1038/s41586-018-0870-z)\n",
    "- Green, R.E. et al. 2008. *Cell* 134(3):416-426. [10.1016/j.cell.2008.06.021](https://doi.org/10.1016/j.cell.2008.06.021)\n",
    "- Hajdinjak, M. et al. 2018. *Nature* 555(7698):652-656. [10.1038/nature26151](https://doi.org/10.1038/nature26151)\n",
    "- Krause, J. et al.2010. *Nature* 464(7290):894-897 [10.1038/nature08976](https://doi.org/10.1038/nature08976)\n",
    "- Meyer, M. et al. 2014. *Nature* 505(7483):403-406. [10.1038/nature12788](https://doi.org/10.1038/nature12788)\n",
    "- Posth, C. et al. 2017. *Nat. Commun.* 8:16046. [10.1038/ncomms16046](https://doi.org/10.1038/ncomms16046)\n",
    "- Reich, D. et al. 2010. *Nature* 468(7327):1053-60. [10.1038/nature09710](https://doi.org/10.1038/nature09710)\n",
    "- Rougier, H. et al. 2016. *Sci. Rep.* 6:29005. [10.1038/srep29005](https://doi.org/10.1038/srep29005)\n",
    "- Skoglund, P. et al. 2014. *Proc. Natl. Acad. Sci. U.S.A* 111(6):2229-2234. [10.1073%2Fpnas.1318934111](https://doi.org/10.1073%2Fpnas.1318934111)\n",
    "- Sawyer, S. et al. 2015. *Proc. Natl. Acad. Sci. U.S.A.* 112(51):15696-15700. [10.1073/pnas.1519905112](https://doi.org/10.1073/pnas.1519905112)\n",
    "- Slon, V. et al. 2017. *Sci. Adv.* 3:e1700186. [10.1126/sciadv.1700186](https://doi.org/10.1126/sciadv.1700186)\n"
   ]
  },
  {
   "cell_type": "code",
   "execution_count": null,
   "id": "71d509df-6cba-4d8d-ac39-dd74fac634b6",
   "metadata": {},
   "outputs": [],
   "source": []
  }
 ],
 "metadata": {
  "kernelspec": {
   "display_name": "R",
   "language": "R",
   "name": "ir"
  },
  "language_info": {
   "codemirror_mode": "r",
   "file_extension": ".r",
   "mimetype": "text/x-r-source",
   "name": "R",
   "pygments_lexer": "r",
   "version": "4.3.3"
  }
 },
 "nbformat": 4,
 "nbformat_minor": 5
}
